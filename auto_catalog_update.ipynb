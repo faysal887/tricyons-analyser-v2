{
  "cells": [
    {
      "cell_type": "markdown",
      "metadata": {
        "id": "kXivR4vfqU3k"
      },
      "source": [
        "# Imports"
      ]
    },
    {
      "cell_type": "code",
      "execution_count": 2,
      "metadata": {
        "id": "Mq7cXGpRqU3n"
      },
      "outputs": [],
      "source": [
        "%reload_ext autoreload\n",
        "%autoreload 2\n",
        "\n",
        "import requests\n",
        "\n",
        "\n",
        "\n",
        "import warnings\n",
        "warnings.filterwarnings(\"ignore\")\n",
        "# import warnings\n",
        "\n",
        "# def fxn():\n",
        "#     warnings.warn(\"deprecated\", DeprecationWarning)\n",
        "\n",
        "# with warnings.catch_warnings():\n",
        "#     warnings.simplefilter(\"ignore\")\n",
        "#     fxn()\n",
        "\n",
        "import smtplib\n",
        "from email.mime.multipart import MIMEMultipart\n",
        "from email.mime.text import MIMEText\n",
        "from email.utils import formataddr\n",
        "\n",
        "import pandas as pd\n",
        "import time, requests, csv, json\n",
        "from datetime import datetime\n",
        "pd.set_option('display.max_columns', 100)\n",
        "pd.set_option('display.max_rows', 20000)\n",
        "pd.set_option('display.max_colwidth', -1)\n",
        "\n",
        "import sys, os, shutil, pdb\n",
        "sys.path.insert(1, '/Users/muhammadfaisal/Documents/')\n",
        "\n",
        "\n",
        "from pathlib import Path\n",
        "import urllib.request\n",
        "\n",
        "import ipywidgets as widgets\n",
        "from ipywidgets import interact, interact_manual\n",
        "from IPython.display import display, clear_output\n",
        "from bs4 import BeautifulSoup\n",
        "\n",
        "\n",
        "\n",
        "\n",
        "from pydrive.auth import GoogleAuth\n",
        "from pydrive.drive import GoogleDrive\n",
        "\n",
        "try: # running remotely\n",
        "    from google.colab import drive \n",
        "except: # running locally\n",
        "    from utils import *\n",
        "    from engine import GDrive\n"
      ]
    },
    {
      "cell_type": "code",
      "execution_count": 19,
      "metadata": {
        "id": "tk13T7qngmEx"
      },
      "outputs": [],
      "source": [
        "# %pip install tabula-py"
      ]
    },
    {
      "cell_type": "markdown",
      "metadata": {
        "id": "CG9Ot9JyqU3o"
      },
      "source": [
        "# Local VS Remote"
      ]
    },
    {
      "cell_type": "code",
      "execution_count": 20,
      "metadata": {
        "id": "gZY7Al7jqU3p"
      },
      "outputs": [],
      "source": [
        "def download_scripts():\n",
        "    # downloading utils and engine scripts from github\n",
        "    r=requests.get(\"https://raw.githubusercontent.com/faysal887/tricyons-analyser-v2/master/engine.py\")\n",
        "    with open('engine.py', 'w') as f: f.write(r.content.decode(\"utf-8\"))\n",
        "\n",
        "    r=requests.get(\"https://raw.githubusercontent.com/faysal887/tricyons-analyser-v2/master/utils.py\")\n",
        "    with open('utils.py', 'w') as f: f.write(r.content.decode(\"utf-8\"))"
      ]
    },
    {
      "cell_type": "code",
      "execution_count": 21,
      "metadata": {
        "colab": {
          "base_uri": "https://localhost:8080/"
        },
        "id": "jqugD3eIqU3p",
        "outputId": "662aa2b6-be09-4060-b38b-ecd75af44e50"
      },
      "outputs": [
        {
          "name": "stdout",
          "output_type": "stream",
          "text": [
            "Drive already mounted at /content/drive; to attempt to forcibly remount, call drive.mount(\"/content/drive\", force_remount=True).\n",
            "running on collab\n",
            "Drive already mounted at /content/drive; to attempt to forcibly remount, call drive.mount(\"/content/drive\", force_remount=True).\n",
            "https://accounts.google.com/o/oauth2/auth?client_id=454591216913-28jl16cqrsojhifrtmopf0ts9mb4281t.apps.googleusercontent.com&redirect_uri=http%3A%2F%2Flocalhost&scope=https%3A%2F%2Fwww.googleapis.com%2Fauth%2Fdrive&access_type=offline&response_type=code\n",
            "Enter redirect urlhttp://localhost/?code=4/0AVHEtk6x12k5OcZkqF8pe0fUVUnpzR0YCLLI1sqImPERYA5FTNZ8p11u_qtHggYJzKPpqA&scope=https://www.googleapis.com/auth/drive\n",
            "Authentication successful.\n"
          ]
        }
      ],
      "source": [
        "'''\n",
        "checking whether the code is running on local machine or on collab\n",
        "'''\n",
        "\n",
        "LOCAL=None # running code locally or remotely\n",
        "try:\n",
        "    drive.mount('/content/drive')\n",
        "\n",
        "    GoogleAuth.DEFAULT_SETTINGS['client_config_file'] = '/content/drive/MyDrive/Colab Notebooks/client_secrets.json'\n",
        "    gauth = GoogleAuth()\n",
        "    gauth.GetAuthUrl()\n",
        "    print('running on collab')\n",
        "    LOCAL=False\n",
        "except Exception as e:\n",
        "    print(e)\n",
        "    print('running locally')\n",
        "    LOCAL=True\n",
        "\n",
        "\n",
        "if LOCAL: # running locally\n",
        "    try:\n",
        "        if g: print('GDrive already connected!')\n",
        "    except: \n",
        "        g=GDrive()\n",
        "        print('created new connection!')\n",
        "else: # running remotely\n",
        "    drive.mount('/content/drive')\n",
        "\n",
        "    GoogleAuth.DEFAULT_SETTINGS['client_config_file'] = '/content/drive/MyDrive/Colab Notebooks/client_secrets.json'\n",
        "    gauth = GoogleAuth()\n",
        "    print(gauth.GetAuthUrl())\n",
        "    redirect_url=input('Enter redirect url')\n",
        "    code=redirect_url.split('code=')[1].split('&scope=')[0]\n",
        "    gauth.Authenticate(code)\n",
        "    download_scripts()\n",
        "    from utils import *\n",
        "    from engine import GDrive\n",
        "    g=GDrive(gauth)\n",
        "\n"
      ]
    },
    {
      "cell_type": "markdown",
      "metadata": {
        "id": "aIafPi4rqU3q"
      },
      "source": [
        "# Download Catalogs"
      ]
    },
    {
      "cell_type": "code",
      "execution_count": 22,
      "metadata": {
        "id": "FqaNeCBMqU3q"
      },
      "outputs": [],
      "source": [
        "TMP_DIR='./tmp'\n",
        "try: shutil.rmtree(TMP_DIR)\n",
        "except: pass"
      ]
    },
    {
      "cell_type": "code",
      "execution_count": 23,
      "metadata": {
        "colab": {
          "base_uri": "https://localhost:8080/"
        },
        "id": "AoDZ5DlLqU3r",
        "outputId": "53b8f50c-90af-407e-c1bc-116ae32f882f"
      },
      "outputs": [
        {
          "name": "stdout",
          "output_type": "stream",
          "text": [
            "done 1\n",
            "(41, 16)\n",
            "done 2\n"
          ]
        }
      ],
      "source": [
        "# main\n",
        "\n",
        "tmp_dir='./tmp'\n",
        "merged_dir=f'{tmp_dir}/merged'\n",
        "online_catalogs=f'{tmp_dir}/online_catalogs'\n",
        "gdrive_catalogs=f'{tmp_dir}/gdrive_catalogs'\n",
        "\n",
        "# 1. create /tmp if not\n",
        "Path(tmp_dir).mkdir(parents=True, exist_ok=True)\n",
        "Path(merged_dir).mkdir(parents=True, exist_ok=True)\n",
        "Path(online_catalogs).mkdir(parents=True, exist_ok=True)\n",
        "Path(gdrive_catalogs).mkdir(parents=True, exist_ok=True)\n",
        "print('done 1')\n",
        "\n",
        "# 2. download excel sheet for links and emails \n",
        "tree=['Supplier Catalogues', 'AUTOMATION', 'Brands For Auto-Email']\n",
        "folder_id=g.find_gdrive_folder_id(tree=tree, folder_id='root')\n",
        "g.download_files(folder_id, tmp_dir)\n",
        "\n",
        "linksdf=pd.read_excel(f'{tmp_dir}/Catalogs Link.xlsx')\n",
        "# data=linksdf.dropna(subset=['Link'], axis=0)\n",
        "data=strip_column_names(linksdf)\n",
        "print(data.shape)\n",
        "print('done 2')\n",
        "\n"
      ]
    },
    {
      "cell_type": "code",
      "execution_count": 24,
      "metadata": {
        "colab": {
          "base_uri": "https://localhost:8080/"
        },
        "id": "ssOHj3ScqU3r",
        "outputId": "9ffe4c64-4929-4fe7-a392-9476b766cfe1"
      },
      "outputs": [
        {
          "name": "stdout",
          "output_type": "stream",
          "text": [
            "(24, 16)\n",
            "Invalid URL '/export?format=csv': No scheme supplied. Perhaps you meant http:///export?format=csv?\n",
            "\n",
            " ************************************************* \n",
            "\n",
            "Error Catalogs:  {'epilsonwholesale': Exception('Catalog Empty'), 'kntradingllc': Exception('Catalog Empty'), 'ecomwholesaledeals': Exception('Catalog Empty')}\n",
            "\n",
            " ************************************************* \n",
            "\n",
            "done 3\n"
          ]
        }
      ],
      "source": [
        "# 3. download excel catalogs\n",
        "df=data[(data.Active==True) & (data.Type=='LINK')]\n",
        "print(df.shape)\n",
        "catalogs=download_online_excel_catalogs(df, online_catalogs, test_catalogs=[])\n",
        "print('done 3') "
      ]
    },
    {
      "cell_type": "code",
      "execution_count": null,
      "metadata": {
        "colab": {
          "base_uri": "https://localhost:8080/"
        },
        "id": "S9y9QXq0qU3s",
        "outputId": "0e843da7-1928-47f8-8585-50f3bd04a69b"
      },
      "outputs": [
        {
          "name": "stdout",
          "output_type": "stream",
          "text": [
            "done 4\n"
          ]
        }
      ],
      "source": [
        "# 4. delete existing supplier folders\n",
        "tree_base=['Supplier Catalogues', 'AUTOMATION', 'Catalogs_ALL']\n",
        "df.Distributor.apply(lambda x: g.delete_by_name(tree_base+[x]))\n",
        "print('done 4')"
      ]
    },
    {
      "cell_type": "code",
      "execution_count": null,
      "metadata": {
        "colab": {
          "base_uri": "https://localhost:8080/"
        },
        "id": "VqccYv2VqU3s",
        "outputId": "89535a25-ba10-441a-b972-00b7533580fc"
      },
      "outputs": [
        {
          "name": "stdout",
          "output_type": "stream",
          "text": [
            "done 5\n",
            "done 6\n"
          ]
        }
      ],
      "source": [
        "# 5. create new supplier folders\n",
        "tree=['Supplier Catalogues', 'AUTOMATION', 'Catalogs_ALL']\n",
        "parent_folder_id=g.find_gdrive_folder_id(tree=tree, folder_id='root')\n",
        "df['folder_id'] = df.Distributor.apply(lambda x: g.create_folder(parent_folder_id, x))\n",
        "print('done 5')\n",
        "\n",
        "\n",
        "# 6. create folder for catalog in supplier folder\n",
        "df['catalog_folder_id'] = df.folder_id.apply(lambda x: g.create_folder(parent_folder_id=x, folder_name='catalog'))\n",
        "print('done 6')\n",
        "\n"
      ]
    },
    {
      "cell_type": "code",
      "execution_count": null,
      "metadata": {
        "colab": {
          "base_uri": "https://localhost:8080/"
        },
        "id": "CqW3rroKqU3s",
        "outputId": "cffd64e9-8977-4f85-eb41-1c2041ee1cda"
      },
      "outputs": [
        {
          "name": "stdout",
          "output_type": "stream",
          "text": [
            "done 7\n"
          ]
        }
      ],
      "source": [
        "# 7. upload catalog\n",
        "# _ = df.apply(lambda x: g.upload_file(folder_id=x.catalog_folder_id, file_path=f'{online_catalogs}/{x.Distributor}.xlsx'), axis=1)\n",
        "for i, row in df.iterrows():\n",
        "    print(f'{i+1}/{len(df)}', end='\\r')\n",
        "    file_path=f'{online_catalogs}/{row.Distributor}.xlsx'\n",
        "    if os.path.exists(file_path):\n",
        "        g.upload_file(folder_id=row.catalog_folder_id, file_path=file_path)\n",
        "    \n",
        "print('done 7')\n",
        "\n",
        "\n",
        "# 8. delete /tmp\n",
        "# shutil.rmtree(tmp_dir)\n",
        "# print('done 8')"
      ]
    },
    {
      "cell_type": "code",
      "execution_count": 25,
      "metadata": {
        "colab": {
          "base_uri": "https://localhost:8080/"
        },
        "id": "M_3KbPdTqU3t",
        "outputId": "bc175673-b93d-4396-b718-adfee5abd720"
      },
      "outputs": [
        {
          "name": "stdout",
          "output_type": "stream",
          "text": [
            "(31, 16)\n"
          ]
        }
      ],
      "source": [
        "'''''''''''''''''''''''''''''''''''''''''''''''''''''''''''''''''''''''''''''''''''''''''''''''''''\n",
        "                                # PART-2: Start again with data #\n",
        "'''''''''''''''''''''''''''''''''''''''''''''''''''''''''''''''''''''''''''''''''''''''''''''''''''\n",
        "df=data[data.Active==True].copy()\n",
        "print(df.shape)"
      ]
    },
    {
      "cell_type": "code",
      "execution_count": 26,
      "metadata": {
        "colab": {
          "base_uri": "https://localhost:8080/"
        },
        "id": "dkrvon56qU3t",
        "outputId": "3093807a-bc73-40c5-c393-40bf84c38b2f"
      },
      "outputs": [
        {
          "name": "stdout",
          "output_type": "stream",
          "text": [
            "Error:  EpilsonWholesale can only convert an array of size 1 to a Python scalar\n",
            "Error:  GSCommodityTrading can only convert an array of size 1 to a Python scalar\n",
            "Error:  MinMaxDeals can only convert an array of size 1 to a Python scalar\n",
            "Error:  KNTradingLLC can only convert an array of size 1 to a Python scalar\n",
            "Error:  EcomWholesaleDeals can only convert an array of size 1 to a Python scalar\n",
            "done 8\n"
          ]
        }
      ],
      "source": [
        "\n",
        "\n",
        "# 8. for all the suppliers in catalogs_all, get their catalog folder_ids \n",
        "for i, row in df.iterrows():\n",
        "    try:\n",
        "        print(f'{i+1}/{len(df)}', end='\\r')\n",
        "        tree=['Supplier Catalogues', 'AUTOMATION', 'Catalogs_ALL', row.Distributor, 'catalog']\n",
        "        catalog_folder_id=g.find_gdrive_folder_id(tree=tree, folder_id='root')\n",
        "        df.loc[i, 'catalog_folder_id']=catalog_folder_id\n",
        "    except Exception as e:\n",
        "        print('Error: ', row['Distributor'], e)\n",
        "print('done 8')\n",
        "\n"
      ]
    },
    {
      "cell_type": "code",
      "execution_count": 27,
      "metadata": {
        "colab": {
          "base_uri": "https://localhost:8080/"
        },
        "id": "OtMXLBaLqU3t",
        "outputId": "7fcd430a-1e68-4430-d2c3-2c21b2015419"
      },
      "outputs": [
        {
          "name": "stdout",
          "output_type": "stream",
          "text": [
            "Error:  DPCIWholesale No downloadLink/exportLinks for mimetype found in metadata\n",
            "Error:  EpilsonWholesale <HttpError 404 when requesting https://www.googleapis.com/drive/v2/files?q=%27nan%27+in+parents+and+trashed%3Dfalse&maxResults=1000&alt=json returned \"File not found:\". Details: \"[{'message': 'File not found: ', 'domain': 'global', 'reason': 'notFound', 'location': 'file', 'locationType': 'other'}]\">\n",
            "Error:  GSCommodityTrading <HttpError 404 when requesting https://www.googleapis.com/drive/v2/files?q=%27nan%27+in+parents+and+trashed%3Dfalse&maxResults=1000&alt=json returned \"File not found:\". Details: \"[{'message': 'File not found: ', 'domain': 'global', 'reason': 'notFound', 'location': 'file', 'locationType': 'other'}]\">\n",
            "Error:  MinMaxDeals <HttpError 404 when requesting https://www.googleapis.com/drive/v2/files?q=%27nan%27+in+parents+and+trashed%3Dfalse&maxResults=1000&alt=json returned \"File not found:\". Details: \"[{'message': 'File not found: ', 'domain': 'global', 'reason': 'notFound', 'location': 'file', 'locationType': 'other'}]\">\n",
            "Error:  KNTradingLLC <HttpError 404 when requesting https://www.googleapis.com/drive/v2/files?q=%27nan%27+in+parents+and+trashed%3Dfalse&maxResults=1000&alt=json returned \"File not found:\". Details: \"[{'message': 'File not found: ', 'domain': 'global', 'reason': 'notFound', 'location': 'file', 'locationType': 'other'}]\">\n",
            "Error:  EcomWholesaleDeals <HttpError 404 when requesting https://www.googleapis.com/drive/v2/files?q=%27nan%27+in+parents+and+trashed%3Dfalse&maxResults=1000&alt=json returned \"File not found:\". Details: \"[{'message': 'File not found: ', 'domain': 'global', 'reason': 'notFound', 'location': 'file', 'locationType': 'other'}]\">\n",
            "done 9\n"
          ]
        }
      ],
      "source": [
        "# 9. loop on supplier folders id df and download all catalogs from gdrive\n",
        "# _ = df.catalog_folder_id.apply(lambda x: g.download_files(gdrive_folder_id=x, local_folder_path=gdrive_catalogs))\n",
        "\n",
        "for i, row in df[['Distributor','catalog_folder_id']].iterrows():\n",
        "    print(f'{i+1}/{len(df)}', end='\\r')\n",
        "\n",
        "    try:\n",
        "        dist, _id=row['Distributor'], row['catalog_folder_id']\n",
        "        g.download_files(gdrive_folder_id=_id, local_folder_path=gdrive_catalogs)\n",
        "    except Exception as e:\n",
        "        print('Error: ', dist, e)\n",
        "print('done 9')"
      ]
    },
    {
      "cell_type": "code",
      "execution_count": 28,
      "metadata": {
        "colab": {
          "base_uri": "https://localhost:8080/"
        },
        "id": "Xpzkc_3MqU3u",
        "outputId": "0326ed2b-41b9-4395-aeba-157e4b54644d"
      },
      "outputs": [
        {
          "name": "stdout",
          "output_type": "stream",
          "text": [
            "done 10\n"
          ]
        }
      ],
      "source": [
        "# 10. create new catalogs dict obj\n",
        "\n",
        "catalogs={}\n",
        "for i, fn in enumerate(os.listdir(gdrive_catalogs)):\n",
        "    print(f'{i+1}/{len(os.listdir(gdrive_catalogs))}', end='\\r')\n",
        "\n",
        "    if '.xlsx' in fn or 'xls' in fn: tmpdf=pd.read_excel(f'{gdrive_catalogs}/{fn}')\n",
        "    if '.csv'   in fn: tmpdf=pd.read_csv(f'{gdrive_catalogs}/{fn}')\n",
        "\n",
        "    fn=fn.split('.')[0]\n",
        "\n",
        "    catalogs[fn]=tmpdf\n",
        "    # catalogs[fn.replace('.xlsx','').replace('.csv','').replace('.csv','')]=tmpdf\n",
        "\n",
        "print('done 10')\n"
      ]
    },
    {
      "cell_type": "code",
      "execution_count": 16,
      "metadata": {
        "colab": {
          "base_uri": "https://localhost:8080/"
        },
        "id": "RB8HeEQuqU3u",
        "outputId": "d838bdba-d0dd-4d3e-cc9a-693efe6fd2cb"
      },
      "outputs": [
        {
          "name": "stdout",
          "output_type": "stream",
          "text": [
            "BGSales price column missing\n",
            "LvDistribution ASIN column missing\n",
            "LvDistribution Customer MOQ Cost column missing\n"
          ]
        }
      ],
      "source": [
        "# sanity checks to check all the required columns are present\n",
        "for name, tmpdf in catalogs.items():\n",
        "    # pdb.set_trace()\n",
        "    id_columns_name\t= df[df.Distributor==name].id_columns_name.item()\n",
        "    id_columns_type = df[df.Distributor==name].id_columns_type.item()\n",
        "    price_column    = df[df.Distributor==name].price_column.item()\n",
        "\n",
        "    if id_columns_name not in tmpdf.columns: print(f'{name} {id_columns_name} column missing')\n",
        "    if price_column not in tmpdf.columns: print(f'{name} {price_column} column missing')"
      ]
    },
    {
      "cell_type": "code",
      "execution_count": 17,
      "metadata": {
        "colab": {
          "base_uri": "https://localhost:8080/"
        },
        "id": "NnFItc8WqU3u",
        "outputId": "a5cf72f4-f83c-4340-f837-bd339b8c6eec"
      },
      "outputs": [
        {
          "name": "stdout",
          "output_type": "stream",
          "text": [
            "These suppliers are unlabelled:  ['NoveltyIncWholesale']\n",
            "done 11\n"
          ]
        }
      ],
      "source": [
        "# 11. label data\n",
        "df, catalogs=label_data(df, catalogs)\n",
        "print('done 11')"
      ]
    },
    {
      "cell_type": "code",
      "execution_count": 32,
      "metadata": {
        "colab": {
          "base_uri": "https://localhost:8080/",
          "height": 222
        },
        "id": "yjAyDln9qU3u",
        "outputId": "52076892-3ee8-4e95-a21c-77cdef51837c"
      },
      "outputs": [
        {
          "ename": "NameError",
          "evalue": "ignored",
          "output_type": "error",
          "traceback": [
            "\u001b[0;31m---------------------------------------------------------------------------\u001b[0m",
            "\u001b[0;31mNameError\u001b[0m                                 Traceback (most recent call last)",
            "\u001b[0;32m<ipython-input-32-67653dd0cc67>\u001b[0m in \u001b[0;36m<cell line: 2>\u001b[0;34m()\u001b[0m\n\u001b[1;32m      2\u001b[0m \u001b[0;32mfor\u001b[0m \u001b[0mname\u001b[0m\u001b[0;34m,\u001b[0m \u001b[0mtmpdf\u001b[0m \u001b[0;32min\u001b[0m \u001b[0mcatalogs\u001b[0m\u001b[0;34m.\u001b[0m\u001b[0mitems\u001b[0m\u001b[0;34m(\u001b[0m\u001b[0;34m)\u001b[0m\u001b[0;34m:\u001b[0m\u001b[0;34m\u001b[0m\u001b[0;34m\u001b[0m\u001b[0m\n\u001b[1;32m      3\u001b[0m     \u001b[0;32mif\u001b[0m \u001b[0mname\u001b[0m \u001b[0;34m==\u001b[0m \u001b[0;34m'NUK'\u001b[0m\u001b[0;34m:\u001b[0m     \u001b[0mtmpdf\u001b[0m\u001b[0;34m=\u001b[0m\u001b[0mpreprocess_nuk\u001b[0m\u001b[0;34m(\u001b[0m\u001b[0mtmpdf\u001b[0m\u001b[0;34m)\u001b[0m\u001b[0;34m\u001b[0m\u001b[0;34m\u001b[0m\u001b[0m\n\u001b[0;32m----> 4\u001b[0;31m     \u001b[0;32mif\u001b[0m \u001b[0mname\u001b[0m \u001b[0;34m==\u001b[0m \u001b[0;34m'BGSales'\u001b[0m\u001b[0;34m:\u001b[0m \u001b[0mtmpdf\u001b[0m\u001b[0;34m=\u001b[0m\u001b[0mpreprocess_bgsales\u001b[0m\u001b[0;34m(\u001b[0m\u001b[0mtmpdf\u001b[0m\u001b[0;34m)\u001b[0m\u001b[0;34m\u001b[0m\u001b[0;34m\u001b[0m\u001b[0m\n\u001b[0m\u001b[1;32m      5\u001b[0m     \u001b[0mcatalogs\u001b[0m\u001b[0;34m[\u001b[0m\u001b[0mname\u001b[0m\u001b[0;34m]\u001b[0m\u001b[0;34m=\u001b[0m\u001b[0mtmpdf\u001b[0m\u001b[0;34m\u001b[0m\u001b[0;34m\u001b[0m\u001b[0m\n",
            "\u001b[0;31mNameError\u001b[0m: name 'preprocess_bgsales' is not defined"
          ]
        }
      ],
      "source": [
        "# preprocess each supplier separately\n",
        "for name, tmpdf in catalogs.items():\n",
        "    if name == 'NUK':                tmpdf=preprocess_nuk(tmpdf)\n",
        "    if name == 'BGSales':            tmpdf=preprocess_bgsales(tmpdf)\n",
        "    if name == 'EcomWholesaleDeals': tmpdf=preprocess_ewd(tmpdf)\n",
        "\n",
        "    catalogs[name]=tmpdf"
      ]
    },
    {
      "cell_type": "code",
      "execution_count": null,
      "metadata": {
        "id": "uNxUj1OqqU3u"
      },
      "outputs": [],
      "source": [
        "# label encode supplier name in df dataframe\n",
        "# keys=df.Distributor.unique().tolist()\n",
        "# values=['TRI'+str(i).zfill(5) for i in range(len(keys))]\n",
        "# labels_map=dict(zip(keys, values))\n",
        "# df['distributor_key'] = df.Distributor.map(labels_map)\n",
        "\n",
        "# now this is being done manually\n",
        "# print('done 12')\n",
        "\n",
        "\n",
        "# apply labels_map for each catalog in catalog dict of dfs\n",
        "for key, tmpdf in catalogs.items():\n",
        "    tmpdf['distributor_key']=df[df.Distributor==key].distributor_key.item()\n",
        "    catalogs[key]=tmpdf\n",
        "\n",
        "\n",
        "# 12. upload updated catalog_links df\n",
        "# df.drop(['folder_id', 'catalog_folder_id'], axis=1).to_excel(f'{tmp_dir}/Catalogs Link.xlsx', index=False)"
      ]
    },
    {
      "cell_type": "code",
      "execution_count": null,
      "metadata": {
        "colab": {
          "base_uri": "https://localhost:8080/"
        },
        "id": "WBa5V88XqU3v",
        "outputId": "22bd6c11-1dfe-44b4-b003-68a3b91b6206"
      },
      "outputs": [
        {
          "name": "stdout",
          "output_type": "stream",
          "text": [
            "19\n",
            "done 12\n"
          ]
        }
      ],
      "source": [
        "# 13. check for missing values in each column\n",
        "missing_total=0\n",
        "for name, tmpdf in catalogs.items():\n",
        "    # print(name, tmpdf['each_price'].isnull().sum())\n",
        "    missing_total+=tmpdf['each_price'].isnull().sum()\n",
        "print(missing_total)\n",
        "print('done 12')"
      ]
    },
    {
      "cell_type": "code",
      "execution_count": null,
      "metadata": {
        "colab": {
          "base_uri": "https://localhost:8080/"
        },
        "id": "xsdSgg4UqU3v",
        "outputId": "6a8a79d8-4fc0-4dc9-d8dc-d0ef7ce5f7c6"
      },
      "outputs": [
        {
          "name": "stdout",
          "output_type": "stream",
          "text": [
            "after concating all asinsdf:  (11442, 3) 17\n",
            "after dropna:  (11381, 3) 0\n",
            "after preprocess_price:  (11381, 3) 0\n",
            "after reset_index:  (11381, 3) 0\n",
            "after saving:  (11381, 3)\n",
            "done 13\n"
          ]
        }
      ],
      "source": [
        "# 13. preprocess asins\n",
        "asins_suppliers=df[df.id_columns_type=='asin'].Distributor.tolist()\n",
        "\n",
        "tmpli=[]\n",
        "for x in asins_suppliers:\n",
        "  try:\n",
        "    tmpli.append(catalogs[x][['asin', 'each_price', 'distributor_key']])\n",
        "  except Exception as e:\n",
        "    print(f'Error in {x}: e')\n",
        "asinsdf = pd.concat(tmpli)\n",
        "print('after concating all asinsdf: ',asinsdf.shape, asinsdf.each_price.isnull().sum())\n",
        "\n",
        "asinsdf=asinsdf.dropna()\n",
        "print('after dropna: ',asinsdf.shape, asinsdf.each_price.isnull().sum())\n",
        "\n",
        "asinsdf=preprocess_price(asinsdf)\n",
        "print('after preprocess_price: ',asinsdf.shape, asinsdf.each_price.isnull().sum())\n",
        "\n",
        "asinsdf=asinsdf.reset_index(drop=True)\n",
        "print('after reset_index: ',asinsdf.shape, asinsdf.each_price.isnull().sum())\n",
        "\n",
        "asinsdf.to_excel(f'{merged_dir}/asinsdf.xlsx', index=False)\n",
        "print('after saving: ', asinsdf.shape)\n",
        "print('done 13')"
      ]
    },
    {
      "cell_type": "code",
      "execution_count": null,
      "metadata": {
        "colab": {
          "base_uri": "https://localhost:8080/"
        },
        "id": "jcN5vKcSqU3v",
        "outputId": "6411bf27-3270-4973-c9e8-1fabfc7561f8"
      },
      "outputs": [
        {
          "name": "stdout",
          "output_type": "stream",
          "text": [
            "Error in DPCIWholesale: 'DPCIWholesale'\n",
            "after concat:  (93220, 3) 2\n",
            "after dropna:  (92046, 3) 0\n",
            "after preprocess_upc:  (92034, 3) 0\n",
            "after preprocess_price:  (92034, 3) 0\n",
            "after reset_index:  (92034, 3) 0\n",
            "after save:  (92034, 3) 0\n",
            "done 14\n"
          ]
        }
      ],
      "source": [
        "# 14. preprocess upcs\n",
        "upc_suppliers=df[df.id_columns_type=='upc'].Distributor.tolist()\n",
        "# upcsdf = pd.concat([catalogs[x][['upc', 'each_price', 'distributor_key']] for x in upc_suppliers])\n",
        "tmpli=[]\n",
        "for x in upc_suppliers:\n",
        "  try:\n",
        "    tmpli.append(catalogs[x][['upc', 'each_price', 'distributor_key']])\n",
        "  except Exception as e:\n",
        "    print(f'Error in {x}: {e}')\n",
        "upcsdf = pd.concat(tmpli)\n",
        "print('after concat: ',upcsdf.shape, upcsdf.each_price.isnull().sum())\n",
        "\n",
        "upcsdf=upcsdf.dropna(subset=['upc', 'each_price'])\n",
        "print('after dropna: ',upcsdf.shape, upcsdf.each_price.isnull().sum())\n",
        "\n",
        "upcsdf=preprocess_upc(upcsdf)\n",
        "print('after preprocess_upc: ',upcsdf.shape, upcsdf.each_price.isnull().sum())\n",
        "\n",
        "upcsdf=preprocess_price(upcsdf)\n",
        "print('after preprocess_price: ',upcsdf.shape, upcsdf.each_price.isnull().sum())\n",
        "\n",
        "upcsdf=upcsdf.reset_index(drop=True)\n",
        "print('after reset_index: ',upcsdf.shape, upcsdf.each_price.isnull().sum())\n",
        "\n",
        "upcsdf.to_excel(f'{merged_dir}/upcsdf.xlsx', index=False)\n",
        "print('after save: ',upcsdf.shape, upcsdf.each_price.isnull().sum())\n",
        "\n",
        "print('done 14')"
      ]
    },
    {
      "cell_type": "code",
      "execution_count": null,
      "metadata": {
        "colab": {
          "base_uri": "https://localhost:8080/"
        },
        "id": "gq0jA9-QqU3v",
        "outputId": "7e1b9962-eb9e-48cf-89f7-3b4648e0e114"
      },
      "outputs": [
        {
          "name": "stdout",
          "output_type": "stream",
          "text": [
            "done 16\n"
          ]
        }
      ],
      "source": [
        "# 15. upload merged asin and upc on gdrive\n",
        "tree=['Supplier Catalogues', 'AUTOMATION', 'ScanUnlimited_ALL']\n",
        "folder_id=g.find_gdrive_folder_id(tree, folder_id='root')\n",
        "# delete existing ScanUnlimited_ALL\n",
        "g.delete_by_id(folder_id)\n",
        "# create new ScanUnlimited_ALL\n",
        "tree=['Supplier Catalogues', 'AUTOMATION']\n",
        "parent_folder_id=g.find_gdrive_folder_id(tree, folder_id='root')\n",
        "new_folder_id=g.create_folder(parent_folder_id, 'ScanUnlimited_ALL')\n",
        "g.upload_file(new_folder_id, f'{merged_dir}/asinsdf.xlsx')\n",
        "g.upload_file(new_folder_id, f'{merged_dir}/upcsdf.xlsx')\n",
        "print('done 16')"
      ]
    },
    {
      "cell_type": "code",
      "execution_count": null,
      "metadata": {
        "colab": {
          "base_uri": "https://localhost:8080/"
        },
        "id": "WCoSqkCsqU3w",
        "outputId": "b845edae-e73a-462f-90f5-7f235c5d038f"
      },
      "outputs": [
        {
          "name": "stdout",
          "output_type": "stream",
          "text": [
            "\n",
            "    Total:   103415\n",
            "    upcsdf:  92034\n",
            "    asinsdf: 11381\n",
            "\n"
          ]
        }
      ],
      "source": [
        "print(f'''\n",
        "    Total:   {asinsdf.shape[0]+upcsdf.shape[0]}\n",
        "    upcsdf:  {upcsdf.shape[0]}\n",
        "    asinsdf: {asinsdf.shape[0]}\n",
        "''')"
      ]
    },
    {
      "cell_type": "code",
      "execution_count": null,
      "metadata": {
        "id": "oAoKRldGqU3w"
      },
      "outputs": [],
      "source": [
        "try: shutil.rmtree(TMP_DIR)\n",
        "except: pass"
      ]
    },
    {
      "cell_type": "markdown",
      "metadata": {
        "id": "PmId6qptqU3w"
      },
      "source": [
        "# TODO"
      ]
    },
    {
      "cell_type": "code",
      "execution_count": null,
      "metadata": {
        "id": "VaEK6A6sqU3w"
      },
      "outputs": [],
      "source": [
        "# add sheet name column so it shortens the download function\n",
        "# change ignore to active\n",
        "# add other columns list column"
      ]
    },
    {
      "cell_type": "code",
      "execution_count": null,
      "metadata": {
        "id": "AFgmacFXqU3w"
      },
      "outputs": [],
      "source": []
    },
    {
      "cell_type": "markdown",
      "metadata": {
        "id": "ecLRyLWuqU3w"
      },
      "source": [
        "# Send Emails"
      ]
    },
    {
      "cell_type": "code",
      "execution_count": null,
      "metadata": {
        "id": "ZdoWt-N_qU3w"
      },
      "outputs": [],
      "source": [
        "def send_email(addr, subject, body):\n",
        "    fromaddr = \"contact@tricyons.com\"\n",
        "    pswd     = \"tricyons123\"\n",
        "\n",
        "    msg = MIMEMultipart()\n",
        "    msg['From'] = formataddr(('Tricyons LLC', fromaddr))\n",
        "    msg['To'] = addr\n",
        "    msg['Subject'] = subject\n",
        "    body = body\n",
        "\n",
        "    msg.attach(MIMEText(body, 'plain'))\n",
        "    # smtpserver = smtplib.SMTP(\"mail.tricyons.com\", 465) # tls\n",
        "\n",
        "    server = smtplib.SMTP(\"mail.tricyons.com\", 26) # non-tls\n",
        "    server.starttls()\n",
        "    server.login(fromaddr, pswd)\n",
        "\n",
        "    text = msg.as_string()\n",
        "    server.sendmail(fromaddr, addr, text)\n",
        "    server.quit()    \n",
        "    return True"
      ]
    },
    {
      "cell_type": "markdown",
      "metadata": {
        "id": "fKDWjX_xqU3x"
      },
      "source": [
        "### Ask Catalog"
      ]
    },
    {
      "cell_type": "code",
      "execution_count": null,
      "metadata": {
        "id": "GNUYT7dVqU3x"
      },
      "outputs": [],
      "source": [
        "emailsdf=data[(data.Active==True) & (data.Type=='EMAIL')].sort_values('Email', ascending=False)\n",
        "print(emailsdf.shape)\n",
        "emailsdf"
      ]
    },
    {
      "cell_type": "code",
      "execution_count": null,
      "metadata": {
        "id": "8vIGpWVcqU3x"
      },
      "outputs": [],
      "source": [
        "with open('./email_catalog.txt', 'r') as f:\n",
        "    email_body_template = f.read()\n",
        "\n",
        "print(email_body_template)"
      ]
    },
    {
      "cell_type": "code",
      "execution_count": null,
      "metadata": {
        "id": "tnPJNwcdqU3x"
      },
      "outputs": [],
      "source": [
        "email_subject='Updated Catalog'\n",
        "\n",
        "for i, row in emailsdf.iterrows():\n",
        "    print(f'{i+1}/{emailsdf.shape[0]}', end='\\r')\n",
        "\n",
        "    email_to=row.Email.strip().lower()\n",
        "\n",
        "    email_body=email_body_template.replace('SUBJECT_NAME_TAG', row.Email_Subject)\n",
        "\n",
        "    email_sent = send_email(email_to, email_subject, email_body)\n",
        "    if not email_sent: print(f'Error in sending email to: {row.Email_Subject}')\n",
        "\n",
        "    time.sleep(3)"
      ]
    },
    {
      "cell_type": "code",
      "execution_count": null,
      "metadata": {
        "id": "EqSRiKRLqU3x"
      },
      "outputs": [],
      "source": []
    },
    {
      "cell_type": "markdown",
      "metadata": {
        "id": "O-1qhNxMqU3x"
      },
      "source": [
        "### Account Open"
      ]
    },
    {
      "cell_type": "code",
      "execution_count": null,
      "metadata": {
        "id": "A7FszVg_qU3x"
      },
      "outputs": [],
      "source": [
        "\n",
        "\n",
        "with open('./email_template.txt', 'r') as f:\n",
        "    email_body_template = f.read()\n",
        "\n",
        "print(email_body_template)\n",
        "\n",
        "\n",
        "# email_to='faysalaslam887@gmail.com'\n",
        "# email_subject = \"Testing Email Body 3 Spaces\"\n",
        "# email_body=email_body_template.replace('COMPANY_NAME_TAG', 'Test Company')\n",
        "# send_email(email_to, email_subject, email_body)\n",
        "\n",
        "# g=GDrive()\n",
        "\n",
        "\n",
        "'''\n",
        "tmp_dir='./tmp/'\n",
        "\n",
        "tree=['Supplier Catalogues', 'Brands For Auto-Email']\n",
        "g.supplier_id=g.find_gdrive_folder_id(tree=tree, folder_id='root')\n",
        "g.download_files(g.supplier_id, tmp_dir)\n",
        "\n",
        "all_suppliers=pd.read_excel(f'{tmp_dir}/All Suppliers.xlsx')\n",
        "print(all_suppliers.shape)\n",
        "\n",
        "all_suppliers.head()\n",
        "\n",
        "df=all_suppliers.dropna(subset=['Email'], axis=0).reset_index(drop=True)\n",
        "print(df.shape)\n",
        "df.head()\n",
        "\n",
        "# email_subject = \"Wholesale Account Opening\"\n",
        "\n",
        "# for i, row in df.iloc[78:].iterrows():\n",
        "#     print(f'{i+1}/{df.shape[0]}', end='\\r')\n",
        "\n",
        "#     email_to=row.Email.strip().lower()\n",
        "\n",
        "#     supplier_name = row.Name.strip()\n",
        "\n",
        "#     email_body=email_body_template.replace('COMPANY_NAME_TAG', supplier_name)\n",
        "\n",
        "#     email_sent = send_email(email_to, email_subject, email_body)\n",
        "#     if not email_sent: print(f'Error in sending email to: {supplier_name}')\n",
        "\n",
        "#     time.sleep(3)\n",
        "    \n",
        "'''"
      ]
    },
    {
      "cell_type": "code",
      "execution_count": 69,
      "metadata": {
        "id": "sQgSgB_fqU3x"
      },
      "outputs": [],
      "source": []
    },
    {
      "cell_type": "markdown",
      "metadata": {
        "id": "7GYCevByqU3y"
      },
      "source": [
        "# Test New Catalogs"
      ]
    },
    {
      "cell_type": "code",
      "execution_count": 3,
      "metadata": {
        "id": "7yJ55Hmeu3lg"
      },
      "outputs": [],
      "source": [
        "from utils import *"
      ]
    },
    {
      "cell_type": "code",
      "execution_count": null,
      "metadata": {},
      "outputs": [],
      "source": [
        "# EpilsonWholesale\n",
        "df2=get_catalog_google_sheets_2(url, sheet_name='Sheet1')\n",
        "df2=df2.iloc[1:]\n",
        "df2=make_first_row_header(df2)\n",
        "df2=df2[~df2.ASIN.astype(str).str.contains('--')]\n",
        "df2=df2.dropna()"
      ]
    },
    {
      "cell_type": "code",
      "execution_count": null,
      "metadata": {},
      "outputs": [],
      "source": [
        "# GSCommodityTrading\n",
        "df1=get_catalog_google_sheets(url).reset_index(drop=True)\n",
        "print(df1.shape)\n",
        "df1=df1.iloc[9:]\n",
        "df1.head(20)\n"
      ]
    },
    {
      "cell_type": "code",
      "execution_count": null,
      "metadata": {},
      "outputs": [],
      "source": [
        "# MinMaxDeals\n",
        "df1=get_catalog_google_sheets(url).reset_index(drop=True)\n",
        "print(df1.shape)"
      ]
    },
    {
      "cell_type": "code",
      "execution_count": null,
      "metadata": {},
      "outputs": [],
      "source": [
        "# KNTradingLLC\n",
        "df2=get_catalog_google_sheets_2(url, sheet_name='Sheet1')\n",
        "df2=make_first_row_header(df2)\n",
        "df2=df2[[x for x in df2.columns.tolist() if x!=None]]\n"
      ]
    },
    {
      "cell_type": "code",
      "execution_count": 114,
      "metadata": {},
      "outputs": [
        {
          "name": "stdout",
          "output_type": "stream",
          "text": [
            "(82, 4)\n",
            "(165, 4)\n",
            "(109, 4)\n"
          ]
        },
        {
          "data": {
            "text/html": [
              "<div>\n",
              "<style scoped>\n",
              "    .dataframe tbody tr th:only-of-type {\n",
              "        vertical-align: middle;\n",
              "    }\n",
              "\n",
              "    .dataframe tbody tr th {\n",
              "        vertical-align: top;\n",
              "    }\n",
              "\n",
              "    .dataframe thead th {\n",
              "        text-align: right;\n",
              "    }\n",
              "</style>\n",
              "<table border=\"1\" class=\"dataframe\">\n",
              "  <thead>\n",
              "    <tr style=\"text-align: right;\">\n",
              "      <th></th>\n",
              "      <th>DESCRIPTION</th>\n",
              "      <th>UPC</th>\n",
              "      <th>LINK</th>\n",
              "      <th>COST</th>\n",
              "    </tr>\n",
              "  </thead>\n",
              "  <tbody>\n",
              "    <tr>\n",
              "      <th>0</th>\n",
              "      <td>AQUAFRESH TOOTHPASTE TRIPLE PROTECT PUMP</td>\n",
              "      <td>5000347027147</td>\n",
              "      <td>Amazon</td>\n",
              "      <td>$2.00</td>\n",
              "    </tr>\n",
              "    <tr>\n",
              "      <th>1</th>\n",
              "      <td>B.TAN SELF TAN MOUSSE DARK FAKE IT TILL MAKE IT</td>\n",
              "      <td>9347108008721</td>\n",
              "      <td>Amazon</td>\n",
              "      <td>$2.10</td>\n",
              "    </tr>\n",
              "    <tr>\n",
              "      <th>2</th>\n",
              "      <td>BIORE 200ML BLUE AGAVE &amp; BAKING SODA BALANCING PORE CLEANSER</td>\n",
              "      <td>5017634258191</td>\n",
              "      <td>Amazon</td>\n",
              "      <td>$2.50</td>\n",
              "    </tr>\n",
              "    <tr>\n",
              "      <th>3</th>\n",
              "      <td>Brut Original Edt Spray for Men, 3.38 Ounce</td>\n",
              "      <td>3014230021039</td>\n",
              "      <td>Amazon</td>\n",
              "      <td>$4.25</td>\n",
              "    </tr>\n",
              "    <tr>\n",
              "      <th>4</th>\n",
              "      <td>Brylcreem Hairdressing Original Gel, 250 ml</td>\n",
              "      <td>5000231039546</td>\n",
              "      <td>Amazon</td>\n",
              "      <td>$3.00</td>\n",
              "    </tr>\n",
              "    <tr>\n",
              "      <th>5</th>\n",
              "      <td>Bull Dog Skincare for Men Original Shower Gel 6.70 Ounces</td>\n",
              "      <td>NaN</td>\n",
              "      <td>Amazon</td>\n",
              "      <td>$2.50</td>\n",
              "    </tr>\n",
              "    <tr>\n",
              "      <th>6</th>\n",
              "      <td>BULLDOG MOISTURISER ORIGINAL 100ML</td>\n",
              "      <td>5060144648181</td>\n",
              "      <td>Amazon</td>\n",
              "      <td>$4.25</td>\n",
              "    </tr>\n",
              "    <tr>\n",
              "      <th>7</th>\n",
              "      <td>Bulldog Natural Skincare Original Face Wash For Men, 5 Oz</td>\n",
              "      <td>5060144642240</td>\n",
              "      <td>Amazon</td>\n",
              "      <td>$2.50</td>\n",
              "    </tr>\n",
              "    <tr>\n",
              "      <th>8</th>\n",
              "      <td>CLEAN &amp; CLEAR 15ML GEL ADVANTAGE QUICK CLEAR SPOT TREATMENT</td>\n",
              "      <td>3574660178821</td>\n",
              "      <td>Amazon</td>\n",
              "      <td>$12.50</td>\n",
              "    </tr>\n",
              "    <tr>\n",
              "      <th>9</th>\n",
              "      <td>CLEARASIL RAPID ACTION TREAT CREAM</td>\n",
              "      <td>5011417544846</td>\n",
              "      <td>Amazon</td>\n",
              "      <td>$4.50</td>\n",
              "    </tr>\n",
              "    <tr>\n",
              "      <th>10</th>\n",
              "      <td>CLEARASIL ULTRA RAPID ACTION GEL</td>\n",
              "      <td>5000158100633</td>\n",
              "      <td>Amazon</td>\n",
              "      <td>$4.50</td>\n",
              "    </tr>\n",
              "    <tr>\n",
              "      <th>11</th>\n",
              "      <td>Colgate Cavity Protection Toothpaste Pump 100g</td>\n",
              "      <td>5000209100513</td>\n",
              "      <td>Amazon</td>\n",
              "      <td>$2.00</td>\n",
              "    </tr>\n",
              "    <tr>\n",
              "      <th>12</th>\n",
              "      <td>Colgate Colgate total toothpaste, clean mint, 3.3 oz. 2-pack- paste, 6.6 Fl Oz</td>\n",
              "      <td>8718951351516</td>\n",
              "      <td>Amazon</td>\n",
              "      <td>$2.75</td>\n",
              "    </tr>\n",
              "    <tr>\n",
              "      <th>13</th>\n",
              "      <td>DOVE 100G SOAP BEAUTY CREAM ORIGINAL</td>\n",
              "      <td>8000700000005</td>\n",
              "      <td>NaN</td>\n",
              "      <td>$0.50</td>\n",
              "    </tr>\n",
              "    <tr>\n",
              "      <th>14</th>\n",
              "      <td>DOVE BEAUTY CREAM (POT) (L)</td>\n",
              "      <td>8886467020117</td>\n",
              "      <td>Amazon</td>\n",
              "      <td>$1.53</td>\n",
              "    </tr>\n",
              "    <tr>\n",
              "      <th>15</th>\n",
              "      <td>Dove Derma Spa Summer Revived Medium to Dark Skin Body Lotion 200 ml</td>\n",
              "      <td>8710908710216</td>\n",
              "      <td>Amazon</td>\n",
              "      <td>$2.60</td>\n",
              "    </tr>\n",
              "    <tr>\n",
              "      <th>16</th>\n",
              "      <td>DOVE DERMASPA SUMMER REVIVED FAIR-MED</td>\n",
              "      <td>8712561982641</td>\n",
              "      <td>Amazon</td>\n",
              "      <td>$2.85</td>\n",
              "    </tr>\n",
              "    <tr>\n",
              "      <th>17</th>\n",
              "      <td>Dove Men + Care Antiperspirant Deodorant - Invisible Dry Roll-On (50ml)</td>\n",
              "      <td>96022313</td>\n",
              "      <td>Amazon</td>\n",
              "      <td>$1.12</td>\n",
              "    </tr>\n",
              "    <tr>\n",
              "      <th>18</th>\n",
              "      <td>Dove Men Clean Comfort Anti-perspirant Deodorant Roll-on 50ml</td>\n",
              "      <td>50210404</td>\n",
              "      <td>NaN</td>\n",
              "      <td>$1.12</td>\n",
              "    </tr>\n",
              "    <tr>\n",
              "      <th>19</th>\n",
              "      <td>DOVE NOURISHING BODY CREAM</td>\n",
              "      <td>8886467020094</td>\n",
              "      <td>NaN</td>\n",
              "      <td>$0.87</td>\n",
              "    </tr>\n",
              "    <tr>\n",
              "      <th>20</th>\n",
              "      <td>Dove Purely Pampering Shea Butter With Warm Vanilla Scent By Dove for Unisex 3.5 Oz pack of 4</td>\n",
              "      <td>8711600804418</td>\n",
              "      <td>Amazon</td>\n",
              "      <td>$1.90</td>\n",
              "    </tr>\n",
              "    <tr>\n",
              "      <th>21</th>\n",
              "      <td>E45 Dermatological Cream 125G</td>\n",
              "      <td>5000167010220</td>\n",
              "      <td>Amazon</td>\n",
              "      <td>$3.58</td>\n",
              "    </tr>\n",
              "    <tr>\n",
              "      <th>22</th>\n",
              "      <td>Euthymol Original Toothpaste 75ml</td>\n",
              "      <td>5010123715175</td>\n",
              "      <td>Amazon</td>\n",
              "      <td>$1.70</td>\n",
              "    </tr>\n",
              "    <tr>\n",
              "      <th>23</th>\n",
              "      <td>Garnier Skin Naturals Simply Essentials 2 in 1 Make-up Remover</td>\n",
              "      <td>3600541029019</td>\n",
              "      <td>NaN</td>\n",
              "      <td>NaN</td>\n",
              "    </tr>\n",
              "    <tr>\n",
              "      <th>24</th>\n",
              "      <td>Gillette Mach 3 Razor 2up</td>\n",
              "      <td>3014260239626</td>\n",
              "      <td>Walmart</td>\n",
              "      <td>$4.00</td>\n",
              "    </tr>\n",
              "    <tr>\n",
              "      <th>25</th>\n",
              "      <td>Gillette Sensor Excel Men's Razor Blade Refills - Pack of 5</td>\n",
              "      <td>47400115507</td>\n",
              "      <td>Walmart</td>\n",
              "      <td>$3.75</td>\n",
              "    </tr>\n",
              "    <tr>\n",
              "      <th>26</th>\n",
              "      <td>JOHNSONS BABY 200 COTTON BUDS NEW PACK</td>\n",
              "      <td>3574661440477</td>\n",
              "      <td>Amazon</td>\n",
              "      <td>$1.30</td>\n",
              "    </tr>\n",
              "    <tr>\n",
              "      <th>27</th>\n",
              "      <td>Kiss My Face Early-to-Rise Moisturizing Shower Gel, Bath and Body Wash, 16 oz</td>\n",
              "      <td>28367830634</td>\n",
              "      <td>Amazon</td>\n",
              "      <td>$4.00</td>\n",
              "    </tr>\n",
              "    <tr>\n",
              "      <th>28</th>\n",
              "      <td>L'OREAL AGE PERFECT 15ML EYE CREAM 15ml</td>\n",
              "      <td>3600520070285</td>\n",
              "      <td>Amazon</td>\n",
              "      <td>$7.50</td>\n",
              "    </tr>\n",
              "    <tr>\n",
              "      <th>29</th>\n",
              "      <td>LISTERINE 250ML MOUTHWASH COOL MINT</td>\n",
              "      <td>5010123703509</td>\n",
              "      <td>Amazon</td>\n",
              "      <td>$1.50</td>\n",
              "    </tr>\n",
              "    <tr>\n",
              "      <th>30</th>\n",
              "      <td>LISTERINE 500ML MOUTHWASH ADVANCED DEFENCE SENSITIVE</td>\n",
              "      <td>3574661014593</td>\n",
              "      <td>Amazon</td>\n",
              "      <td>$2.91</td>\n",
              "    </tr>\n",
              "    <tr>\n",
              "      <th>31</th>\n",
              "      <td>LISTERINE 500ML MOUTHWASH COOL MINT</td>\n",
              "      <td>5010123703585</td>\n",
              "      <td>Amazon</td>\n",
              "      <td>$2.23</td>\n",
              "    </tr>\n",
              "    <tr>\n",
              "      <th>32</th>\n",
              "      <td>LISTERINE 500ML MOUTHWASH COOL MINT ZERO ALCOHOL</td>\n",
              "      <td>3574660649895</td>\n",
              "      <td>Amazon</td>\n",
              "      <td>$2.38</td>\n",
              "    </tr>\n",
              "    <tr>\n",
              "      <th>33</th>\n",
              "      <td>Loreal 250 ml kids shampoo mango tango</td>\n",
              "      <td>B01CYTVRAQ</td>\n",
              "      <td>Amazon</td>\n",
              "      <td>$2.00</td>\n",
              "    </tr>\n",
              "    <tr>\n",
              "      <th>34</th>\n",
              "      <td>NEUTROGENA 200ML HYDRO BOOST WATER GEL CLEANSER</td>\n",
              "      <td>NaN</td>\n",
              "      <td>Walmart</td>\n",
              "      <td>$5.50</td>\n",
              "    </tr>\n",
              "    <tr>\n",
              "      <th>35</th>\n",
              "      <td>NEUTROGENA 50ML HAND CREAM SCENTED</td>\n",
              "      <td>3574660600094</td>\n",
              "      <td>Amazon</td>\n",
              "      <td>$2.33</td>\n",
              "    </tr>\n",
              "    <tr>\n",
              "      <th>36</th>\n",
              "      <td>NEUTROGENA 50ML HYDRO BOOST GEL CREAM</td>\n",
              "      <td>3574661287232</td>\n",
              "      <td>Amazon</td>\n",
              "      <td>$8.99</td>\n",
              "    </tr>\n",
              "    <tr>\n",
              "      <th>37</th>\n",
              "      <td>NEUTROGENA 75ML HAND CREAM GEL HYDRO BOOST</td>\n",
              "      <td>3574661392486</td>\n",
              "      <td>Walmart</td>\n",
              "      <td>$3.25</td>\n",
              "    </tr>\n",
              "    <tr>\n",
              "      <th>38</th>\n",
              "      <td>NEUTROGENA BLACKHEAD ELIMINATING STRIP TO SCRUB 6'S</td>\n",
              "      <td>3574661483542</td>\n",
              "      <td>Amazon</td>\n",
              "      <td>$2.75</td>\n",
              "    </tr>\n",
              "    <tr>\n",
              "      <th>39</th>\n",
              "      <td>NEUTROGENA CLEAR &amp; SOOTHE 125ML TONING MIST</td>\n",
              "      <td>3574661529219</td>\n",
              "      <td>Amazon</td>\n",
              "      <td>$3.50</td>\n",
              "    </tr>\n",
              "    <tr>\n",
              "      <th>40</th>\n",
              "      <td>Neutrogena Norwegian Formula Hand Cream 50Ml</td>\n",
              "      <td>3574660600094</td>\n",
              "      <td>Amazon</td>\n",
              "      <td>$2.33</td>\n",
              "    </tr>\n",
              "    <tr>\n",
              "      <th>41</th>\n",
              "      <td>NEUTROGENA REFRESHINGLY CLEAR 150ML DAILY EXFOLIATOR</td>\n",
              "      <td>3574661498430</td>\n",
              "      <td>Amazon</td>\n",
              "      <td>$2.91</td>\n",
              "    </tr>\n",
              "    <tr>\n",
              "      <th>42</th>\n",
              "      <td>Nivea Creme Soft Bar Soap -100g ea</td>\n",
              "      <td>4005808505999</td>\n",
              "      <td>Amazon</td>\n",
              "      <td>$0.72</td>\n",
              "    </tr>\n",
              "    <tr>\n",
              "      <th>43</th>\n",
              "      <td>Nivea Lip Care Fruity Shine Cherry 4.8g Unboxed</td>\n",
              "      <td>NaN</td>\n",
              "      <td>Amazon</td>\n",
              "      <td>$1.01</td>\n",
              "    </tr>\n",
              "    <tr>\n",
              "      <th>44</th>\n",
              "      <td>Nivea Lip Care Pearl &amp; Shine 4.8G unboxed</td>\n",
              "      <td>NaN</td>\n",
              "      <td>Amazon</td>\n",
              "      <td>$1.01</td>\n",
              "    </tr>\n",
              "    <tr>\n",
              "      <th>45</th>\n",
              "      <td>NIVEA Q10 200ML BODY GEL-CREAM GOODBYE CELLULITE</td>\n",
              "      <td>4005900513571</td>\n",
              "      <td>Amazon</td>\n",
              "      <td>$5.42</td>\n",
              "    </tr>\n",
              "    <tr>\n",
              "      <th>46</th>\n",
              "      <td>Nivea Womens Deodorant Roll-On Double Effect 50 Ml</td>\n",
              "      <td>42345275</td>\n",
              "      <td>Amazon</td>\n",
              "      <td>$2.00</td>\n",
              "    </tr>\n",
              "    <tr>\n",
              "      <th>47</th>\n",
              "      <td>Olay Age Defying Face Wash 150ML</td>\n",
              "      <td>5000174990713</td>\n",
              "      <td>Amazon</td>\n",
              "      <td>$3.00</td>\n",
              "    </tr>\n",
              "    <tr>\n",
              "      <th>48</th>\n",
              "      <td>OLAY ANTI-WRINKLE 50ML 2-IN-1 DAY CREAM &amp; SERUM FIRM &amp; LIFT</td>\n",
              "      <td>5410076304448</td>\n",
              "      <td>Amazon</td>\n",
              "      <td>$6.40</td>\n",
              "    </tr>\n",
              "    <tr>\n",
              "      <th>49</th>\n",
              "      <td>OLAY ANTI-WRINKLE 50ML MOISTURISER NIGHT CREAM FIRM &amp; LIFT</td>\n",
              "      <td>5000174944662</td>\n",
              "      <td>Amazon</td>\n",
              "      <td>$6.30</td>\n",
              "    </tr>\n",
              "    <tr>\n",
              "      <th>50</th>\n",
              "      <td>Olay Anti-wrinkle Firm And Lift Two In One Day Cream And Firming Serum, 50ml</td>\n",
              "      <td>B004WK84P2</td>\n",
              "      <td>Amazon</td>\n",
              "      <td>$6.00</td>\n",
              "    </tr>\n",
              "    <tr>\n",
              "      <th>51</th>\n",
              "      <td>Olay Luminous Advanced Tone Perfecting Micellar Water 237 mL</td>\n",
              "      <td>8001841757292</td>\n",
              "      <td>Amazon</td>\n",
              "      <td>$4.50</td>\n",
              "    </tr>\n",
              "    <tr>\n",
              "      <th>52</th>\n",
              "      <td>Olay Magnemasks Infusion - Korean Skin Care Inspired Deep Hydration, Rejuvenating Face Mask for Fine Lines &amp; Sagging Skin - Starter Kit</td>\n",
              "      <td>4902430822985</td>\n",
              "      <td>Amazon</td>\n",
              "      <td>$8.65</td>\n",
              "    </tr>\n",
              "    <tr>\n",
              "      <th>53</th>\n",
              "      <td>Olay Regenerist Micro-Sculpting Cream, Anti Aging Moisturizer,1.7 oz</td>\n",
              "      <td>4902430734950</td>\n",
              "      <td>Amazon</td>\n",
              "      <td>$10.50</td>\n",
              "    </tr>\n",
              "    <tr>\n",
              "      <th>54</th>\n",
              "      <td>Olay Regenerist Whip Face Moisturizer, 1.7 oz</td>\n",
              "      <td>75609196362</td>\n",
              "      <td>Amazon</td>\n",
              "      <td>$12.50</td>\n",
              "    </tr>\n",
              "    <tr>\n",
              "      <th>55</th>\n",
              "      <td>Olay Total Effects 7 in 1 Night, 1.7 oz</td>\n",
              "      <td>4902430735148</td>\n",
              "      <td>Amazon</td>\n",
              "      <td>$8.65</td>\n",
              "    </tr>\n",
              "    <tr>\n",
              "      <th>56</th>\n",
              "      <td>Olay Total Effects 7in1 Serum 50mlx</td>\n",
              "      <td>4902430359825</td>\n",
              "      <td>Amazon</td>\n",
              "      <td>$8.65</td>\n",
              "    </tr>\n",
              "    <tr>\n",
              "      <th>57</th>\n",
              "      <td>Olay Total Effects Whip Face Moisturizer, 1.7 oz</td>\n",
              "      <td>4902430799843</td>\n",
              "      <td>Amazon</td>\n",
              "      <td>$8.00</td>\n",
              "    </tr>\n",
              "    <tr>\n",
              "      <th>58</th>\n",
              "      <td>Old Spice Beard Oil for Men, 1.7 oz</td>\n",
              "      <td>37000790600</td>\n",
              "      <td>Amazon</td>\n",
              "      <td>$3.90</td>\n",
              "    </tr>\n",
              "    <tr>\n",
              "      <th>59</th>\n",
              "      <td>Old Spice, Beard Leave In Conditioner for Men, 5 Fl Oz</td>\n",
              "      <td>37000790907</td>\n",
              "      <td>Amazon</td>\n",
              "      <td>$3.10</td>\n",
              "    </tr>\n",
              "    <tr>\n",
              "      <th>60</th>\n",
              "      <td>Old Spice, Beard Wash, Shampoo for Men, 7.6 fl oz</td>\n",
              "      <td>37000789338</td>\n",
              "      <td>NaN</td>\n",
              "      <td>$3.50</td>\n",
              "    </tr>\n",
              "    <tr>\n",
              "      <th>61</th>\n",
              "      <td>ORIGINAL SOURCE 250ML SHOWER GEL LIME</td>\n",
              "      <td>5000101844997</td>\n",
              "      <td>Amazon</td>\n",
              "      <td>$1.50</td>\n",
              "    </tr>\n",
              "    <tr>\n",
              "      <th>62</th>\n",
              "      <td>ORIGINAL SOURCE 250ML SHOWER GEL MINT &amp; TEATREE</td>\n",
              "      <td>5000101845208</td>\n",
              "      <td>Amazon</td>\n",
              "      <td>$1.50</td>\n",
              "    </tr>\n",
              "    <tr>\n",
              "      <th>63</th>\n",
              "      <td>PALMOLIVE SOAP MOISTURE CARE 4PK</td>\n",
              "      <td>8714789703015</td>\n",
              "      <td>NaN</td>\n",
              "      <td>$1.60</td>\n",
              "    </tr>\n",
              "    <tr>\n",
              "      <th>64</th>\n",
              "      <td>ProVoke Touch of Silver Brightening Shampoo</td>\n",
              "      <td>5012008467506</td>\n",
              "      <td>Amazon</td>\n",
              "      <td>$2.59</td>\n",
              "    </tr>\n",
              "    <tr>\n",
              "      <th>65</th>\n",
              "      <td>REVLON C/STAY LIQ E/LINER INTENSE BLACK</td>\n",
              "      <td>309975717013</td>\n",
              "      <td>Amazon</td>\n",
              "      <td>$2.62</td>\n",
              "    </tr>\n",
              "    <tr>\n",
              "      <th>66</th>\n",
              "      <td>REVLON COLORSTAY CRYSTALIZED EYELINER CHARMED</td>\n",
              "      <td>309970057091</td>\n",
              "      <td>Amazon</td>\n",
              "      <td>$2.15</td>\n",
              "    </tr>\n",
              "    <tr>\n",
              "      <th>67</th>\n",
              "      <td>REVLON COLORSTAY EYEBROW TINT SOFT BROWN</td>\n",
              "      <td>309970009021</td>\n",
              "      <td>Amazon</td>\n",
              "      <td>$2.57</td>\n",
              "    </tr>\n",
              "    <tr>\n",
              "      <th>68</th>\n",
              "      <td>REVLON KISS CUSHION LIP TINT CRIMSON FEELS 260</td>\n",
              "      <td>309974103053</td>\n",
              "      <td>Amazon</td>\n",
              "      <td>$1.75</td>\n",
              "    </tr>\n",
              "    <tr>\n",
              "      <th>69</th>\n",
              "      <td>RIMMEL 11ML LASH ACCELERATOR SERUM</td>\n",
              "      <td>NaN</td>\n",
              "      <td>Amazon</td>\n",
              "      <td>$3.84</td>\n",
              "    </tr>\n",
              "    <tr>\n",
              "      <th>70</th>\n",
              "      <td>Rimmel London - ScandalEyes Lycra Flex Mascara 001 Black.</td>\n",
              "      <td>3607342452169</td>\n",
              "      <td>Amazon</td>\n",
              "      <td>$3.43</td>\n",
              "    </tr>\n",
              "    <tr>\n",
              "      <th>71</th>\n",
              "      <td>SCHWARZKOPF GOT2B 10G POWDERFUL STYLING POWDER</td>\n",
              "      <td>7332531019330</td>\n",
              "      <td>Amazon</td>\n",
              "      <td>$4.22</td>\n",
              "    </tr>\n",
              "    <tr>\n",
              "      <th>72</th>\n",
              "      <td>Schwarzkopf Got2b Beach Matte Salt Spray (200ml)</td>\n",
              "      <td>5012583203261</td>\n",
              "      <td>Amazon</td>\n",
              "      <td>$4.00</td>\n",
              "    </tr>\n",
              "    <tr>\n",
              "      <th>73</th>\n",
              "      <td>Simple Cleansing Facial Wipes, Oil Balancing 25 ct</td>\n",
              "      <td>NaN</td>\n",
              "      <td>Amazon</td>\n",
              "      <td>$2.90</td>\n",
              "    </tr>\n",
              "    <tr>\n",
              "      <th>74</th>\n",
              "      <td>Simple Kind to Skin Refreshing Facial Wash Gel ,150 ml (5 Ounce)</td>\n",
              "      <td>5011451103863</td>\n",
              "      <td>Amazon</td>\n",
              "      <td>$2.00</td>\n",
              "    </tr>\n",
              "    <tr>\n",
              "      <th>75</th>\n",
              "      <td>Simple Kind to Skin Smoothing Facial Scrub, 2.5 Ounce / 75 Ml</td>\n",
              "      <td>5011451103894</td>\n",
              "      <td>Amazon</td>\n",
              "      <td>$1.82</td>\n",
              "    </tr>\n",
              "    <tr>\n",
              "      <th>76</th>\n",
              "      <td>Simple Soothing Facial Toner, for Naturally Healthy Looking Skin, 6.76 Ounce</td>\n",
              "      <td>5011451103856</td>\n",
              "      <td>Amazon</td>\n",
              "      <td>$1.60</td>\n",
              "    </tr>\n",
              "    <tr>\n",
              "      <th>77</th>\n",
              "      <td>St Ives Gentle Apricot Facial Scrub 150ML</td>\n",
              "      <td>5012254059777</td>\n",
              "      <td>Amazon</td>\n",
              "      <td>$2.10</td>\n",
              "    </tr>\n",
              "    <tr>\n",
              "      <th>78</th>\n",
              "      <td>ST MORIZ SELF TAN MOUSSE DARK 200 ml</td>\n",
              "      <td>5060427351272</td>\n",
              "      <td>Amazon</td>\n",
              "      <td>$4.50</td>\n",
              "    </tr>\n",
              "    <tr>\n",
              "      <th>79</th>\n",
              "      <td>ST MORIZ SELF TAN MOUSSE MEDIUM 200 ml</td>\n",
              "      <td>5060427351258</td>\n",
              "      <td>Amazon</td>\n",
              "      <td>$4.00</td>\n",
              "    </tr>\n",
              "    <tr>\n",
              "      <th>80</th>\n",
              "      <td>St. Moriz Professional Self Tan Lotion Medium 250ml</td>\n",
              "      <td>5060427350169</td>\n",
              "      <td>Amazon</td>\n",
              "      <td>$2.86</td>\n",
              "    </tr>\n",
              "    <tr>\n",
              "      <th>81</th>\n",
              "      <td>Sulfate Free Hair Oil Dye Free Smoothing and Nourishing Treatment, Coconut, Hair Food, 3.2 FL OZ</td>\n",
              "      <td>NaN</td>\n",
              "      <td>Amazon</td>\n",
              "      <td>$3.00</td>\n",
              "    </tr>\n",
              "    <tr>\n",
              "      <th>82</th>\n",
              "      <td>Tree Hut Bath Bomb Charcoal Fig &amp; Olive</td>\n",
              "      <td>75371022036</td>\n",
              "      <td>Amazon</td>\n",
              "      <td>$1.50</td>\n",
              "    </tr>\n",
              "    <tr>\n",
              "      <th>83</th>\n",
              "      <td>Tree Hut Bath Bomb Coconut Lime</td>\n",
              "      <td>75371022005</td>\n",
              "      <td>Amazon</td>\n",
              "      <td>$1.50</td>\n",
              "    </tr>\n",
              "    <tr>\n",
              "      <th>84</th>\n",
              "      <td>Tree Hut Bath Bomb Moroccan Rose</td>\n",
              "      <td>75371022029</td>\n",
              "      <td>Amazon</td>\n",
              "      <td>$1.50</td>\n",
              "    </tr>\n",
              "    <tr>\n",
              "      <th>85</th>\n",
              "      <td>Tree Hut Bath Bomb Tropical Mango</td>\n",
              "      <td>75371022012</td>\n",
              "      <td>Amazon</td>\n",
              "      <td>$1.50</td>\n",
              "    </tr>\n",
              "    <tr>\n",
              "      <th>86</th>\n",
              "      <td>Tree Hut Hydro- light Gel Island Bliss 6 oz</td>\n",
              "      <td>75371008047</td>\n",
              "      <td>Amazon</td>\n",
              "      <td>$1.50</td>\n",
              "    </tr>\n",
              "    <tr>\n",
              "      <th>87</th>\n",
              "      <td>Tree Hut Hydro- Light Gel Sunkissed Sands</td>\n",
              "      <td>75371022234</td>\n",
              "      <td>Amazon</td>\n",
              "      <td>$1.50</td>\n",
              "    </tr>\n",
              "    <tr>\n",
              "      <th>88</th>\n",
              "      <td>Vaseline 1 Blueseal Pure Petroleum Jelly Original 100ml</td>\n",
              "      <td>6001085120946</td>\n",
              "      <td>Amazon</td>\n",
              "      <td>$0.71</td>\n",
              "    </tr>\n",
              "    <tr>\n",
              "      <th>89</th>\n",
              "      <td>VASELINE 20G LIP THERAPY PETROLEUM JELLY ROSY LIPS</td>\n",
              "      <td>50064861</td>\n",
              "      <td>Amazon</td>\n",
              "      <td>$0.70</td>\n",
              "    </tr>\n",
              "    <tr>\n",
              "      <th>90</th>\n",
              "      <td>VASELINE 400ML BODY LOTION MATURE SKIN</td>\n",
              "      <td>8714100012604</td>\n",
              "      <td>Amazon</td>\n",
              "      <td>$2.15</td>\n",
              "    </tr>\n",
              "    <tr>\n",
              "      <th>91</th>\n",
              "      <td>Vaseline Blue Seal Gentle Protective Jelly Baby 100ml</td>\n",
              "      <td>60019066</td>\n",
              "      <td>Amazon</td>\n",
              "      <td>$0.74</td>\n",
              "    </tr>\n",
              "    <tr>\n",
              "      <th>92</th>\n",
              "      <td>Vaseline Blueseal Gentle Protective Jelly 250ml - Baby</td>\n",
              "      <td>6001087005647</td>\n",
              "      <td>Amazon</td>\n",
              "      <td>$1.52</td>\n",
              "    </tr>\n",
              "    <tr>\n",
              "      <th>93</th>\n",
              "      <td>vaseline blueseal petrolium jelly aloe fresh 100 ml</td>\n",
              "      <td>60018915</td>\n",
              "      <td>Amazon</td>\n",
              "      <td>$0.78</td>\n",
              "    </tr>\n",
              "    <tr>\n",
              "      <th>94</th>\n",
              "      <td>Vaseline BlueSeal Pure Petroleum Jelly 1.7oz (50ml)</td>\n",
              "      <td>60014399</td>\n",
              "      <td>Amazon</td>\n",
              "      <td>$0.50</td>\n",
              "    </tr>\n",
              "    <tr>\n",
              "      <th>95</th>\n",
              "      <td>VASELINE BLUESEAL PURE PETROLEUM JELLY 250ML - ORIGINAL</td>\n",
              "      <td>6001087005661</td>\n",
              "      <td>Amazon</td>\n",
              "      <td>$1.52</td>\n",
              "    </tr>\n",
              "    <tr>\n",
              "      <th>96</th>\n",
              "      <td>Vaseline Blueseal Rich Conditioning Jelly 250ml - Cocoa Butter</td>\n",
              "      <td>6001087005654</td>\n",
              "      <td>Amazon</td>\n",
              "      <td>$1.52</td>\n",
              "    </tr>\n",
              "    <tr>\n",
              "      <th>97</th>\n",
              "      <td>VASELINE HAIR TONIC</td>\n",
              "      <td>8901030556647</td>\n",
              "      <td>NaN</td>\n",
              "      <td>$1.05</td>\n",
              "    </tr>\n",
              "    <tr>\n",
              "      <th>98</th>\n",
              "      <td>Vaseline Intensive Care Advanced Repair Lotion 400ml</td>\n",
              "      <td>8712561480369</td>\n",
              "      <td>Amazon</td>\n",
              "      <td>$2.10</td>\n",
              "    </tr>\n",
              "    <tr>\n",
              "      <th>99</th>\n",
              "      <td>Vaseline Intensive Care Lotion, Cocoa Glow 400 ml</td>\n",
              "      <td>8712561483162</td>\n",
              "      <td>Amazon</td>\n",
              "      <td>$2.10</td>\n",
              "    </tr>\n",
              "    <tr>\n",
              "      <th>100</th>\n",
              "      <td>Vaseline Lip Balm 20g/0.705oz</td>\n",
              "      <td>B01CYTVRAQ</td>\n",
              "      <td>Amazon</td>\n",
              "      <td>$0.70</td>\n",
              "    </tr>\n",
              "    <tr>\n",
              "      <th>101</th>\n",
              "      <td>Vaseline Petroleum Jelly Blue Seal With Cocoa Butter (100ml)</td>\n",
              "      <td>60018960</td>\n",
              "      <td>Amazon</td>\n",
              "      <td>$0.71</td>\n",
              "    </tr>\n",
              "    <tr>\n",
              "      <th>102</th>\n",
              "      <td>Vaseline Petroleum Jelly With Nourishing Vitamin E BlueSeal 3.4 oz (100ml)</td>\n",
              "      <td>6001085121028</td>\n",
              "      <td>Amazon</td>\n",
              "      <td>$0.75</td>\n",
              "    </tr>\n",
              "    <tr>\n",
              "      <th>103</th>\n",
              "      <td>Vitamin C Face Serum by Olay, Skin Brightening Serum Stick with Vitamin C and Vitamin B3, 0.47 Fl Oz</td>\n",
              "      <td>75609198335</td>\n",
              "      <td>Amazon</td>\n",
              "      <td>$4.85</td>\n",
              "    </tr>\n",
              "    <tr>\n",
              "      <th>104</th>\n",
              "      <td>Wetbrush Mini Detangler Geos Triangle</td>\n",
              "      <td>NaN</td>\n",
              "      <td>Amazon</td>\n",
              "      <td>$2.21</td>\n",
              "    </tr>\n",
              "    <tr>\n",
              "      <th>105</th>\n",
              "      <td>Maybelline Lash Sensational Luscious Mascara, Black, 0.32 Ounce</td>\n",
              "      <td>3600531320065</td>\n",
              "      <td>https://www.amazon.com/dp/B01BP0VPUM?ref=myi</td>\n",
              "      <td>title_dp$4.50</td>\n",
              "    </tr>\n",
              "    <tr>\n",
              "      <th>106</th>\n",
              "      <td>Old Spice After Shave Lotion Original 150ml</td>\n",
              "      <td>8001090978714</td>\n",
              "      <td>https://www.amazon.com/dp/B001HVA4G6?ref=myi_</td>\n",
              "      <td>itle_dp$6.00</td>\n",
              "    </tr>\n",
              "    <tr>\n",
              "      <th>107</th>\n",
              "      <td>Simple Kind To Skin Micellar Cleansing Water 200Ml</td>\n",
              "      <td>8712561669825</td>\n",
              "      <td>https://www.amazon.com/dp/B00X3OQ6N0?ref=myi</td>\n",
              "      <td>title_dp$1.5</td>\n",
              "    </tr>\n",
              "    <tr>\n",
              "      <th>108</th>\n",
              "      <td>Simple Water Boost Micellar Make-Up Remover, Eye Pads, 30 Count</td>\n",
              "      <td>8710908810015</td>\n",
              "      <td>https://www.amazon.com/dp/B076TP27NK?ref=myi_</td>\n",
              "      <td>itle_dp$1.7</td>\n",
              "    </tr>\n",
              "  </tbody>\n",
              "</table>\n",
              "</div>"
            ],
            "text/plain": [
              "                                                                                                                                 DESCRIPTION  \\\n",
              "0    AQUAFRESH TOOTHPASTE TRIPLE PROTECT PUMP                                                                                                  \n",
              "1    B.TAN SELF TAN MOUSSE DARK FAKE IT TILL MAKE IT                                                                                           \n",
              "2    BIORE 200ML BLUE AGAVE & BAKING SODA BALANCING PORE CLEANSER                                                                              \n",
              "3    Brut Original Edt Spray for Men, 3.38 Ounce                                                                                               \n",
              "4    Brylcreem Hairdressing Original Gel, 250 ml                                                                                               \n",
              "5    Bull Dog Skincare for Men Original Shower Gel 6.70 Ounces                                                                                 \n",
              "6    BULLDOG MOISTURISER ORIGINAL 100ML                                                                                                        \n",
              "7    Bulldog Natural Skincare Original Face Wash For Men, 5 Oz                                                                                 \n",
              "8    CLEAN & CLEAR 15ML GEL ADVANTAGE QUICK CLEAR SPOT TREATMENT                                                                               \n",
              "9    CLEARASIL RAPID ACTION TREAT CREAM                                                                                                        \n",
              "10   CLEARASIL ULTRA RAPID ACTION GEL                                                                                                          \n",
              "11   Colgate Cavity Protection Toothpaste Pump 100g                                                                                            \n",
              "12   Colgate Colgate total toothpaste, clean mint, 3.3 oz. 2-pack- paste, 6.6 Fl Oz                                                            \n",
              "13   DOVE 100G SOAP BEAUTY CREAM ORIGINAL                                                                                                      \n",
              "14   DOVE BEAUTY CREAM (POT) (L)                                                                                                               \n",
              "15   Dove Derma Spa Summer Revived Medium to Dark Skin Body Lotion 200 ml                                                                      \n",
              "16   DOVE DERMASPA SUMMER REVIVED FAIR-MED                                                                                                     \n",
              "17   Dove Men + Care Antiperspirant Deodorant - Invisible Dry Roll-On (50ml)                                                                   \n",
              "18   Dove Men Clean Comfort Anti-perspirant Deodorant Roll-on 50ml                                                                             \n",
              "19   DOVE NOURISHING BODY CREAM                                                                                                                \n",
              "20   Dove Purely Pampering Shea Butter With Warm Vanilla Scent By Dove for Unisex 3.5 Oz pack of 4                                             \n",
              "21   E45 Dermatological Cream 125G                                                                                                             \n",
              "22   Euthymol Original Toothpaste 75ml                                                                                                         \n",
              "23   Garnier Skin Naturals Simply Essentials 2 in 1 Make-up Remover                                                                            \n",
              "24   Gillette Mach 3 Razor 2up                                                                                                                 \n",
              "25   Gillette Sensor Excel Men's Razor Blade Refills - Pack of 5                                                                               \n",
              "26   JOHNSONS BABY 200 COTTON BUDS NEW PACK                                                                                                    \n",
              "27   Kiss My Face Early-to-Rise Moisturizing Shower Gel, Bath and Body Wash, 16 oz                                                             \n",
              "28   L'OREAL AGE PERFECT 15ML EYE CREAM 15ml                                                                                                   \n",
              "29   LISTERINE 250ML MOUTHWASH COOL MINT                                                                                                       \n",
              "30   LISTERINE 500ML MOUTHWASH ADVANCED DEFENCE SENSITIVE                                                                                      \n",
              "31   LISTERINE 500ML MOUTHWASH COOL MINT                                                                                                       \n",
              "32   LISTERINE 500ML MOUTHWASH COOL MINT ZERO ALCOHOL                                                                                          \n",
              "33   Loreal 250 ml kids shampoo mango tango                                                                                                    \n",
              "34   NEUTROGENA 200ML HYDRO BOOST WATER GEL CLEANSER                                                                                           \n",
              "35   NEUTROGENA 50ML HAND CREAM SCENTED                                                                                                        \n",
              "36   NEUTROGENA 50ML HYDRO BOOST GEL CREAM                                                                                                     \n",
              "37   NEUTROGENA 75ML HAND CREAM GEL HYDRO BOOST                                                                                                \n",
              "38   NEUTROGENA BLACKHEAD ELIMINATING STRIP TO SCRUB 6'S                                                                                       \n",
              "39   NEUTROGENA CLEAR & SOOTHE 125ML TONING MIST                                                                                               \n",
              "40   Neutrogena Norwegian Formula Hand Cream 50Ml                                                                                              \n",
              "41   NEUTROGENA REFRESHINGLY CLEAR 150ML DAILY EXFOLIATOR                                                                                      \n",
              "42   Nivea Creme Soft Bar Soap -100g ea                                                                                                        \n",
              "43   Nivea Lip Care Fruity Shine Cherry 4.8g Unboxed                                                                                           \n",
              "44   Nivea Lip Care Pearl & Shine 4.8G unboxed                                                                                                 \n",
              "45   NIVEA Q10 200ML BODY GEL-CREAM GOODBYE CELLULITE                                                                                          \n",
              "46   Nivea Womens Deodorant Roll-On Double Effect 50 Ml                                                                                        \n",
              "47   Olay Age Defying Face Wash 150ML                                                                                                          \n",
              "48   OLAY ANTI-WRINKLE 50ML 2-IN-1 DAY CREAM & SERUM FIRM & LIFT                                                                               \n",
              "49   OLAY ANTI-WRINKLE 50ML MOISTURISER NIGHT CREAM FIRM & LIFT                                                                                \n",
              "50   Olay Anti-wrinkle Firm And Lift Two In One Day Cream And Firming Serum, 50ml                                                              \n",
              "51   Olay Luminous Advanced Tone Perfecting Micellar Water 237 mL                                                                              \n",
              "52   Olay Magnemasks Infusion - Korean Skin Care Inspired Deep Hydration, Rejuvenating Face Mask for Fine Lines & Sagging Skin - Starter Kit   \n",
              "53   Olay Regenerist Micro-Sculpting Cream, Anti Aging Moisturizer,1.7 oz                                                                      \n",
              "54   Olay Regenerist Whip Face Moisturizer, 1.7 oz                                                                                             \n",
              "55   Olay Total Effects 7 in 1 Night, 1.7 oz                                                                                                   \n",
              "56   Olay Total Effects 7in1 Serum 50mlx                                                                                                       \n",
              "57   Olay Total Effects Whip Face Moisturizer, 1.7 oz                                                                                          \n",
              "58   Old Spice Beard Oil for Men, 1.7 oz                                                                                                       \n",
              "59   Old Spice, Beard Leave In Conditioner for Men, 5 Fl Oz                                                                                    \n",
              "60   Old Spice, Beard Wash, Shampoo for Men, 7.6 fl oz                                                                                         \n",
              "61   ORIGINAL SOURCE 250ML SHOWER GEL LIME                                                                                                     \n",
              "62   ORIGINAL SOURCE 250ML SHOWER GEL MINT & TEATREE                                                                                           \n",
              "63   PALMOLIVE SOAP MOISTURE CARE 4PK                                                                                                          \n",
              "64   ProVoke Touch of Silver Brightening Shampoo                                                                                               \n",
              "65   REVLON C/STAY LIQ E/LINER INTENSE BLACK                                                                                                   \n",
              "66   REVLON COLORSTAY CRYSTALIZED EYELINER CHARMED                                                                                             \n",
              "67   REVLON COLORSTAY EYEBROW TINT SOFT BROWN                                                                                                  \n",
              "68   REVLON KISS CUSHION LIP TINT CRIMSON FEELS 260                                                                                            \n",
              "69   RIMMEL 11ML LASH ACCELERATOR SERUM                                                                                                        \n",
              "70   Rimmel London - ScandalEyes Lycra Flex Mascara 001 Black.                                                                                 \n",
              "71   SCHWARZKOPF GOT2B 10G POWDERFUL STYLING POWDER                                                                                            \n",
              "72   Schwarzkopf Got2b Beach Matte Salt Spray (200ml)                                                                                          \n",
              "73   Simple Cleansing Facial Wipes, Oil Balancing 25 ct                                                                                        \n",
              "74   Simple Kind to Skin Refreshing Facial Wash Gel ,150 ml (5 Ounce)                                                                          \n",
              "75   Simple Kind to Skin Smoothing Facial Scrub, 2.5 Ounce / 75 Ml                                                                             \n",
              "76   Simple Soothing Facial Toner, for Naturally Healthy Looking Skin, 6.76 Ounce                                                              \n",
              "77   St Ives Gentle Apricot Facial Scrub 150ML                                                                                                 \n",
              "78   ST MORIZ SELF TAN MOUSSE DARK 200 ml                                                                                                      \n",
              "79   ST MORIZ SELF TAN MOUSSE MEDIUM 200 ml                                                                                                    \n",
              "80   St. Moriz Professional Self Tan Lotion Medium 250ml                                                                                       \n",
              "81   Sulfate Free Hair Oil Dye Free Smoothing and Nourishing Treatment, Coconut, Hair Food, 3.2 FL OZ                                          \n",
              "82   Tree Hut Bath Bomb Charcoal Fig & Olive                                                                                                   \n",
              "83   Tree Hut Bath Bomb Coconut Lime                                                                                                           \n",
              "84   Tree Hut Bath Bomb Moroccan Rose                                                                                                          \n",
              "85   Tree Hut Bath Bomb Tropical Mango                                                                                                         \n",
              "86   Tree Hut Hydro- light Gel Island Bliss 6 oz                                                                                               \n",
              "87   Tree Hut Hydro- Light Gel Sunkissed Sands                                                                                                 \n",
              "88   Vaseline 1 Blueseal Pure Petroleum Jelly Original 100ml                                                                                   \n",
              "89   VASELINE 20G LIP THERAPY PETROLEUM JELLY ROSY LIPS                                                                                        \n",
              "90   VASELINE 400ML BODY LOTION MATURE SKIN                                                                                                    \n",
              "91   Vaseline Blue Seal Gentle Protective Jelly Baby 100ml                                                                                     \n",
              "92   Vaseline Blueseal Gentle Protective Jelly 250ml - Baby                                                                                    \n",
              "93   vaseline blueseal petrolium jelly aloe fresh 100 ml                                                                                       \n",
              "94   Vaseline BlueSeal Pure Petroleum Jelly 1.7oz (50ml)                                                                                       \n",
              "95   VASELINE BLUESEAL PURE PETROLEUM JELLY 250ML - ORIGINAL                                                                                   \n",
              "96   Vaseline Blueseal Rich Conditioning Jelly 250ml - Cocoa Butter                                                                            \n",
              "97   VASELINE HAIR TONIC                                                                                                                       \n",
              "98   Vaseline Intensive Care Advanced Repair Lotion 400ml                                                                                      \n",
              "99   Vaseline Intensive Care Lotion, Cocoa Glow 400 ml                                                                                         \n",
              "100  Vaseline Lip Balm 20g/0.705oz                                                                                                             \n",
              "101  Vaseline Petroleum Jelly Blue Seal With Cocoa Butter (100ml)                                                                              \n",
              "102  Vaseline Petroleum Jelly With Nourishing Vitamin E BlueSeal 3.4 oz (100ml)                                                                \n",
              "103  Vitamin C Face Serum by Olay, Skin Brightening Serum Stick with Vitamin C and Vitamin B3, 0.47 Fl Oz                                      \n",
              "104  Wetbrush Mini Detangler Geos Triangle                                                                                                     \n",
              "105  Maybelline Lash Sensational Luscious Mascara, Black, 0.32 Ounce                                                                           \n",
              "106  Old Spice After Shave Lotion Original 150ml                                                                                               \n",
              "107  Simple Kind To Skin Micellar Cleansing Water 200Ml                                                                                        \n",
              "108  Simple Water Boost Micellar Make-Up Remover, Eye Pads, 30 Count                                                                           \n",
              "\n",
              "               UPC                                           LINK  \\\n",
              "0    5000347027147  Amazon                                          \n",
              "1    9347108008721  Amazon                                          \n",
              "2    5017634258191  Amazon                                          \n",
              "3    3014230021039  Amazon                                          \n",
              "4    5000231039546  Amazon                                          \n",
              "5    NaN            Amazon                                          \n",
              "6    5060144648181  Amazon                                          \n",
              "7    5060144642240  Amazon                                          \n",
              "8    3574660178821  Amazon                                          \n",
              "9    5011417544846  Amazon                                          \n",
              "10   5000158100633  Amazon                                          \n",
              "11   5000209100513  Amazon                                          \n",
              "12   8718951351516  Amazon                                          \n",
              "13   8000700000005  NaN                                             \n",
              "14   8886467020117  Amazon                                          \n",
              "15   8710908710216  Amazon                                          \n",
              "16   8712561982641  Amazon                                          \n",
              "17   96022313       Amazon                                          \n",
              "18   50210404       NaN                                             \n",
              "19   8886467020094  NaN                                             \n",
              "20   8711600804418  Amazon                                          \n",
              "21   5000167010220  Amazon                                          \n",
              "22   5010123715175  Amazon                                          \n",
              "23   3600541029019  NaN                                             \n",
              "24   3014260239626  Walmart                                         \n",
              "25   47400115507    Walmart                                         \n",
              "26   3574661440477  Amazon                                          \n",
              "27   28367830634    Amazon                                          \n",
              "28   3600520070285  Amazon                                          \n",
              "29   5010123703509  Amazon                                          \n",
              "30   3574661014593  Amazon                                          \n",
              "31   5010123703585  Amazon                                          \n",
              "32   3574660649895  Amazon                                          \n",
              "33   B01CYTVRAQ     Amazon                                          \n",
              "34   NaN            Walmart                                         \n",
              "35   3574660600094  Amazon                                          \n",
              "36   3574661287232  Amazon                                          \n",
              "37   3574661392486  Walmart                                         \n",
              "38   3574661483542  Amazon                                          \n",
              "39   3574661529219  Amazon                                          \n",
              "40   3574660600094  Amazon                                          \n",
              "41   3574661498430  Amazon                                          \n",
              "42   4005808505999  Amazon                                          \n",
              "43   NaN            Amazon                                          \n",
              "44   NaN            Amazon                                          \n",
              "45   4005900513571  Amazon                                          \n",
              "46   42345275       Amazon                                          \n",
              "47   5000174990713  Amazon                                          \n",
              "48   5410076304448  Amazon                                          \n",
              "49   5000174944662  Amazon                                          \n",
              "50   B004WK84P2     Amazon                                          \n",
              "51   8001841757292  Amazon                                          \n",
              "52   4902430822985  Amazon                                          \n",
              "53   4902430734950  Amazon                                          \n",
              "54   75609196362    Amazon                                          \n",
              "55   4902430735148  Amazon                                          \n",
              "56   4902430359825  Amazon                                          \n",
              "57   4902430799843  Amazon                                          \n",
              "58   37000790600    Amazon                                          \n",
              "59   37000790907    Amazon                                          \n",
              "60   37000789338    NaN                                             \n",
              "61   5000101844997  Amazon                                          \n",
              "62   5000101845208  Amazon                                          \n",
              "63   8714789703015  NaN                                             \n",
              "64   5012008467506  Amazon                                          \n",
              "65   309975717013   Amazon                                          \n",
              "66   309970057091   Amazon                                          \n",
              "67   309970009021   Amazon                                          \n",
              "68   309974103053   Amazon                                          \n",
              "69   NaN            Amazon                                          \n",
              "70   3607342452169  Amazon                                          \n",
              "71   7332531019330  Amazon                                          \n",
              "72   5012583203261  Amazon                                          \n",
              "73   NaN            Amazon                                          \n",
              "74   5011451103863  Amazon                                          \n",
              "75   5011451103894  Amazon                                          \n",
              "76   5011451103856  Amazon                                          \n",
              "77   5012254059777  Amazon                                          \n",
              "78   5060427351272  Amazon                                          \n",
              "79   5060427351258  Amazon                                          \n",
              "80   5060427350169  Amazon                                          \n",
              "81   NaN            Amazon                                          \n",
              "82   75371022036    Amazon                                          \n",
              "83   75371022005    Amazon                                          \n",
              "84   75371022029    Amazon                                          \n",
              "85   75371022012    Amazon                                          \n",
              "86   75371008047    Amazon                                          \n",
              "87   75371022234    Amazon                                          \n",
              "88   6001085120946  Amazon                                          \n",
              "89   50064861       Amazon                                          \n",
              "90   8714100012604  Amazon                                          \n",
              "91   60019066       Amazon                                          \n",
              "92   6001087005647  Amazon                                          \n",
              "93   60018915       Amazon                                          \n",
              "94   60014399       Amazon                                          \n",
              "95   6001087005661  Amazon                                          \n",
              "96   6001087005654  Amazon                                          \n",
              "97   8901030556647  NaN                                             \n",
              "98   8712561480369  Amazon                                          \n",
              "99   8712561483162  Amazon                                          \n",
              "100  B01CYTVRAQ     Amazon                                          \n",
              "101  60018960       Amazon                                          \n",
              "102  6001085121028  Amazon                                          \n",
              "103  75609198335    Amazon                                          \n",
              "104  NaN            Amazon                                          \n",
              "105  3600531320065  https://www.amazon.com/dp/B01BP0VPUM?ref=myi    \n",
              "106  8001090978714  https://www.amazon.com/dp/B001HVA4G6?ref=myi_   \n",
              "107  8712561669825  https://www.amazon.com/dp/B00X3OQ6N0?ref=myi    \n",
              "108  8710908810015  https://www.amazon.com/dp/B076TP27NK?ref=myi_   \n",
              "\n",
              "              COST  \n",
              "0    $2.00          \n",
              "1    $2.10          \n",
              "2    $2.50          \n",
              "3    $4.25          \n",
              "4    $3.00          \n",
              "5    $2.50          \n",
              "6    $4.25          \n",
              "7    $2.50          \n",
              "8    $12.50         \n",
              "9    $4.50          \n",
              "10   $4.50          \n",
              "11   $2.00          \n",
              "12   $2.75          \n",
              "13   $0.50          \n",
              "14   $1.53          \n",
              "15   $2.60          \n",
              "16   $2.85          \n",
              "17   $1.12          \n",
              "18   $1.12          \n",
              "19   $0.87          \n",
              "20   $1.90          \n",
              "21   $3.58          \n",
              "22   $1.70          \n",
              "23   NaN            \n",
              "24   $4.00          \n",
              "25   $3.75          \n",
              "26   $1.30          \n",
              "27   $4.00          \n",
              "28   $7.50          \n",
              "29   $1.50          \n",
              "30   $2.91          \n",
              "31   $2.23          \n",
              "32   $2.38          \n",
              "33   $2.00          \n",
              "34   $5.50          \n",
              "35   $2.33          \n",
              "36   $8.99          \n",
              "37   $3.25          \n",
              "38   $2.75          \n",
              "39   $3.50          \n",
              "40   $2.33          \n",
              "41   $2.91          \n",
              "42   $0.72          \n",
              "43   $1.01          \n",
              "44   $1.01          \n",
              "45   $5.42          \n",
              "46   $2.00          \n",
              "47   $3.00          \n",
              "48   $6.40          \n",
              "49   $6.30          \n",
              "50   $6.00          \n",
              "51   $4.50          \n",
              "52   $8.65          \n",
              "53   $10.50         \n",
              "54   $12.50         \n",
              "55   $8.65          \n",
              "56   $8.65          \n",
              "57   $8.00          \n",
              "58   $3.90          \n",
              "59   $3.10          \n",
              "60   $3.50          \n",
              "61   $1.50          \n",
              "62   $1.50          \n",
              "63   $1.60          \n",
              "64   $2.59          \n",
              "65   $2.62          \n",
              "66   $2.15          \n",
              "67   $2.57          \n",
              "68   $1.75          \n",
              "69   $3.84          \n",
              "70   $3.43          \n",
              "71   $4.22          \n",
              "72   $4.00          \n",
              "73   $2.90          \n",
              "74   $2.00          \n",
              "75   $1.82          \n",
              "76   $1.60          \n",
              "77   $2.10          \n",
              "78   $4.50          \n",
              "79   $4.00          \n",
              "80   $2.86          \n",
              "81   $3.00          \n",
              "82   $1.50          \n",
              "83   $1.50          \n",
              "84   $1.50          \n",
              "85   $1.50          \n",
              "86   $1.50          \n",
              "87   $1.50          \n",
              "88   $0.71          \n",
              "89   $0.70          \n",
              "90   $2.15          \n",
              "91   $0.74          \n",
              "92   $1.52          \n",
              "93   $0.78          \n",
              "94   $0.50          \n",
              "95   $1.52          \n",
              "96   $1.52          \n",
              "97   $1.05          \n",
              "98   $2.10          \n",
              "99   $2.10          \n",
              "100  $0.70          \n",
              "101  $0.71          \n",
              "102  $0.75          \n",
              "103  $4.85          \n",
              "104  $2.21          \n",
              "105  title_dp$4.50  \n",
              "106  itle_dp$6.00   \n",
              "107  title_dp$1.5   \n",
              "108  itle_dp$1.7    "
            ]
          },
          "execution_count": 114,
          "metadata": {},
          "output_type": "execute_result"
        }
      ],
      "source": [
        "# EcomWholesaleDeals \n",
        "\n"
      ]
    },
    {
      "cell_type": "code",
      "execution_count": 87,
      "metadata": {},
      "outputs": [],
      "source": [
        "links={\n",
        "    'EpilsonWholesale': \"https://img1.wsimg.com/blobby/go/271277f5-5f94-472c-b153-578386146f02/downloads/COSMETIC%20SPREED%20SHEET%20%20(1).xlsx?ver=1680857754932\",\n",
        "    'GSCommodityTrading': \"https://docs.google.com/spreadsheets/d/1EJ8kbB89SYv5fYeeCgds5ue7p_3nyckyN_yujUquJeo/edit#gid=0\",\n",
        "    'MinMaxDeals': \"https://docs.google.com/spreadsheets/d/151_G7FTLfJP7y9kypBEF4sYN7gICIrYT/edit\",\n",
        "    'KNTradingLLC': \"https://06315f73-014b-478e-b312-e53df7038d3a.filesusr.com/ugd/cc4fa6_9d8a073014d4499d8d117b6724916ea8.xlsx?dn=3_23%20KN%20INVENTORY.xlsx\",\n",
        "    'EcomWholesaleDeals': '1EIzkO1ES0v1VcabxOUQ7VaREIjMnxSgB'\n",
        "}\n"
      ]
    },
    {
      "cell_type": "code",
      "execution_count": 88,
      "metadata": {},
      "outputs": [
        {
          "data": {
            "text/plain": [
              "'1EIzkO1ES0v1VcabxOUQ7VaREIjMnxSgB'"
            ]
          },
          "execution_count": 88,
          "metadata": {},
          "output_type": "execute_result"
        }
      ],
      "source": [
        "url=links['EcomWholesaleDeals']\n",
        "url"
      ]
    },
    {
      "cell_type": "code",
      "execution_count": 36,
      "metadata": {
        "colab": {
          "base_uri": "https://localhost:8080/",
          "height": 67
        },
        "id": "lyCnzbM7qU3y",
        "outputId": "76c34518-098a-4314-8789-5e6fbe9aacf2"
      },
      "outputs": [
        {
          "name": "stdout",
          "output_type": "stream",
          "text": [
            "(0, 0)\n"
          ]
        },
        {
          "data": {
            "text/html": [
              "<div>\n",
              "<style scoped>\n",
              "    .dataframe tbody tr th:only-of-type {\n",
              "        vertical-align: middle;\n",
              "    }\n",
              "\n",
              "    .dataframe tbody tr th {\n",
              "        vertical-align: top;\n",
              "    }\n",
              "\n",
              "    .dataframe thead th {\n",
              "        text-align: right;\n",
              "    }\n",
              "</style>\n",
              "<table border=\"1\" class=\"dataframe\">\n",
              "  <thead>\n",
              "    <tr style=\"text-align: right;\">\n",
              "      <th></th>\n",
              "    </tr>\n",
              "  </thead>\n",
              "  <tbody>\n",
              "  </tbody>\n",
              "</table>\n",
              "</div>"
            ],
            "text/plain": [
              "Empty DataFrame\n",
              "Columns: []\n",
              "Index: []"
            ]
          },
          "execution_count": 36,
          "metadata": {},
          "output_type": "execute_result"
        }
      ],
      "source": [
        "df1=get_catalog_google_sheets(url).reset_index(drop=True)\n",
        "print(df1.shape)\n",
        "# df1=df1.iloc[9:]\n",
        "df1.head()\n"
      ]
    },
    {
      "cell_type": "code",
      "execution_count": 45,
      "metadata": {
        "colab": {
          "base_uri": "https://localhost:8080/",
          "height": 224
        },
        "id": "dbcS6K5dqU3y",
        "outputId": "cdef98c8-025c-4a9d-dd82-1599743923d6"
      },
      "outputs": [],
      "source": [
        "df2=get_catalog_google_sheets_2(url, sheet_name='Sheet1')\n",
        "df2=make_first_row_header(df2)\n",
        "\n",
        "df2=df2[[x for x in df2.columns.tolist() if x!=None]]\n",
        "# df2=df2.dropna()\n",
        "\n",
        "print(df2.shape)\n",
        "df2.head()"
      ]
    },
    {
      "cell_type": "code",
      "execution_count": 21,
      "metadata": {
        "colab": {
          "base_uri": "https://localhost:8080/"
        },
        "id": "mC9eeZNRud2l",
        "outputId": "965cbb1e-adf2-4285-fbe5-416e76d2b7dc"
      },
      "outputs": [
        {
          "data": {
            "text/plain": [
              "(0, 0)"
            ]
          },
          "execution_count": 21,
          "metadata": {},
          "output_type": "execute_result"
        }
      ],
      "source": [
        "df3=get_catalog_google_sheets_3(url)\n",
        "df3.shape\n"
      ]
    },
    {
      "cell_type": "code",
      "execution_count": 43,
      "metadata": {
        "colab": {
          "base_uri": "https://localhost:8080/"
        },
        "id": "otDAuR4Uud7j",
        "outputId": "2b130a10-8e9c-4b0a-cb4a-a368e5b67d5c"
      },
      "outputs": [
        {
          "name": "stdout",
          "output_type": "stream",
          "text": [
            "Invalid URL '1EIzkO1ES0v1VcabxOUQ7VaREIjMnxSgB': No scheme supplied. Perhaps you meant http://1EIzkO1ES0v1VcabxOUQ7VaREIjMnxSgB?\n",
            "(0, 0)\n"
          ]
        },
        {
          "data": {
            "text/html": [
              "<div>\n",
              "<style scoped>\n",
              "    .dataframe tbody tr th:only-of-type {\n",
              "        vertical-align: middle;\n",
              "    }\n",
              "\n",
              "    .dataframe tbody tr th {\n",
              "        vertical-align: top;\n",
              "    }\n",
              "\n",
              "    .dataframe thead th {\n",
              "        text-align: right;\n",
              "    }\n",
              "</style>\n",
              "<table border=\"1\" class=\"dataframe\">\n",
              "  <thead>\n",
              "    <tr style=\"text-align: right;\">\n",
              "      <th></th>\n",
              "    </tr>\n",
              "  </thead>\n",
              "  <tbody>\n",
              "  </tbody>\n",
              "</table>\n",
              "</div>"
            ],
            "text/plain": [
              "Empty DataFrame\n",
              "Columns: []\n",
              "Index: []"
            ]
          },
          "execution_count": 43,
          "metadata": {},
          "output_type": "execute_result"
        }
      ],
      "source": [
        "df4=get_catalog_google_sheets_4(url)\n",
        "print(df4.shape)\n",
        "df4.head()"
      ]
    },
    {
      "cell_type": "code",
      "execution_count": null,
      "metadata": {
        "id": "5qmY0Zi5ud_j"
      },
      "outputs": [],
      "source": []
    }
  ],
  "metadata": {
    "colab": {
      "provenance": []
    },
    "kernelspec": {
      "display_name": "Python 3.9.12 ('base')",
      "language": "python",
      "name": "python3"
    },
    "language_info": {
      "codemirror_mode": {
        "name": "ipython",
        "version": 3
      },
      "file_extension": ".py",
      "mimetype": "text/x-python",
      "name": "python",
      "nbconvert_exporter": "python",
      "pygments_lexer": "ipython3",
      "version": "3.9.12"
    },
    "orig_nbformat": 4,
    "vscode": {
      "interpreter": {
        "hash": "760e8a02d58bef947fb67df29745f4128d863e8829938df1158e073523dddf20"
      }
    }
  },
  "nbformat": 4,
  "nbformat_minor": 0
}
