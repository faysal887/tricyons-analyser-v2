{
  "cells": [
    {
      "attachments": {},
      "cell_type": "markdown",
      "metadata": {
        "id": "kXivR4vfqU3k"
      },
      "source": [
        "# Imports"
      ]
    },
    {
      "cell_type": "code",
      "execution_count": 1,
      "metadata": {},
      "outputs": [],
      "source": [
        "%reload_ext autoreload\n",
        "%autoreload 2\n",
        "\n",
        "\n",
        "import warnings\n",
        "warnings.filterwarnings(\"ignore\")\n",
        "\n",
        "import requests\n",
        "\n",
        "\n",
        "import smtplib\n",
        "from email.mime.multipart import MIMEMultipart\n",
        "from email.mime.text import MIMEText\n",
        "from email.utils import formataddr\n",
        "\n",
        "import pandas as pd\n",
        "import time, requests, csv, json\n",
        "from datetime import datetime\n",
        "pd.set_option('display.max_columns', 100)\n",
        "pd.set_option('display.max_rows', 20000)\n",
        "pd.set_option('display.max_colwidth', 10000)\n",
        "\n",
        "import sys, os, shutil, pdb\n",
        "sys.path.insert(1, '/Users/muhammadfaisal/Documents/')\n",
        "\n",
        "from pathlib import Path\n",
        "import urllib.request\n",
        "\n",
        "import ipywidgets as widgets\n",
        "from ipywidgets import interact, interact_manual\n",
        "from IPython.display import display, clear_output\n",
        "from bs4 import BeautifulSoup\n",
        "\n",
        "\n",
        "from pydrive.auth import GoogleAuth\n",
        "from pydrive.drive import GoogleDrive\n",
        "\n",
        "try:\n",
        "  from tabula.io import read_pdf\n",
        "except:\n",
        "  %pip install tabula-py\n",
        "  \n",
        "try: # running remotely\n",
        "    from google.colab import drive \n",
        "except: # running locally\n",
        "    from utils import *\n",
        "    from engine import GDrive\n",
        "    "
      ]
    },
    {
      "cell_type": "code",
      "execution_count": 2,
      "metadata": {},
      "outputs": [],
      "source": [
        "TEST_CATALOGS=[\n",
        "    # 'Medcare_BestSelling',\n",
        "    # 'Medcare_CLOSEOUT',\n",
        "    # 'Medcare_MASTER'\n",
        "]\n",
        "\n",
        "TEST_CATALOGS=[x.lower() for x in TEST_CATALOGS]"
      ]
    },
    {
      "attachments": {},
      "cell_type": "markdown",
      "metadata": {
        "id": "CG9Ot9JyqU3o"
      },
      "source": [
        "# Local VS Remote"
      ]
    },
    {
      "cell_type": "code",
      "execution_count": 3,
      "metadata": {
        "id": "gZY7Al7jqU3p"
      },
      "outputs": [],
      "source": [
        "def download_scripts():\n",
        "    # downloading utils and engine scripts from github\n",
        "    r=requests.get(\"https://raw.githubusercontent.com/faysal887/tricyons-analyser-v2/master/engine.py\")\n",
        "    with open('engine.py', 'w') as f: f.write(r.content.decode(\"utf-8\"))\n",
        "\n",
        "    r=requests.get(\"https://raw.githubusercontent.com/faysal887/tricyons-analyser-v2/master/utils.py\")\n",
        "    with open('utils.py', 'w') as f: f.write(r.content.decode(\"utf-8\"))"
      ]
    },
    {
      "cell_type": "code",
      "execution_count": 4,
      "metadata": {
        "colab": {
          "base_uri": "https://localhost:8080/"
        },
        "id": "jqugD3eIqU3p",
        "outputId": "662aa2b6-be09-4060-b38b-ecd75af44e50"
      },
      "outputs": [
        {
          "name": "stdout",
          "output_type": "stream",
          "text": [
            "name 'drive' is not defined\n",
            "running locally\n",
            "Your browser has been opened to visit:\n",
            "\n",
            "    https://accounts.google.com/o/oauth2/auth?client_id=454591216913-28jl16cqrsojhifrtmopf0ts9mb4281t.apps.googleusercontent.com&redirect_uri=http%3A%2F%2Flocalhost%3A8080%2F&scope=https%3A%2F%2Fwww.googleapis.com%2Fauth%2Fdrive&access_type=offline&response_type=code\n",
            "\n",
            "Authentication successful.\n",
            "created new connection!\n"
          ]
        }
      ],
      "source": [
        "'''\n",
        "checking whether the code is running on local machine or on collab\n",
        "'''\n",
        "\n",
        "LOCAL=None # running code locally or remotely\n",
        "try:\n",
        "    drive.mount('/content/drive')\n",
        "\n",
        "    GoogleAuth.DEFAULT_SETTINGS['client_config_file'] = '/content/drive/MyDrive/Colab Notebooks/client_secrets.json'\n",
        "    gauth = GoogleAuth()\n",
        "    gauth.GetAuthUrl()\n",
        "    print('running on collab')\n",
        "    LOCAL=False\n",
        "except Exception as e:\n",
        "    print(e)\n",
        "    print('running locally')\n",
        "    LOCAL=True\n",
        "\n",
        "\n",
        "if LOCAL: # running locally\n",
        "    try:\n",
        "        if g: print('GDrive already connected!')\n",
        "    except: \n",
        "        g=GDrive()\n",
        "        print('created new connection!')\n",
        "else: # running remotely\n",
        "    drive.mount('/content/drive')\n",
        "\n",
        "    GoogleAuth.DEFAULT_SETTINGS['client_config_file'] = '/content/drive/MyDrive/Colab Notebooks/client_secrets.json'\n",
        "    gauth = GoogleAuth()\n",
        "    print(gauth.GetAuthUrl())\n",
        "    redirect_url=input('Enter redirect url')\n",
        "    code=redirect_url.split('code=')[1].split('&scope=')[0]\n",
        "    gauth.Authenticate(code)\n",
        "    download_scripts()\n",
        "    from utils import *\n",
        "    from engine import GDrive\n",
        "    g=GDrive(gauth)\n",
        "\n"
      ]
    },
    {
      "attachments": {},
      "cell_type": "markdown",
      "metadata": {
        "id": "aIafPi4rqU3q"
      },
      "source": [
        "# Download Catalogs"
      ]
    },
    {
      "cell_type": "code",
      "execution_count": 5,
      "metadata": {
        "id": "FqaNeCBMqU3q"
      },
      "outputs": [],
      "source": [
        "TMP_DIR='./tmp'\n",
        "try: shutil.rmtree(TMP_DIR)\n",
        "except: pass"
      ]
    },
    {
      "cell_type": "code",
      "execution_count": 6,
      "metadata": {
        "colab": {
          "base_uri": "https://localhost:8080/"
        },
        "id": "AoDZ5DlLqU3r",
        "outputId": "53b8f50c-90af-407e-c1bc-116ae32f882f"
      },
      "outputs": [
        {
          "name": "stdout",
          "output_type": "stream",
          "text": [
            "done 1\n",
            "(41, 16)\n",
            "done 2\n"
          ]
        }
      ],
      "source": [
        "# main\n",
        "\n",
        "tmp_dir='./tmp'\n",
        "merged_dir=f'{tmp_dir}/merged'\n",
        "online_catalogs=f'{tmp_dir}/online_catalogs'\n",
        "gdrive_catalogs=f'{tmp_dir}/gdrive_catalogs'\n",
        "\n",
        "# 1. create /tmp if not\n",
        "Path(tmp_dir).mkdir(parents=True, exist_ok=True)\n",
        "Path(merged_dir).mkdir(parents=True, exist_ok=True)\n",
        "Path(online_catalogs).mkdir(parents=True, exist_ok=True)\n",
        "Path(gdrive_catalogs).mkdir(parents=True, exist_ok=True)\n",
        "print('done 1')\n",
        "\n",
        "# 2. download excel sheet for links and emails \n",
        "tree=['Supplier Catalogues', 'AUTOMATION', 'Brands For Auto-Email']\n",
        "folder_id=g.find_gdrive_folder_id(tree=tree, folder_id='root')\n",
        "g.download_files(folder_id, tmp_dir)\n",
        "\n",
        "linksdf=pd.read_excel(f'{tmp_dir}/Catalogs Link.xlsx')\n",
        "# data=linksdf.dropna(subset=['Link'], axis=0)\n",
        "data=strip_column_names(linksdf)\n",
        "print(data.shape)\n",
        "print('done 2')\n",
        "\n"
      ]
    },
    {
      "cell_type": "code",
      "execution_count": 7,
      "metadata": {
        "colab": {
          "base_uri": "https://localhost:8080/"
        },
        "id": "ssOHj3ScqU3r",
        "outputId": "9ffe4c64-4929-4fe7-a392-9476b766cfe1"
      },
      "outputs": [
        {
          "name": "stdout",
          "output_type": "stream",
          "text": [
            "(24, 16)\n",
            "ERROR:  drachmatrading 'URL LINK' <class 'KeyError'> utils.py 319\n",
            "(82, 4)\n",
            "ERROR:  ecomwholesaledeals 'DataFrame' object has no attribute 'append' <class 'AttributeError'> utils.py 238\n",
            "ERROR:  minmaxdeals single positional indexer is out-of-bounds <class 'IndexError'> utils.py 249\n",
            "ERROR:  shepher_california_available Couldn't find a tree builder with the features you requested: xml. Do you need to install a parser library? <class 'bs4.FeatureNotFound'> utils.py 307\n",
            "ERROR:  shepher_california_special Couldn't find a tree builder with the features you requested: xml. Do you need to install a parser library? <class 'bs4.FeatureNotFound'> utils.py 307\n",
            "ERROR:  shepher_newjersey_available Couldn't find a tree builder with the features you requested: xml. Do you need to install a parser library? <class 'bs4.FeatureNotFound'> utils.py 307\n",
            "ERROR:  shepher_newjersey_special Couldn't find a tree builder with the features you requested: xml. Do you need to install a parser library? <class 'bs4.FeatureNotFound'> utils.py 307\n",
            "ERROR:  shepher_newyork_special Couldn't find a tree builder with the features you requested: xml. Do you need to install a parser library? <class 'bs4.FeatureNotFound'> utils.py 307\n",
            "ERROR:  shepher_newyork_website Couldn't find a tree builder with the features you requested: xml. Do you need to install a parser library? <class 'bs4.FeatureNotFound'> utils.py 307\n",
            "40/24\n",
            " ************************************************* \n",
            "\n",
            "Error Catalogs:  {'drachmatrading': KeyError('URL LINK'), 'ecomwholesaledeals': AttributeError(\"'DataFrame' object has no attribute 'append'\"), 'minmaxdeals': IndexError('single positional indexer is out-of-bounds'), 'shepher_california_available': FeatureNotFound(\"Couldn't find a tree builder with the features you requested: xml. Do you need to install a parser library?\"), 'shepher_california_special': FeatureNotFound(\"Couldn't find a tree builder with the features you requested: xml. Do you need to install a parser library?\"), 'shepher_newjersey_available': FeatureNotFound(\"Couldn't find a tree builder with the features you requested: xml. Do you need to install a parser library?\"), 'shepher_newjersey_special': FeatureNotFound(\"Couldn't find a tree builder with the features you requested: xml. Do you need to install a parser library?\"), 'shepher_newyork_special': FeatureNotFound(\"Couldn't find a tree builder with the features you requested: xml. Do you need to install a parser library?\"), 'shepher_newyork_website': FeatureNotFound(\"Couldn't find a tree builder with the features you requested: xml. Do you need to install a parser library?\")}\n",
            "\n",
            " ************************************************* \n",
            "\n",
            "done 3\n"
          ]
        },
        {
          "data": {
            "text/plain": [
              "dict_keys(['BuyWholesaleToday', 'DallasWholesaleCompany', 'EmpireDistribution', 'EpilsonWholesale', 'GSCommodityTrading', 'KNTradingLLC', 'KoleImports', 'LvDistribution', 'Medcare_BestSelling', 'Medcare_CLOSEOUT', 'Medcare_MASTER', 'NexDeal_1', 'NexDeal_2', 'PalletFly', 'WeinersLtd'])"
            ]
          },
          "execution_count": 7,
          "metadata": {},
          "output_type": "execute_result"
        }
      ],
      "source": [
        "# 3. download excel catalogs\n",
        "df=data[(data.Active==True) & (data.Type=='LINK')]\n",
        "print(df.shape)\n",
        "error_catalogs, catalogs=download_online_excel_catalogs(df, online_catalogs, test_catalogs=TEST_CATALOGS)\n",
        "print('done 3')\n",
        "\n",
        "catalogs.keys()"
      ]
    },
    {
      "cell_type": "code",
      "execution_count": 8,
      "metadata": {},
      "outputs": [
        {
          "data": {
            "text/plain": [
              "{'drachmatrading': KeyError('URL LINK'),\n",
              " 'ecomwholesaledeals': AttributeError(\"'DataFrame' object has no attribute 'append'\"),\n",
              " 'minmaxdeals': IndexError('single positional indexer is out-of-bounds'),\n",
              " 'shepher_california_available': bs4.FeatureNotFound(\"Couldn't find a tree builder with the features you requested: xml. Do you need to install a parser library?\"),\n",
              " 'shepher_california_special': bs4.FeatureNotFound(\"Couldn't find a tree builder with the features you requested: xml. Do you need to install a parser library?\"),\n",
              " 'shepher_newjersey_available': bs4.FeatureNotFound(\"Couldn't find a tree builder with the features you requested: xml. Do you need to install a parser library?\"),\n",
              " 'shepher_newjersey_special': bs4.FeatureNotFound(\"Couldn't find a tree builder with the features you requested: xml. Do you need to install a parser library?\"),\n",
              " 'shepher_newyork_special': bs4.FeatureNotFound(\"Couldn't find a tree builder with the features you requested: xml. Do you need to install a parser library?\"),\n",
              " 'shepher_newyork_website': bs4.FeatureNotFound(\"Couldn't find a tree builder with the features you requested: xml. Do you need to install a parser library?\")}"
            ]
          },
          "execution_count": 8,
          "metadata": {},
          "output_type": "execute_result"
        }
      ],
      "source": [
        "error_catalogs"
      ]
    },
    {
      "cell_type": "code",
      "execution_count": 9,
      "metadata": {
        "colab": {
          "base_uri": "https://localhost:8080/"
        },
        "id": "S9y9QXq0qU3s",
        "outputId": "0e843da7-1928-47f8-8585-50f3bd04a69b"
      },
      "outputs": [
        {
          "name": "stdout",
          "output_type": "stream",
          "text": [
            "done 4\n"
          ]
        }
      ],
      "source": [
        "# 4. delete existing supplier folders\n",
        "tree_base=['Supplier Catalogues', 'AUTOMATION', 'Catalogs_ALL']\n",
        "df.Distributor.apply(lambda x: g.delete_by_name(tree_base+[x]))\n",
        "print('done 4')"
      ]
    },
    {
      "cell_type": "code",
      "execution_count": 10,
      "metadata": {
        "colab": {
          "base_uri": "https://localhost:8080/"
        },
        "id": "VqccYv2VqU3s",
        "outputId": "89535a25-ba10-441a-b972-00b7533580fc"
      },
      "outputs": [
        {
          "name": "stdout",
          "output_type": "stream",
          "text": [
            "done 5\n",
            "done 6\n"
          ]
        }
      ],
      "source": [
        "# 5. create new supplier folders\n",
        "tree=['Supplier Catalogues', 'AUTOMATION', 'Catalogs_ALL']\n",
        "parent_folder_id=g.find_gdrive_folder_id(tree=tree, folder_id='root')\n",
        "df['folder_id'] = df.Distributor.apply(lambda x: g.create_folder(parent_folder_id, x))\n",
        "print('done 5')\n",
        "\n",
        "# 6. create folder for catalog in supplier folder\n",
        "df['catalog_folder_id'] = df.folder_id.apply(lambda x: g.create_folder(parent_folder_id=x, folder_name='catalog'))\n",
        "print('done 6')\n",
        "\n"
      ]
    },
    {
      "cell_type": "code",
      "execution_count": 11,
      "metadata": {
        "colab": {
          "base_uri": "https://localhost:8080/"
        },
        "id": "CqW3rroKqU3s",
        "outputId": "cffd64e9-8977-4f85-eb41-1c2041ee1cda"
      },
      "outputs": [
        {
          "name": "stdout",
          "output_type": "stream",
          "text": [
            "done 7\n"
          ]
        }
      ],
      "source": [
        "# 7. upload catalog\n",
        "# _ = df.apply(lambda x: g.upload_file(folder_id=x.catalog_folder_id, file_path=f'{online_catalogs}/{x.Distributor}.xlsx'), axis=1)\n",
        "for i, row in df.iterrows():\n",
        "    print(f'{i+1}/{len(df)}', end='\\r')\n",
        "    file_path=f'{online_catalogs}/{row.Distributor}.xlsx'\n",
        "    if os.path.exists(file_path):\n",
        "        g.upload_file(folder_id=row.catalog_folder_id, file_path=file_path)\n",
        "    \n",
        "print('done 7')\n",
        "\n",
        "\n",
        "# 8. delete /tmp\n",
        "# shutil.rmtree(tmp_dir)\n",
        "# print('done 8')"
      ]
    },
    {
      "cell_type": "code",
      "execution_count": 12,
      "metadata": {
        "colab": {
          "base_uri": "https://localhost:8080/"
        },
        "id": "M_3KbPdTqU3t",
        "outputId": "bc175673-b93d-4396-b718-adfee5abd720"
      },
      "outputs": [
        {
          "name": "stdout",
          "output_type": "stream",
          "text": [
            "(31, 16)\n"
          ]
        }
      ],
      "source": [
        "'''''''''''''''''''''''''''''''''''''''''''''''''''''''''''''''''''''''''''''''''''''''''''''''''''\n",
        "                                # PART-2: Start again with data #\n",
        "'''''''''''''''''''''''''''''''''''''''''''''''''''''''''''''''''''''''''''''''''''''''''''''''''''\n",
        "linksdf=pd.read_excel(f'{tmp_dir}/Catalogs Link.xlsx')\n",
        "# data=linksdf.dropna(subset=['Link'], axis=0)\n",
        "data=strip_column_names(linksdf)\n",
        "if TEST_CATALOGS:\n",
        "    df=data[(data.Active==True)&(data.Distributor.str.lower().isin(TEST_CATALOGS))].copy()\n",
        "else:\n",
        "    df=data[(data.Active==True)].copy()\n",
        "    \n",
        "print(df.shape)"
      ]
    },
    {
      "cell_type": "code",
      "execution_count": 13,
      "metadata": {
        "colab": {
          "base_uri": "https://localhost:8080/"
        },
        "id": "dkrvon56qU3t",
        "outputId": "3093807a-bc73-40c5-c393-40bf84c38b2f"
      },
      "outputs": [
        {
          "name": "stdout",
          "output_type": "stream",
          "text": [
            "done 8\n"
          ]
        }
      ],
      "source": [
        "# 8. for all the suppliers in catalogs_all, get their catalog folder_ids \n",
        "for i, row in df.iterrows():\n",
        "    try:\n",
        "        print(f'{i+1}/{len(df)}', end='\\r')\n",
        "        tree=['Supplier Catalogues', 'AUTOMATION', 'Catalogs_ALL', row.Distributor, 'catalog']\n",
        "        catalog_folder_id=g.find_gdrive_folder_id(tree=tree, folder_id='root')\n",
        "        df.loc[i, 'catalog_folder_id']=catalog_folder_id\n",
        "    except Exception as e:\n",
        "        print('Error: ', row['Distributor'], e)\n",
        "print('done 8')"
      ]
    },
    {
      "cell_type": "code",
      "execution_count": 14,
      "metadata": {
        "colab": {
          "base_uri": "https://localhost:8080/"
        },
        "id": "OtMXLBaLqU3t",
        "outputId": "7fcd430a-1e68-4430-d2c3-2c21b2015419"
      },
      "outputs": [
        {
          "name": "stdout",
          "output_type": "stream",
          "text": [
            "done 9\n"
          ]
        }
      ],
      "source": [
        "# 9. loop on supplier folders id df and download all catalogs from gdrive\n",
        "# _ = df.catalog_folder_id.apply(lambda x: g.download_files(gdrive_folder_id=x, local_folder_path=gdrive_catalogs))\n",
        "\n",
        "for i, row in df[['Distributor','catalog_folder_id']].iterrows():\n",
        "    print(f'{i+1}/{len(df)}', end='\\r')\n",
        "\n",
        "    try:\n",
        "        dist, _id=row['Distributor'], row['catalog_folder_id']\n",
        "        g.download_files(gdrive_folder_id=_id, local_folder_path=gdrive_catalogs)\n",
        "        time.sleep(3)\n",
        "    except Exception as e:\n",
        "        print('Error: ', dist, e)\n",
        "print('done 9')"
      ]
    },
    {
      "cell_type": "code",
      "execution_count": 15,
      "metadata": {
        "colab": {
          "base_uri": "https://localhost:8080/"
        },
        "id": "Xpzkc_3MqU3u",
        "outputId": "0326ed2b-41b9-4395-aeba-157e4b54644d"
      },
      "outputs": [
        {
          "name": "stdout",
          "output_type": "stream",
          "text": [
            "done 10\n"
          ]
        }
      ],
      "source": [
        "# 10. create new catalogs dict obj\n",
        "\n",
        "catalogs={}\n",
        "for i, fn in enumerate(os.listdir(gdrive_catalogs)):\n",
        "    print(f'{i+1}/{len(os.listdir(gdrive_catalogs))}', end='\\r')\n",
        "\n",
        "    if '.xlsx' in fn or 'xls' in fn: tmpdf=pd.read_excel(f'{gdrive_catalogs}/{fn}')\n",
        "    if '.csv'   in fn: tmpdf=pd.read_csv(f'{gdrive_catalogs}/{fn}')\n",
        "\n",
        "    fn=fn.split('.')[0]\n",
        "\n",
        "    catalogs[fn]=tmpdf\n",
        "    # catalogs[fn.replace('.xlsx','').replace('.csv','').replace('.csv','')]=tmpdf\n",
        "\n",
        "print('done 10')\n"
      ]
    },
    {
      "cell_type": "code",
      "execution_count": 16,
      "metadata": {},
      "outputs": [],
      "source": [
        "# catalogs['MinMaxDeals']=catalogs['MinMaxDeals'].iloc[4:,]\n",
        "# catalogs['MinMaxDeals']=make_first_row_header(catalogs['MinMaxDeals'])\n",
        "# catalogs['MinMaxDeals']=strip_column_names(catalogs['MinMaxDeals'])\n",
        "# catalogs['LvDistribution'].head()\n",
        "\n",
        "# LvDistribution, MinMaxDeals"
      ]
    },
    {
      "cell_type": "code",
      "execution_count": 17,
      "metadata": {},
      "outputs": [],
      "source": [
        "# df.loc[df.Distributor=='SU_Catalogs_Merged', 'Active']=False\n",
        "# df=df.drop([39])\n",
        "# df\n",
        "\n",
        "# df=df[df.Distributor.isin(['WeinersLtd', 'SU_Catalogs_Merged', 'DPCIWholesale'])]"
      ]
    },
    {
      "cell_type": "code",
      "execution_count": 18,
      "metadata": {
        "colab": {
          "base_uri": "https://localhost:8080/"
        },
        "id": "RB8HeEQuqU3u",
        "outputId": "d838bdba-d0dd-4d3e-cc9a-693efe6fd2cb"
      },
      "outputs": [
        {
          "name": "stdout",
          "output_type": "stream",
          "text": [
            "Supplier: DPCIWholesale\n",
            "ERROR: can only convert an array of size 1 to a Python scalar\n",
            "id_columns_name: UPC\n",
            "id_columns_type: upc\n",
            "price_column: price\n"
          ]
        }
      ],
      "source": [
        "# sanity checks to check all the required columns are present\n",
        "for name, tmpdf in catalogs.items():\n",
        "    try:\n",
        "        # if name!='DPCI_Wholesale': continue\n",
        "        # pdb.set_trace()\n",
        "        id_columns_name\t= df[df.Distributor==name].id_columns_name.item()\n",
        "        id_columns_type = df[df.Distributor==name].id_columns_type.item()\n",
        "        price_column    = df[df.Distributor==name].price_column.item()\n",
        "\n",
        "        if id_columns_name not in tmpdf.columns: print(f'{name} \"{id_columns_name}\" column missing')\n",
        "        if price_column not in tmpdf.columns: print(f'{name} \"{price_column}\" column missing')\n",
        "    except Exception as e:\n",
        "        print(f'Supplier: {name}')\n",
        "        print(f'ERROR: {e}')\n",
        "        print(f'id_columns_name: {id_columns_name}')\n",
        "        print(f'id_columns_type: {id_columns_type}')\n",
        "        print(f'price_column: {price_column}')\n",
        "\n",
        "\n",
        "        # print(price_column, id_columns_name, id_columns_type)\n",
        "        # print('\\n')\n"
      ]
    },
    {
      "cell_type": "code",
      "execution_count": 24,
      "metadata": {
        "colab": {
          "base_uri": "https://localhost:8080/"
        },
        "id": "NnFItc8WqU3u",
        "outputId": "a5cf72f4-f83c-4340-f837-bd339b8c6eec"
      },
      "outputs": [
        {
          "name": "stdout",
          "output_type": "stream",
          "text": [
            "All Suppliers are Labeled\n",
            "Error in DPCIWholesale\n",
            "can only convert an array of size 1 to a Python scalar <class 'ValueError'> utils.py 161\n",
            "done 11\n"
          ]
        }
      ],
      "source": [
        "# 11. label data\n",
        "df, catalogs=label_data(df, catalogs)\n",
        "print('done 11')"
      ]
    },
    {
      "cell_type": "code",
      "execution_count": 25,
      "metadata": {
        "colab": {
          "base_uri": "https://localhost:8080/",
          "height": 222
        },
        "id": "yjAyDln9qU3u",
        "outputId": "52076892-3ee8-4e95-a21c-77cdef51837c"
      },
      "outputs": [],
      "source": [
        "# preprocess each supplier separately\n",
        "for name, tmpdf in catalogs.items():\n",
        "    if name == 'NUK':                tmpdf=preprocess_nuk(tmpdf)\n",
        "    if name == 'BGSales':            tmpdf=preprocess_bgsales(tmpdf)\n",
        "    if name == 'EcomWholesaleDeals': tmpdf=preprocess_ewd(tmpdf)\n",
        "\n",
        "    catalogs[name]=tmpdf"
      ]
    },
    {
      "cell_type": "code",
      "execution_count": 28,
      "metadata": {
        "id": "uNxUj1OqqU3u"
      },
      "outputs": [
        {
          "name": "stdout",
          "output_type": "stream",
          "text": [
            "Error in DPCIWholesale\n",
            "can only convert an array of size 1 to a Python scalar\n"
          ]
        }
      ],
      "source": [
        "# label encode supplier name in df dataframe\n",
        "# keys=df.Distributor.unique().tolist()\n",
        "# values=['TRI'+str(i).zfill(5) for i in range(len(keys))]\n",
        "# labels_map=dict(zip(keys, values))\n",
        "# df['distributor_key'] = df.Distributor.map(labels_map)\n",
        "\n",
        "# now this is being done manually\n",
        "# print('done 12')\n",
        "\n",
        "\n",
        "# apply labels_map for each catalog in catalog dict of dfs\n",
        "for key, tmpdf in catalogs.items():\n",
        "    try:\n",
        "        tmpdf['distributor_key']=df[df.Distributor==key].distributor_key.item()\n",
        "        catalogs[key]=tmpdf\n",
        "    except Exception as e:\n",
        "        print(f'Error in {key}')\n",
        "        print(e)\n",
        "\n",
        "# 12. upload updated catalog_links df\n",
        "# df.drop(['folder_id', 'catalog_folder_id'], axis=1).to_excel(f'{tmp_dir}/Catalogs Link.xlsx', index=False)"
      ]
    },
    {
      "cell_type": "code",
      "execution_count": 29,
      "metadata": {
        "colab": {
          "base_uri": "https://localhost:8080/"
        },
        "id": "WBa5V88XqU3v",
        "outputId": "22bd6c11-1dfe-44b4-b003-68a3b91b6206"
      },
      "outputs": [
        {
          "name": "stdout",
          "output_type": "stream",
          "text": [
            "DPCIWholesale: 'each_price'\n",
            "59\n",
            "done 12\n"
          ]
        }
      ],
      "source": [
        "# 13. check for missing values in each column\n",
        "missing_total=0\n",
        "for name, tmpdf in catalogs.items():\n",
        "    try:\n",
        "        # print(name, tmpdf['each_price'].isnull().sum())\n",
        "        missing_total+=tmpdf['each_price'].isnull().sum()\n",
        "    except Exception as e:\n",
        "        print(f'{name}: {e}')\n",
        "print(missing_total)\n",
        "print('done 12')"
      ]
    },
    {
      "cell_type": "code",
      "execution_count": 30,
      "metadata": {
        "colab": {
          "base_uri": "https://localhost:8080/"
        },
        "id": "xsdSgg4UqU3v",
        "outputId": "6a8a79d8-4fc0-4dc9-d8dc-d0ef7ce5f7c6"
      },
      "outputs": [
        {
          "name": "stdout",
          "output_type": "stream",
          "text": [
            "BuyWholesaleToday (126, 8)\n",
            "DallasWholesaleCompany (1026, 10)\n",
            "Error in DrachmaTrading:  'DrachmaTrading'\n",
            "EmpireDistribution (28, 10)\n",
            "EpilsonWholesale (17, 11)\n",
            "GSCommodityTrading (208, 12)\n",
            "KNTradingLLC (60, 10)\n",
            "LvDistribution (107, 14)\n",
            "Error in MinMaxDeals:  'MinMaxDeals'\n",
            "NexDeal_1 (370, 19)\n",
            "NexDeal_2 (208, 16)\n",
            "PalletFly (9638, 28)\n",
            "WholesaleFortune (31, 11)\n",
            "after concating all asinsdf:  (11819, 3) 36\n",
            "after dropna:  (11740, 3) 0\n",
            "after price column check:  (10284, 3)\n",
            "after preprocess_price:  (10284, 3) 0\n",
            "after reset_index:  (10284, 3) 0\n",
            "after saving:  (10284, 3)\n",
            "done 13\n"
          ]
        }
      ],
      "source": [
        "# 13. preprocess asins\n",
        "asins_suppliers=df[df.id_columns_type=='asin'].Distributor.tolist()\n",
        "\n",
        "tmpli=[]\n",
        "for x in asins_suppliers:\n",
        "  try:\n",
        "    print(x, catalogs[x].shape)\n",
        "    tmpli.append(catalogs[x][['asin', 'each_price', 'distributor_key']])\n",
        "  except Exception as e:\n",
        "    print(f'Error in {x}: ', e)\n",
        "\n",
        "if tmpli:    \n",
        "  asinsdf = pd.concat(tmpli)\n",
        "  print('after concating all asinsdf: ',asinsdf.shape, asinsdf.each_price.isnull().sum())\n",
        "\n",
        "  asinsdf=asinsdf.dropna()\n",
        "  print('after dropna: ',asinsdf.shape, asinsdf.each_price.isnull().sum())\n",
        "\n",
        "  asinsdf['each_price']=asinsdf.each_price.apply(pd.to_numeric, errors=\"coerce\")\n",
        "  asinsdf=asinsdf.dropna(subset=['each_price'])\n",
        "  print('after price column check: ',asinsdf.shape)\n",
        "\n",
        "  asinsdf=preprocess_price(asinsdf)\n",
        "  print('after preprocess_price: ',asinsdf.shape, asinsdf.each_price.isnull().sum())\n",
        "\n",
        "  asinsdf=asinsdf.reset_index(drop=True)\n",
        "  print('after reset_index: ',asinsdf.shape, asinsdf.each_price.isnull().sum())\n",
        "\n",
        "  asinsdf.to_excel(f'{merged_dir}/asinsdf.xlsx', index=False)\n",
        "else:\n",
        "  asinsdf=pd.DataFrame()\n",
        "\n",
        "print('after saving: ', asinsdf.shape)\n",
        "print('done 13')"
      ]
    },
    {
      "cell_type": "code",
      "execution_count": 31,
      "metadata": {
        "colab": {
          "base_uri": "https://localhost:8080/"
        },
        "id": "jcN5vKcSqU3v",
        "outputId": "6411bf27-3270-4973-c9e8-1fabfc7561f8"
      },
      "outputs": [
        {
          "name": "stdout",
          "output_type": "stream",
          "text": [
            "Error in DPCI_Wholesale: 'DPCI_Wholesale'\n",
            "Error in EcomWholesaleDeals: 'EcomWholesaleDeals'\n",
            "Error in Shepher_California_Available: 'Shepher_California_Available'\n",
            "Error in Shepher_California_Special: 'Shepher_California_Special'\n",
            "Error in Shepher_NewJersey_Available: 'Shepher_NewJersey_Available'\n",
            "Error in Shepher_NewJersey_Special: 'Shepher_NewJersey_Special'\n",
            "Error in Shepher_NewYork_Special: 'Shepher_NewYork_Special'\n",
            "Error in Shepher_NewYork_Website: 'Shepher_NewYork_Website'\n",
            "after concat:  (110991, 3) 23\n",
            "after dropna:  (109166, 3) 0\n",
            "after preprocess_upc:  (108918, 3) 0\n",
            "after preprocess_price:  (108918, 3) 0\n",
            "after reset_index:  (108918, 3) 0\n",
            "after save:  (108918, 3) 0\n",
            "done 14\n"
          ]
        }
      ],
      "source": [
        "# 14. preprocess upcs\n",
        "upc_suppliers=df[df.id_columns_type=='upc'].Distributor.tolist()\n",
        "# upcsdf = pd.concat([catalogs[x][['upc', 'each_price', 'distributor_key']] for x in upc_suppliers])\n",
        "tmpli=[]\n",
        "for x in upc_suppliers:\n",
        "  try:\n",
        "    tmpli.append(catalogs[x][['upc', 'each_price', 'distributor_key']])\n",
        "  except Exception as e:\n",
        "    print(f'Error in {x}: {e}')\n",
        "\n",
        "if tmpli:\n",
        "  upcsdf = pd.concat(tmpli)\n",
        "  print('after concat: ',upcsdf.shape, upcsdf.each_price.isnull().sum())\n",
        "\n",
        "  upcsdf=upcsdf.dropna(subset=['upc', 'each_price'])\n",
        "  print('after dropna: ',upcsdf.shape, upcsdf.each_price.isnull().sum())\n",
        "\n",
        "  upcsdf=preprocess_upc(upcsdf)\n",
        "  print('after preprocess_upc: ',upcsdf.shape, upcsdf.each_price.isnull().sum())\n",
        "\n",
        "  upcsdf=preprocess_price(upcsdf)\n",
        "  print('after preprocess_price: ',upcsdf.shape, upcsdf.each_price.isnull().sum())\n",
        "\n",
        "  upcsdf=upcsdf.reset_index(drop=True)\n",
        "  print('after reset_index: ',upcsdf.shape, upcsdf.each_price.isnull().sum())\n",
        "\n",
        "  upcsdf.to_excel(f'{merged_dir}/upcsdf.xlsx', index=False)\n",
        "else: \n",
        "  upcsdf=pd.DataFrame()\n",
        "  \n",
        "print('after save: ',upcsdf.shape, upcsdf.each_price.isnull().sum())\n",
        "\n",
        "print('done 14')"
      ]
    },
    {
      "cell_type": "code",
      "execution_count": 32,
      "metadata": {
        "colab": {
          "base_uri": "https://localhost:8080/"
        },
        "id": "gq0jA9-QqU3v",
        "outputId": "7e1b9962-eb9e-48cf-89f7-3b4648e0e114"
      },
      "outputs": [
        {
          "name": "stdout",
          "output_type": "stream",
          "text": [
            "done 16\n"
          ]
        }
      ],
      "source": [
        "# 15. upload merged asin and upc on gdrive\n",
        "tree=['Supplier Catalogues', 'AUTOMATION', 'ScanUnlimited_ALL']\n",
        "folder_id=g.find_gdrive_folder_id(tree, folder_id='root')\n",
        "\n",
        "# delete existing ScanUnlimited_ALL\n",
        "g.delete_by_id(folder_id)\n",
        "\n",
        "# create new ScanUnlimited_ALL\n",
        "tree=['Supplier Catalogues', 'AUTOMATION']\n",
        "parent_folder_id=g.find_gdrive_folder_id(tree, folder_id='root')\n",
        "new_folder_id=g.create_folder(parent_folder_id, 'ScanUnlimited_ALL')\n",
        "\n",
        "if not asinsdf.empty: g.upload_file(new_folder_id, f'{merged_dir}/asinsdf.xlsx')\n",
        "if not upcsdf.empty: g.upload_file(new_folder_id, f'{merged_dir}/upcsdf.xlsx')\n",
        "print('done 16')"
      ]
    },
    {
      "cell_type": "code",
      "execution_count": 33,
      "metadata": {
        "colab": {
          "base_uri": "https://localhost:8080/"
        },
        "id": "WCoSqkCsqU3w",
        "outputId": "b845edae-e73a-462f-90f5-7f235c5d038f"
      },
      "outputs": [
        {
          "name": "stdout",
          "output_type": "stream",
          "text": [
            "\n",
            "    Total:   119202\n",
            "    upcsdf:  108918\n",
            "    asinsdf: 10284\n",
            "\n"
          ]
        }
      ],
      "source": [
        "print(f'''\n",
        "    Total:   {asinsdf.shape[0]+upcsdf.shape[0]}\n",
        "    upcsdf:  {upcsdf.shape[0]}\n",
        "    asinsdf: {asinsdf.shape[0]}\n",
        "''')"
      ]
    },
    {
      "cell_type": "code",
      "execution_count": 34,
      "metadata": {
        "id": "oAoKRldGqU3w"
      },
      "outputs": [],
      "source": [
        "try: shutil.rmtree(TMP_DIR)\n",
        "except: pass"
      ]
    },
    {
      "cell_type": "code",
      "execution_count": 35,
      "metadata": {},
      "outputs": [
        {
          "data": {
            "text/plain": [
              "distributor_key\n",
              "TRI00009    9599\n",
              "TRI00007     369\n",
              "TRI00008     208\n",
              "TRI00036      60\n",
              "TRI00024      31\n",
              "TRI00033      17\n",
              "Name: count, dtype: int64"
            ]
          },
          "execution_count": 35,
          "metadata": {},
          "output_type": "execute_result"
        }
      ],
      "source": [
        "asinsdf.distributor_key.value_counts()"
      ]
    },
    {
      "cell_type": "code",
      "execution_count": 36,
      "metadata": {},
      "outputs": [
        {
          "data": {
            "text/plain": [
              "distributor_key\n",
              "TRI00006    98425\n",
              "TRI00031     4686\n",
              "TRI00040     1578\n",
              "TRI00030     1309\n",
              "TRI00020     1214\n",
              "TRI00029     1124\n",
              "TRI00039      275\n",
              "TRI00037      188\n",
              "TRI00042      119\n",
              "Name: count, dtype: int64"
            ]
          },
          "execution_count": 36,
          "metadata": {},
          "output_type": "execute_result"
        }
      ],
      "source": [
        "upcsdf.distributor_key.value_counts()"
      ]
    },
    {
      "cell_type": "code",
      "execution_count": null,
      "metadata": {},
      "outputs": [],
      "source": []
    },
    {
      "cell_type": "code",
      "execution_count": null,
      "metadata": {},
      "outputs": [],
      "source": []
    },
    {
      "cell_type": "code",
      "execution_count": null,
      "metadata": {},
      "outputs": [],
      "source": []
    },
    {
      "cell_type": "code",
      "execution_count": null,
      "metadata": {},
      "outputs": [],
      "source": []
    },
    {
      "attachments": {},
      "cell_type": "markdown",
      "metadata": {
        "id": "PmId6qptqU3w"
      },
      "source": [
        "# TODO"
      ]
    },
    {
      "cell_type": "code",
      "execution_count": null,
      "metadata": {
        "id": "VaEK6A6sqU3w"
      },
      "outputs": [],
      "source": [
        "# add sheet name column so it shortens the download function\n",
        "# change ignore to active\n",
        "# add other columns list column"
      ]
    },
    {
      "cell_type": "code",
      "execution_count": null,
      "metadata": {
        "id": "AFgmacFXqU3w"
      },
      "outputs": [],
      "source": []
    },
    {
      "attachments": {},
      "cell_type": "markdown",
      "metadata": {
        "id": "ecLRyLWuqU3w"
      },
      "source": [
        "# Send Emails"
      ]
    },
    {
      "cell_type": "code",
      "execution_count": null,
      "metadata": {
        "id": "ZdoWt-N_qU3w"
      },
      "outputs": [],
      "source": [
        "def send_email(addr, subject, body):\n",
        "    try:\n",
        "        fromaddr = \"contact@tricyons.com\"\n",
        "        pswd     = \"tricyons123\"\n",
        "\n",
        "        msg = MIMEMultipart()\n",
        "        msg['From'] = formataddr(('Tricyons LLC', fromaddr))\n",
        "        msg['To'] = addr\n",
        "        msg['Subject'] = subject\n",
        "        body = body\n",
        "\n",
        "        msg.attach(MIMEText(body, 'plain'))\n",
        "        # smtpserver = smtplib.SMTP(\"mail.tricyons.com\", 465) # tls\n",
        "\n",
        "        server = smtplib.SMTP(\"mail.tricyons.com\", 26) # non-tls\n",
        "        server.starttls()\n",
        "        server.login(fromaddr, pswd)\n",
        "\n",
        "        text = msg.as_string()\n",
        "        server.sendmail(fromaddr, addr, text)\n",
        "        server.quit()    \n",
        "        return True\n",
        "    except Exception as e:\n",
        "        print('*****************************************')\n",
        "        print(addr)\n",
        "        print(e)\n",
        "        print('*****************************************\\n\\n')\n",
        "        return False\n"
      ]
    },
    {
      "attachments": {},
      "cell_type": "markdown",
      "metadata": {
        "id": "fKDWjX_xqU3x"
      },
      "source": [
        "### Ask Catalog"
      ]
    },
    {
      "cell_type": "code",
      "execution_count": null,
      "metadata": {
        "id": "GNUYT7dVqU3x"
      },
      "outputs": [],
      "source": [
        "emailsdf=data[(data.Active==True) & (data.Type=='EMAIL')].sort_values('Email', ascending=False)\n",
        "print(emailsdf.shape)\n",
        "emailsdf"
      ]
    },
    {
      "cell_type": "code",
      "execution_count": null,
      "metadata": {
        "id": "8vIGpWVcqU3x"
      },
      "outputs": [],
      "source": [
        "with open('./email_catalog.txt', 'r') as f:\n",
        "    email_body_template = f.read()\n",
        "\n",
        "print(email_body_template)"
      ]
    },
    {
      "cell_type": "code",
      "execution_count": null,
      "metadata": {
        "id": "tnPJNwcdqU3x"
      },
      "outputs": [],
      "source": [
        "email_subject='Updated Catalog'\n",
        "\n",
        "for i, row in emailsdf.iterrows():\n",
        "    print(f'{i+1}/{emailsdf.shape[0]}', end='\\r')\n",
        "\n",
        "    email_to=row.Email.strip().lower()\n",
        "\n",
        "    email_body=email_body_template.replace('SUBJECT_NAME_TAG', row.Email_Subject)\n",
        "\n",
        "    email_sent = send_email(email_to, email_subject, email_body)\n",
        "    if not email_sent: print(f'Error in sending email to: {row.Email_Subject}')\n",
        "\n",
        "    time.sleep(3)"
      ]
    },
    {
      "cell_type": "code",
      "execution_count": null,
      "metadata": {
        "id": "EqSRiKRLqU3x"
      },
      "outputs": [],
      "source": []
    },
    {
      "cell_type": "markdown",
      "metadata": {},
      "source": [
        "### New Suppliers"
      ]
    },
    {
      "cell_type": "code",
      "execution_count": null,
      "metadata": {},
      "outputs": [],
      "source": [
        "data=pd.read_excel('/Users/muhammadfaisal/Downloads/SmartScout - Suppliers.xlsx')\n",
        "print(data.shape)\n",
        "\n",
        "data.head(2)"
      ]
    },
    {
      "cell_type": "code",
      "execution_count": null,
      "metadata": {},
      "outputs": [],
      "source": [
        "df=data[~data.Email.isnull()]\n",
        "df.shape"
      ]
    },
    {
      "cell_type": "code",
      "execution_count": null,
      "metadata": {},
      "outputs": [],
      "source": [
        "with open('./email_template_new_account.txt', 'r') as f:\n",
        "    email_body_template = f.read()\n",
        "\n",
        "print(email_body_template)"
      ]
    },
    {
      "cell_type": "code",
      "execution_count": null,
      "metadata": {},
      "outputs": [],
      "source": [
        "email_subject='Wholesale Account Opening'\n",
        "\n",
        "for i, row in df.iterrows():\n",
        "    print(f'{i+1}/{df.shape[0]}', end='\\r')\n",
        "\n",
        "    email_to=row.Email.strip().lower()\n",
        "\n",
        "    email_body=email_body_template.replace('SUPPLIER_NAME_TAG', row.Name)\n",
        "\n",
        "    email_sent = send_email(email_to, email_subject, email_body)\n",
        "\n",
        "    if not email_sent: print(f'Error in sending email to: {email_to}')\n",
        "\n",
        "    time.sleep(3)"
      ]
    },
    {
      "attachments": {},
      "cell_type": "markdown",
      "metadata": {
        "id": "O-1qhNxMqU3x"
      },
      "source": [
        "### Account Open"
      ]
    },
    {
      "cell_type": "code",
      "execution_count": null,
      "metadata": {
        "id": "A7FszVg_qU3x"
      },
      "outputs": [],
      "source": [
        "\n",
        "\n",
        "with open('./email_template.txt', 'r') as f:\n",
        "    email_body_template = f.read()\n",
        "\n",
        "print(email_body_template)\n",
        "\n",
        "\n",
        "# email_to='faysalaslam887@gmail.com'\n",
        "# email_subject = \"Testing Email Body 3 Spaces\"\n",
        "# email_body=email_body_template.replace('COMPANY_NAME_TAG', 'Test Company')\n",
        "# send_email(email_to, email_subject, email_body)\n",
        "\n",
        "# g=GDrive()\n",
        "\n",
        "\n",
        "'''\n",
        "tmp_dir='./tmp/'\n",
        "\n",
        "tree=['Supplier Catalogues', 'Brands For Auto-Email']\n",
        "g.supplier_id=g.find_gdrive_folder_id(tree=tree, folder_id='root')\n",
        "g.download_files(g.supplier_id, tmp_dir)\n",
        "\n",
        "all_suppliers=pd.read_excel(f'{tmp_dir}/All Suppliers.xlsx')\n",
        "print(all_suppliers.shape)\n",
        "\n",
        "all_suppliers.head()\n",
        "\n",
        "df=all_suppliers.dropna(subset=['Email'], axis=0).reset_index(drop=True)\n",
        "print(df.shape)\n",
        "df.head()\n",
        "\n",
        "# email_subject = \"Wholesale Account Opening\"\n",
        "\n",
        "# for i, row in df.iloc[78:].iterrows():\n",
        "#     print(f'{i+1}/{df.shape[0]}', end='\\r')\n",
        "\n",
        "#     email_to=row.Email.strip().lower()\n",
        "\n",
        "#     supplier_name = row.Name.strip()\n",
        "\n",
        "#     email_body=email_body_template.replace('COMPANY_NAME_TAG', supplier_name)\n",
        "\n",
        "#     email_sent = send_email(email_to, email_subject, email_body)\n",
        "#     if not email_sent: print(f'Error in sending email to: {supplier_name}')\n",
        "\n",
        "#     time.sleep(3)\n",
        "    \n",
        "'''"
      ]
    },
    {
      "cell_type": "code",
      "execution_count": null,
      "metadata": {
        "id": "sQgSgB_fqU3x"
      },
      "outputs": [],
      "source": []
    },
    {
      "attachments": {},
      "cell_type": "markdown",
      "metadata": {
        "id": "7GYCevByqU3y"
      },
      "source": [
        "# Test New Catalogs"
      ]
    },
    {
      "cell_type": "code",
      "execution_count": null,
      "metadata": {},
      "outputs": [],
      "source": []
    },
    {
      "cell_type": "code",
      "execution_count": null,
      "metadata": {
        "id": "7yJ55Hmeu3lg"
      },
      "outputs": [],
      "source": [
        "from utils import *"
      ]
    },
    {
      "cell_type": "code",
      "execution_count": null,
      "metadata": {},
      "outputs": [],
      "source": []
    },
    {
      "cell_type": "code",
      "execution_count": null,
      "metadata": {},
      "outputs": [],
      "source": [
        "url=close"
      ]
    },
    {
      "cell_type": "code",
      "execution_count": null,
      "metadata": {},
      "outputs": [],
      "source": [
        "import requests, json\n",
        "\n",
        "import urllib.request\n",
        "response = urllib.request.urlopen(best)\n",
        "html = response.read()"
      ]
    },
    {
      "cell_type": "code",
      "execution_count": null,
      "metadata": {},
      "outputs": [],
      "source": [
        "import urllib.request\n",
        "urllib.request.urlretrieve(url, 'test.xlsx')"
      ]
    },
    {
      "cell_type": "code",
      "execution_count": null,
      "metadata": {},
      "outputs": [],
      "source": [
        "df1=get_catalog_google_sheets(url).reset_index(drop=True)\n",
        "print(df1.shape)\n",
        "df1.head()\n"
      ]
    },
    {
      "cell_type": "code",
      "execution_count": null,
      "metadata": {},
      "outputs": [],
      "source": [
        "df2=get_catalog_google_sheets_2(url, sheet_name='Has UPC')\n",
        "print(df2.shape)\n",
        "df2.head()"
      ]
    },
    {
      "cell_type": "code",
      "execution_count": null,
      "metadata": {},
      "outputs": [],
      "source": [
        "df3=get_catalog_google_sheets_3(url)\n",
        "df3.shape\n"
      ]
    },
    {
      "cell_type": "code",
      "execution_count": null,
      "metadata": {},
      "outputs": [],
      "source": [
        "df4=get_catalog_google_sheets_4(url)\n",
        "print(df4.shape)\n",
        "df4.head()"
      ]
    },
    {
      "cell_type": "code",
      "execution_count": null,
      "metadata": {},
      "outputs": [],
      "source": []
    },
    {
      "cell_type": "code",
      "execution_count": null,
      "metadata": {},
      "outputs": [],
      "source": []
    },
    {
      "cell_type": "code",
      "execution_count": null,
      "metadata": {},
      "outputs": [],
      "source": [
        "# EpilsonWholesale\n",
        "df2=get_catalog_google_sheets_2(best, sheet_name='Wholesale Best-Selling List')\n",
        "# df2=df2.iloc[1:]\n",
        "# df2=make_first_row_header(df2)\n",
        "# df2=df2[~df2.ASIN.astype(str).str.contains('--')]\n",
        "# df2=df2.dropna()\n",
        "\n",
        "print(df2.shape)\n",
        "df2.head()"
      ]
    },
    {
      "cell_type": "code",
      "execution_count": null,
      "metadata": {},
      "outputs": [],
      "source": [
        "# GSCommodityTrading\n",
        "df1=get_catalog_google_sheets(url).reset_index(drop=True)\n",
        "print(df1.shape)\n",
        "df1=df1.iloc[9:]\n",
        "df1.head(20)\n"
      ]
    },
    {
      "cell_type": "code",
      "execution_count": null,
      "metadata": {},
      "outputs": [],
      "source": [
        "# MinMaxDeals\n",
        "df1=get_catalog_google_sheets(url).reset_index(drop=True)\n",
        "print(df1.shape)"
      ]
    },
    {
      "cell_type": "code",
      "execution_count": null,
      "metadata": {},
      "outputs": [],
      "source": [
        "# KNTradingLLC\n",
        "df2=get_catalog_google_sheets_2(url, sheet_name='Sheet1')\n",
        "df2=make_first_row_header(df2)\n",
        "df2=df2[[x for x in df2.columns.tolist() if x!=None]]\n"
      ]
    },
    {
      "cell_type": "code",
      "execution_count": null,
      "metadata": {},
      "outputs": [],
      "source": [
        "# EcomWholesaleDeals \n",
        "\n"
      ]
    },
    {
      "cell_type": "code",
      "execution_count": null,
      "metadata": {},
      "outputs": [],
      "source": [
        "links={\n",
        "    'EpilsonWholesale': \"https://img1.wsimg.com/blobby/go/271277f5-5f94-472c-b153-578386146f02/downloads/COSMETIC%20SPREED%20SHEET%20%20(1).xlsx?ver=1680857754932\",\n",
        "    'GSCommodityTrading': \"https://docs.google.com/spreadsheets/d/1EJ8kbB89SYv5fYeeCgds5ue7p_3nyckyN_yujUquJeo/edit#gid=0\",\n",
        "    'MinMaxDeals': \"https://docs.google.com/spreadsheets/d/151_G7FTLfJP7y9kypBEF4sYN7gICIrYT/edit\",\n",
        "    'KNTradingLLC': \"https://06315f73-014b-478e-b312-e53df7038d3a.filesusr.com/ugd/cc4fa6_9d8a073014d4499d8d117b6724916ea8.xlsx?dn=3_23%20KN%20INVENTORY.xlsx\",\n",
        "    'EcomWholesaleDeals': '1EIzkO1ES0v1VcabxOUQ7VaREIjMnxSgB'\n",
        "}\n"
      ]
    },
    {
      "cell_type": "code",
      "execution_count": null,
      "metadata": {},
      "outputs": [],
      "source": [
        "url=links['GSCommodityTrading']\n",
        "url"
      ]
    },
    {
      "cell_type": "code",
      "execution_count": null,
      "metadata": {
        "colab": {
          "base_uri": "https://localhost:8080/",
          "height": 67
        },
        "id": "lyCnzbM7qU3y",
        "outputId": "76c34518-098a-4314-8789-5e6fbe9aacf2"
      },
      "outputs": [],
      "source": [
        "df1=get_catalog_google_sheets(url).reset_index(drop=True)\n",
        "print(df1.shape)\n",
        "df1=df1.iloc[9:]\n",
        "df1.head()\n"
      ]
    },
    {
      "cell_type": "code",
      "execution_count": null,
      "metadata": {
        "colab": {
          "base_uri": "https://localhost:8080/",
          "height": 224
        },
        "id": "dbcS6K5dqU3y",
        "outputId": "cdef98c8-025c-4a9d-dd82-1599743923d6"
      },
      "outputs": [],
      "source": [
        "df2=get_catalog_google_sheets_2(url, sheet_name='Sheet1')\n",
        "df2=make_first_row_header(df2)\n",
        "\n",
        "df2=df2[[x for x in df2.columns.tolist() if x!=None]]\n",
        "# df2=df2.dropna()\n",
        "\n",
        "print(df2.shape)\n",
        "df2.head()"
      ]
    },
    {
      "cell_type": "code",
      "execution_count": null,
      "metadata": {
        "colab": {
          "base_uri": "https://localhost:8080/"
        },
        "id": "mC9eeZNRud2l",
        "outputId": "965cbb1e-adf2-4285-fbe5-416e76d2b7dc"
      },
      "outputs": [],
      "source": [
        "df3=get_catalog_google_sheets_3(url)\n",
        "df3.shape\n"
      ]
    },
    {
      "cell_type": "code",
      "execution_count": null,
      "metadata": {
        "colab": {
          "base_uri": "https://localhost:8080/"
        },
        "id": "otDAuR4Uud7j",
        "outputId": "2b130a10-8e9c-4b0a-cb4a-a368e5b67d5c"
      },
      "outputs": [],
      "source": [
        "df4=get_catalog_google_sheets_4(url)\n",
        "print(df4.shape)\n",
        "df4.head()"
      ]
    },
    {
      "cell_type": "code",
      "execution_count": null,
      "metadata": {
        "id": "5qmY0Zi5ud_j"
      },
      "outputs": [],
      "source": [
        "[ x.lower() for x in ['Medcare_BestSelling', 'Medcare_MASTER', 'Medcare_CLOSEOUT']]"
      ]
    },
    {
      "cell_type": "code",
      "execution_count": null,
      "metadata": {},
      "outputs": [],
      "source": [
        "# distributor_key\n",
        "# TRI00006    98543\n",
        "# TRI00029     1127\n",
        "# TRI00042      120"
      ]
    },
    {
      "cell_type": "code",
      "execution_count": null,
      "metadata": {},
      "outputs": [],
      "source": [
        "best = \"https://docs.google.com/spreadsheets/d/1dB6cI-7zBOBjll1XTV1Yav1nP_3xPEPdfK0TTZo_yHA/export?format=xlsx&gid=1640087997\"\n",
        "\n",
        "best=get_catalog_google_sheets_2(best, sheet_name='Wholesale Best-Selling List')\n",
        "\n",
        "best=best.iloc[1:,]\n",
        "\n",
        "best=make_first_row_header(best)\n",
        "best=strip_column_names(best)\n",
        "\n",
        "print(best.shape)\n",
        "best.head()"
      ]
    },
    {
      "cell_type": "code",
      "execution_count": null,
      "metadata": {},
      "outputs": [],
      "source": []
    },
    {
      "cell_type": "code",
      "execution_count": null,
      "metadata": {},
      "outputs": [],
      "source": [
        "master='https://docs.google.com/spreadsheets/d/1CGv5t5euc-OH64MCpiVGpwYC9ObCm5ZrceVgm_88o8I/export?format=xlsx&gid=1450292243'\n",
        "\n",
        "master=get_catalog_google_sheets_2(master, sheet_name='Wholesale Master List')\n",
        "\n",
        "master=master.iloc[1:,]\n",
        "\n",
        "master=make_first_row_header(master)\n",
        "master=strip_column_names(master)\n",
        "\n",
        "print(master.shape)\n",
        "master.head()\n"
      ]
    },
    {
      "cell_type": "code",
      "execution_count": null,
      "metadata": {},
      "outputs": [],
      "source": []
    },
    {
      "cell_type": "code",
      "execution_count": null,
      "metadata": {},
      "outputs": [],
      "source": [
        "close='https://docs.google.com/spreadsheets/d/15493Wi1IdPYtX8oYfsQszOTAUkBkMQYDy31wNI3bsoY/export?format=xlsx&gid=1221906338'\n",
        "\n",
        "close=get_catalog_google_sheets_2(close, sheet_name='Has UPC')\n",
        "close=close.iloc[1:,]\n",
        "\n",
        "close=make_first_row_header(close)\n",
        "close=strip_column_names(close)\n",
        "\n",
        "print(close.shape)\n",
        "close.head()"
      ]
    },
    {
      "cell_type": "code",
      "execution_count": null,
      "metadata": {},
      "outputs": [],
      "source": [
        "close.shape[0]-close.UPC.isnull().sum()"
      ]
    },
    {
      "cell_type": "code",
      "execution_count": null,
      "metadata": {},
      "outputs": [],
      "source": []
    }
  ],
  "metadata": {
    "colab": {
      "provenance": []
    },
    "kernelspec": {
      "display_name": "tricyons",
      "language": "python",
      "name": "python3"
    },
    "language_info": {
      "codemirror_mode": {
        "name": "ipython",
        "version": 3
      },
      "file_extension": ".py",
      "mimetype": "text/x-python",
      "name": "python",
      "nbconvert_exporter": "python",
      "pygments_lexer": "ipython3",
      "version": "3.8.17"
    },
    "orig_nbformat": 4
  },
  "nbformat": 4,
  "nbformat_minor": 0
}
