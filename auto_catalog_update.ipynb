{
  "cells": [
    {
      "cell_type": "markdown",
      "metadata": {
        "id": "kXivR4vfqU3k"
      },
      "source": [
        "# Imports"
      ]
    },
    {
      "cell_type": "code",
      "execution_count": 101,
      "metadata": {
        "id": "Mq7cXGpRqU3n"
      },
      "outputs": [],
      "source": [
        "%reload_ext autoreload\n",
        "%autoreload 2\n",
        "\n",
        "import requests\n",
        "\n",
        "\n",
        "\n",
        "import warnings\n",
        "warnings.filterwarnings(\"ignore\")\n",
        "# import warnings\n",
        "\n",
        "# def fxn():\n",
        "#     warnings.warn(\"deprecated\", DeprecationWarning)\n",
        "\n",
        "# with warnings.catch_warnings():\n",
        "#     warnings.simplefilter(\"ignore\")\n",
        "#     fxn()\n",
        "\n",
        "import smtplib\n",
        "from email.mime.multipart import MIMEMultipart\n",
        "from email.mime.text import MIMEText\n",
        "from email.utils import formataddr\n",
        "\n",
        "import pandas as pd\n",
        "import time, requests, csv, json\n",
        "from datetime import datetime\n",
        "pd.set_option('display.max_columns', 100)\n",
        "pd.set_option('display.max_rows', 20000)\n",
        "pd.set_option('display.max_colwidth', -1)\n",
        "\n",
        "import sys, os, shutil, pdb\n",
        "sys.path.insert(1, '/Users/muhammadfaisal/Documents/')\n",
        "\n",
        "\n",
        "from pathlib import Path\n",
        "import urllib.request\n",
        "\n",
        "import ipywidgets as widgets\n",
        "from ipywidgets import interact, interact_manual\n",
        "from IPython.display import display, clear_output\n",
        "from bs4 import BeautifulSoup\n",
        "\n",
        "\n",
        "\n",
        "\n",
        "from pydrive.auth import GoogleAuth\n",
        "from pydrive.drive import GoogleDrive\n",
        "\n",
        "try: # running remotely\n",
        "    from google.colab import drive \n",
        "except: # running locally\n",
        "    from utils import *\n",
        "    from engine import GDrive\n"
      ]
    },
    {
      "cell_type": "markdown",
      "metadata": {
        "id": "CG9Ot9JyqU3o"
      },
      "source": [
        "# Local VS Remote"
      ]
    },
    {
      "cell_type": "code",
      "execution_count": 102,
      "metadata": {
        "id": "gZY7Al7jqU3p"
      },
      "outputs": [],
      "source": [
        "def download_scripts():\n",
        "    # downloading utils and engine scripts from github\n",
        "    r=requests.get(\"https://raw.githubusercontent.com/faysal887/tricyons-analyser-v2/master/engine.py\")\n",
        "    with open('engine.py', 'w') as f: f.write(r.content.decode(\"utf-8\"))\n",
        "\n",
        "    r=requests.get(\"https://raw.githubusercontent.com/faysal887/tricyons-analyser-v2/master/utils.py\")\n",
        "    with open('utils.py', 'w') as f: f.write(r.content.decode(\"utf-8\"))"
      ]
    },
    {
      "cell_type": "code",
      "execution_count": 41,
      "metadata": {
        "id": "jqugD3eIqU3p",
        "outputId": "74fecefb-26fa-4ded-fca2-f9a2aed8f09a",
        "colab": {
          "base_uri": "https://localhost:8080/"
        }
      },
      "outputs": [
        {
          "output_type": "stream",
          "name": "stdout",
          "text": [
            "Drive already mounted at /content/drive; to attempt to forcibly remount, call drive.mount(\"/content/drive\", force_remount=True).\n",
            "running on collab\n",
            "Drive already mounted at /content/drive; to attempt to forcibly remount, call drive.mount(\"/content/drive\", force_remount=True).\n",
            "https://accounts.google.com/o/oauth2/auth?client_id=454591216913-28jl16cqrsojhifrtmopf0ts9mb4281t.apps.googleusercontent.com&redirect_uri=http%3A%2F%2Flocalhost&scope=https%3A%2F%2Fwww.googleapis.com%2Fauth%2Fdrive&access_type=offline&response_type=code\n",
            "Enter redirect urlhttp://localhost/?code=4/0AVHEtk4sSAizwPN7uZs2qFfRtp0OA6dsk5rDXT3EHtWB3IKugJbxzwMGv1bCfoHQaurmbA&scope=https://www.googleapis.com/auth/drive\n",
            "Authentication successful.\n"
          ]
        }
      ],
      "source": [
        "'''\n",
        "checking whether the code is running on local machine or on collab\n",
        "'''\n",
        "\n",
        "LOCAL=None # running code locally or remotely\n",
        "try:\n",
        "    drive.mount('/content/drive')\n",
        "\n",
        "    GoogleAuth.DEFAULT_SETTINGS['client_config_file'] = '/content/drive/MyDrive/Colab Notebooks/client_secrets.json'\n",
        "    gauth = GoogleAuth()\n",
        "    gauth.GetAuthUrl()\n",
        "    print('running on collab')\n",
        "    LOCAL=False\n",
        "except Exception as e:\n",
        "    print(e)\n",
        "    print('running locally')\n",
        "    LOCAL=True\n",
        "\n",
        "\n",
        "if LOCAL: # running locally\n",
        "    try:\n",
        "        if g: print('GDrive already connected!')\n",
        "    except: \n",
        "        g=GDrive()\n",
        "        print('created new connection!')\n",
        "else: # running remotely\n",
        "    drive.mount('/content/drive')\n",
        "\n",
        "    GoogleAuth.DEFAULT_SETTINGS['client_config_file'] = '/content/drive/MyDrive/Colab Notebooks/client_secrets.json'\n",
        "    gauth = GoogleAuth()\n",
        "    print(gauth.GetAuthUrl())\n",
        "    redirect_url=input('Enter redirect url')\n",
        "    code=redirect_url.split('code=')[1].split('&scope=')[0]\n",
        "    gauth.Authenticate(code)\n",
        "    download_scripts()\n",
        "    from utils import *\n",
        "    from engine import GDrive\n",
        "    g=GDrive(gauth)\n",
        "\n"
      ]
    },
    {
      "cell_type": "markdown",
      "metadata": {
        "id": "aIafPi4rqU3q"
      },
      "source": [
        "# Download Catalogs"
      ]
    },
    {
      "cell_type": "code",
      "execution_count": 103,
      "metadata": {
        "id": "FqaNeCBMqU3q"
      },
      "outputs": [],
      "source": [
        "TMP_DIR='./tmp'\n",
        "try: shutil.rmtree(TMP_DIR)\n",
        "except: pass"
      ]
    },
    {
      "cell_type": "code",
      "execution_count": 104,
      "metadata": {
        "id": "AoDZ5DlLqU3r",
        "outputId": "b9a7a6d9-745a-47d2-8bb7-c04aa570ba14",
        "colab": {
          "base_uri": "https://localhost:8080/"
        }
      },
      "outputs": [
        {
          "output_type": "stream",
          "name": "stdout",
          "text": [
            "done 1\n",
            "(32, 14)\n",
            "done 2\n"
          ]
        }
      ],
      "source": [
        "# main\n",
        "\n",
        "tmp_dir='./tmp'\n",
        "merged_dir=f'{tmp_dir}/merged'\n",
        "online_catalogs=f'{tmp_dir}/online_catalogs'\n",
        "gdrive_catalogs=f'{tmp_dir}/gdrive_catalogs'\n",
        "\n",
        "# 1. create /tmp if not\n",
        "Path(tmp_dir).mkdir(parents=True, exist_ok=True)\n",
        "Path(merged_dir).mkdir(parents=True, exist_ok=True)\n",
        "Path(online_catalogs).mkdir(parents=True, exist_ok=True)\n",
        "Path(gdrive_catalogs).mkdir(parents=True, exist_ok=True)\n",
        "print('done 1')\n",
        "\n",
        "# 2. download excel sheet for links and emails \n",
        "tree=['Supplier Catalogues', 'AUTOMATION', 'Brands For Auto-Email']\n",
        "folder_id=g.find_gdrive_folder_id(tree=tree, folder_id='root')\n",
        "g.download_files(folder_id, tmp_dir)\n",
        "\n",
        "linksdf=pd.read_excel(f'{tmp_dir}/Catalogs Link.xlsx')\n",
        "# data=linksdf.dropna(subset=['Link'], axis=0)\n",
        "data=strip_column_names(linksdf)\n",
        "print(data.shape)\n",
        "print('done 2')\n",
        "\n"
      ]
    },
    {
      "cell_type": "code",
      "execution_count": 105,
      "metadata": {
        "id": "ssOHj3ScqU3r",
        "outputId": "e57c9112-5d31-4f85-fbc8-e9cf2ff44c9a",
        "colab": {
          "base_uri": "https://localhost:8080/"
        }
      },
      "outputs": [
        {
          "output_type": "stream",
          "name": "stdout",
          "text": [
            "(19, 14)\n",
            "\n",
            " ************************************************* \n",
            "\n",
            "Error Catalogs:  {}\n",
            "\n",
            " ************************************************* \n",
            "\n",
            "done 3\n"
          ]
        }
      ],
      "source": [
        "# 3. download excel catalogs\n",
        "df=data[(data.Active==True) & (data.Type=='LINK')]\n",
        "print(df.shape)\n",
        "catalogs=download_online_excel_catalogs(df, online_catalogs, test_catalogs=[])\n",
        "print('done 3') "
      ]
    },
    {
      "cell_type": "code",
      "execution_count": 106,
      "metadata": {
        "id": "S9y9QXq0qU3s",
        "outputId": "0e843da7-1928-47f8-8585-50f3bd04a69b",
        "colab": {
          "base_uri": "https://localhost:8080/"
        }
      },
      "outputs": [
        {
          "output_type": "stream",
          "name": "stdout",
          "text": [
            "done 4\n"
          ]
        }
      ],
      "source": [
        "# 4. delete existing supplier folders\n",
        "tree_base=['Supplier Catalogues', 'AUTOMATION', 'Catalogs_ALL']\n",
        "df.Distributor.apply(lambda x: g.delete_by_name(tree_base+[x]))\n",
        "print('done 4')"
      ]
    },
    {
      "cell_type": "code",
      "execution_count": 107,
      "metadata": {
        "id": "VqccYv2VqU3s",
        "outputId": "89535a25-ba10-441a-b972-00b7533580fc",
        "colab": {
          "base_uri": "https://localhost:8080/"
        }
      },
      "outputs": [
        {
          "output_type": "stream",
          "name": "stdout",
          "text": [
            "done 5\n",
            "done 6\n"
          ]
        }
      ],
      "source": [
        "# 5. create new supplier folders\n",
        "tree=['Supplier Catalogues', 'AUTOMATION', 'Catalogs_ALL']\n",
        "parent_folder_id=g.find_gdrive_folder_id(tree=tree, folder_id='root')\n",
        "df['folder_id'] = df.Distributor.apply(lambda x: g.create_folder(parent_folder_id, x))\n",
        "print('done 5')\n",
        "\n",
        "\n",
        "# 6. create folder for catalog in supplier folder\n",
        "df['catalog_folder_id'] = df.folder_id.apply(lambda x: g.create_folder(parent_folder_id=x, folder_name='catalog'))\n",
        "print('done 6')\n",
        "\n"
      ]
    },
    {
      "cell_type": "code",
      "execution_count": 108,
      "metadata": {
        "id": "CqW3rroKqU3s",
        "outputId": "cffd64e9-8977-4f85-eb41-1c2041ee1cda",
        "colab": {
          "base_uri": "https://localhost:8080/"
        }
      },
      "outputs": [
        {
          "output_type": "stream",
          "name": "stdout",
          "text": [
            "done 7\n"
          ]
        }
      ],
      "source": [
        "# 7. upload catalog\n",
        "# _ = df.apply(lambda x: g.upload_file(folder_id=x.catalog_folder_id, file_path=f'{online_catalogs}/{x.Distributor}.xlsx'), axis=1)\n",
        "for i, row in df.iterrows():\n",
        "    print(f'{i+1}/{len(df)}', end='\\r')\n",
        "    file_path=f'{online_catalogs}/{row.Distributor}.xlsx'\n",
        "    if os.path.exists(file_path):\n",
        "        g.upload_file(folder_id=row.catalog_folder_id, file_path=file_path)\n",
        "    \n",
        "print('done 7')\n",
        "\n",
        "\n",
        "# 8. delete /tmp\n",
        "# shutil.rmtree(tmp_dir)\n",
        "# print('done 8')"
      ]
    },
    {
      "cell_type": "code",
      "execution_count": 109,
      "metadata": {
        "id": "M_3KbPdTqU3t",
        "outputId": "71fbe8e8-e7b9-40d9-c41c-7da03b8aab32",
        "colab": {
          "base_uri": "https://localhost:8080/"
        }
      },
      "outputs": [
        {
          "output_type": "stream",
          "name": "stdout",
          "text": [
            "(23, 14)\n"
          ]
        }
      ],
      "source": [
        "'''''''''''''''''''''''''''''''''''''''''''''''''''''''''''''''''''''''''''''''''''''''''''''''''''\n",
        "                                # PART-2: Start again with data #\n",
        "'''''''''''''''''''''''''''''''''''''''''''''''''''''''''''''''''''''''''''''''''''''''''''''''''''\n",
        "df=data[data.Active==True].copy()\n",
        "print(df.shape)"
      ]
    },
    {
      "cell_type": "code",
      "execution_count": 110,
      "metadata": {
        "id": "dkrvon56qU3t",
        "outputId": "89d8f8a5-d6d1-4b30-9d7a-eda8191275b3",
        "colab": {
          "base_uri": "https://localhost:8080/"
        }
      },
      "outputs": [
        {
          "output_type": "stream",
          "name": "stdout",
          "text": [
            "done 8\n"
          ]
        }
      ],
      "source": [
        "\n",
        "\n",
        "# 8. for all the suppliers in catalogs_all, get their catalog folder_ids \n",
        "for i, row in df.iterrows():\n",
        "    try:\n",
        "        print(f'{i+1}/{len(df)}', end='\\r')\n",
        "        tree=['Supplier Catalogues', 'AUTOMATION', 'Catalogs_ALL', row.Distributor, 'catalog']\n",
        "        catalog_folder_id=g.find_gdrive_folder_id(tree=tree, folder_id='root')\n",
        "        df.loc[i, 'catalog_folder_id']=catalog_folder_id\n",
        "    except Exception as e:\n",
        "        print('Error: ', row['Distributor'], e)\n",
        "print('done 8')\n",
        "\n"
      ]
    },
    {
      "cell_type": "code",
      "execution_count": 111,
      "metadata": {
        "id": "OtMXLBaLqU3t",
        "outputId": "c0b74f6a-5e1a-4b1c-9228-3ee6663f85b4",
        "colab": {
          "base_uri": "https://localhost:8080/"
        }
      },
      "outputs": [
        {
          "output_type": "stream",
          "name": "stdout",
          "text": [
            "Error:  DPCIWholesale No downloadLink/exportLinks for mimetype found in metadata\n",
            "done 9\n"
          ]
        }
      ],
      "source": [
        "# 9. loop on supplier folders id df and download all catalogs from gdrive\n",
        "# _ = df.catalog_folder_id.apply(lambda x: g.download_files(gdrive_folder_id=x, local_folder_path=gdrive_catalogs))\n",
        "\n",
        "for i, row in df[['Distributor','catalog_folder_id']].iterrows():\n",
        "    print(f'{i+1}/{len(df)}', end='\\r')\n",
        "\n",
        "    try:\n",
        "        dist, _id=row['Distributor'], row['catalog_folder_id']\n",
        "        g.download_files(gdrive_folder_id=_id, local_folder_path=gdrive_catalogs)\n",
        "    except Exception as e:\n",
        "        print('Error: ', dist, e)\n",
        "print('done 9')"
      ]
    },
    {
      "cell_type": "code",
      "execution_count": 112,
      "metadata": {
        "id": "Xpzkc_3MqU3u",
        "outputId": "34179751-72e0-4565-d63d-1a651ab2a0f6",
        "colab": {
          "base_uri": "https://localhost:8080/"
        }
      },
      "outputs": [
        {
          "output_type": "stream",
          "name": "stdout",
          "text": [
            "done 10\n"
          ]
        }
      ],
      "source": [
        "# 10. create new catalogs dict obj\n",
        "\n",
        "catalogs={}\n",
        "for i, fn in enumerate(os.listdir(gdrive_catalogs)):\n",
        "    print(f'{i+1}/{len(os.listdir(gdrive_catalogs))}', end='\\r')\n",
        "\n",
        "    if '.xlsx' in fn or 'xls' in fn: tmpdf=pd.read_excel(f'{gdrive_catalogs}/{fn}')\n",
        "    if '.csv'   in fn: tmpdf=pd.read_csv(f'{gdrive_catalogs}/{fn}')\n",
        "\n",
        "    fn=fn.split('.')[0]\n",
        "\n",
        "    catalogs[fn]=tmpdf\n",
        "    # catalogs[fn.replace('.xlsx','').replace('.csv','').replace('.csv','')]=tmpdf\n",
        "\n",
        "print('done 10')\n"
      ]
    },
    {
      "cell_type": "code",
      "execution_count": 113,
      "metadata": {
        "id": "RB8HeEQuqU3u"
      },
      "outputs": [],
      "source": [
        "# sanity checks to check all the required columns are present\n",
        "for name, tmpdf in catalogs.items():\n",
        "    # pdb.set_trace()\n",
        "    id_columns_name\t= df[df.Distributor==name].id_columns_name.item()\n",
        "    id_columns_type = df[df.Distributor==name].id_columns_type.item()\n",
        "    price_column    = df[df.Distributor==name].price_column.item()\n",
        "\n",
        "    if id_columns_name not in tmpdf.columns: print(f'{name} {id_columns_name} column missing')\n",
        "    if price_column not in tmpdf.columns: print(f'{name} {price_column} column missing')"
      ]
    },
    {
      "cell_type": "code",
      "execution_count": 114,
      "metadata": {
        "id": "NnFItc8WqU3u",
        "outputId": "86463e4c-da4d-488a-ea57-4ad08f5e626f",
        "colab": {
          "base_uri": "https://localhost:8080/"
        }
      },
      "outputs": [
        {
          "output_type": "stream",
          "name": "stdout",
          "text": [
            "All Suppliers are Labeled\n",
            "done 11\n"
          ]
        }
      ],
      "source": [
        "# 11. label data\n",
        "df, catalogs=label_data(df, catalogs)\n",
        "print('done 11')"
      ]
    },
    {
      "cell_type": "code",
      "execution_count": 115,
      "metadata": {
        "id": "yjAyDln9qU3u"
      },
      "outputs": [],
      "source": [
        "# preprocess each supplier separately\n",
        "for name, tmpdf in catalogs.items():\n",
        "    if name == 'NUK': tmpdf=preprocess_nuk(tmpdf)\n",
        "    catalogs[name]=tmpdf"
      ]
    },
    {
      "cell_type": "code",
      "execution_count": 116,
      "metadata": {
        "id": "uNxUj1OqqU3u"
      },
      "outputs": [],
      "source": [
        "# label encode supplier name in df dataframe\n",
        "# keys=df.Distributor.unique().tolist()\n",
        "# values=['TRI'+str(i).zfill(5) for i in range(len(keys))]\n",
        "# labels_map=dict(zip(keys, values))\n",
        "# df['distributor_key'] = df.Distributor.map(labels_map)\n",
        "\n",
        "# now this is being done manually\n",
        "# print('done 12')\n",
        "\n",
        "\n",
        "# apply labels_map for each catalog in catalog dict of dfs\n",
        "for key, tmpdf in catalogs.items():\n",
        "    tmpdf['distributor_key']=df[df.Distributor==key].distributor_key.item()\n",
        "    catalogs[key]=tmpdf\n",
        "\n",
        "\n",
        "# 12. upload updated catalog_links df\n",
        "# df.drop(['folder_id', 'catalog_folder_id'], axis=1).to_excel(f'{tmp_dir}/Catalogs Link.xlsx', index=False)"
      ]
    },
    {
      "cell_type": "code",
      "execution_count": 117,
      "metadata": {
        "id": "WBa5V88XqU3v",
        "outputId": "22bd6c11-1dfe-44b4-b003-68a3b91b6206",
        "colab": {
          "base_uri": "https://localhost:8080/"
        }
      },
      "outputs": [
        {
          "output_type": "stream",
          "name": "stdout",
          "text": [
            "19\n",
            "done 12\n"
          ]
        }
      ],
      "source": [
        "# 13. check for missing values in each column\n",
        "missing_total=0\n",
        "for name, tmpdf in catalogs.items():\n",
        "    # print(name, tmpdf['each_price'].isnull().sum())\n",
        "    missing_total+=tmpdf['each_price'].isnull().sum()\n",
        "print(missing_total)\n",
        "print('done 12')"
      ]
    },
    {
      "cell_type": "code",
      "execution_count": 118,
      "metadata": {
        "id": "xsdSgg4UqU3v",
        "outputId": "6a8a79d8-4fc0-4dc9-d8dc-d0ef7ce5f7c6",
        "colab": {
          "base_uri": "https://localhost:8080/"
        }
      },
      "outputs": [
        {
          "output_type": "stream",
          "name": "stdout",
          "text": [
            "after concating all asinsdf:  (11442, 3) 17\n",
            "after dropna:  (11381, 3) 0\n",
            "after preprocess_price:  (11381, 3) 0\n",
            "after reset_index:  (11381, 3) 0\n",
            "after saving:  (11381, 3)\n",
            "done 13\n"
          ]
        }
      ],
      "source": [
        "# 13. preprocess asins\n",
        "asins_suppliers=df[df.id_columns_type=='asin'].Distributor.tolist()\n",
        "\n",
        "tmpli=[]\n",
        "for x in asins_suppliers:\n",
        "  try:\n",
        "    tmpli.append(catalogs[x][['asin', 'each_price', 'distributor_key']])\n",
        "  except Exception as e:\n",
        "    print(f'Error in {x}: e')\n",
        "asinsdf = pd.concat(tmpli)\n",
        "print('after concating all asinsdf: ',asinsdf.shape, asinsdf.each_price.isnull().sum())\n",
        "\n",
        "asinsdf=asinsdf.dropna()\n",
        "print('after dropna: ',asinsdf.shape, asinsdf.each_price.isnull().sum())\n",
        "\n",
        "asinsdf=preprocess_price(asinsdf)\n",
        "print('after preprocess_price: ',asinsdf.shape, asinsdf.each_price.isnull().sum())\n",
        "\n",
        "asinsdf=asinsdf.reset_index(drop=True)\n",
        "print('after reset_index: ',asinsdf.shape, asinsdf.each_price.isnull().sum())\n",
        "\n",
        "asinsdf.to_excel(f'{merged_dir}/asinsdf.xlsx', index=False)\n",
        "print('after saving: ', asinsdf.shape)\n",
        "print('done 13')"
      ]
    },
    {
      "cell_type": "code",
      "execution_count": 121,
      "metadata": {
        "id": "jcN5vKcSqU3v",
        "outputId": "6411bf27-3270-4973-c9e8-1fabfc7561f8",
        "colab": {
          "base_uri": "https://localhost:8080/"
        }
      },
      "outputs": [
        {
          "output_type": "stream",
          "name": "stdout",
          "text": [
            "Error in DPCIWholesale: 'DPCIWholesale'\n",
            "after concat:  (93220, 3) 2\n",
            "after dropna:  (92046, 3) 0\n",
            "after preprocess_upc:  (92034, 3) 0\n",
            "after preprocess_price:  (92034, 3) 0\n",
            "after reset_index:  (92034, 3) 0\n",
            "after save:  (92034, 3) 0\n",
            "done 14\n"
          ]
        }
      ],
      "source": [
        "# 14. preprocess upcs\n",
        "upc_suppliers=df[df.id_columns_type=='upc'].Distributor.tolist()\n",
        "# upcsdf = pd.concat([catalogs[x][['upc', 'each_price', 'distributor_key']] for x in upc_suppliers])\n",
        "tmpli=[]\n",
        "for x in upc_suppliers:\n",
        "  try:\n",
        "    tmpli.append(catalogs[x][['upc', 'each_price', 'distributor_key']])\n",
        "  except Exception as e:\n",
        "    print(f'Error in {x}: {e}')\n",
        "upcsdf = pd.concat(tmpli)\n",
        "print('after concat: ',upcsdf.shape, upcsdf.each_price.isnull().sum())\n",
        "\n",
        "upcsdf=upcsdf.dropna(subset=['upc', 'each_price'])\n",
        "print('after dropna: ',upcsdf.shape, upcsdf.each_price.isnull().sum())\n",
        "\n",
        "upcsdf=preprocess_upc(upcsdf)\n",
        "print('after preprocess_upc: ',upcsdf.shape, upcsdf.each_price.isnull().sum())\n",
        "\n",
        "upcsdf=preprocess_price(upcsdf)\n",
        "print('after preprocess_price: ',upcsdf.shape, upcsdf.each_price.isnull().sum())\n",
        "\n",
        "upcsdf=upcsdf.reset_index(drop=True)\n",
        "print('after reset_index: ',upcsdf.shape, upcsdf.each_price.isnull().sum())\n",
        "\n",
        "upcsdf.to_excel(f'{merged_dir}/upcsdf.xlsx', index=False)\n",
        "print('after save: ',upcsdf.shape, upcsdf.each_price.isnull().sum())\n",
        "\n",
        "print('done 14')"
      ]
    },
    {
      "cell_type": "code",
      "execution_count": 122,
      "metadata": {
        "id": "gq0jA9-QqU3v",
        "outputId": "7e1b9962-eb9e-48cf-89f7-3b4648e0e114",
        "colab": {
          "base_uri": "https://localhost:8080/"
        }
      },
      "outputs": [
        {
          "output_type": "stream",
          "name": "stdout",
          "text": [
            "done 16\n"
          ]
        }
      ],
      "source": [
        "# 15. upload merged asin and upc on gdrive\n",
        "tree=['Supplier Catalogues', 'AUTOMATION', 'ScanUnlimited_ALL']\n",
        "folder_id=g.find_gdrive_folder_id(tree, folder_id='root')\n",
        "# delete existing ScanUnlimited_ALL\n",
        "g.delete_by_id(folder_id)\n",
        "# create new ScanUnlimited_ALL\n",
        "tree=['Supplier Catalogues', 'AUTOMATION']\n",
        "parent_folder_id=g.find_gdrive_folder_id(tree, folder_id='root')\n",
        "new_folder_id=g.create_folder(parent_folder_id, 'ScanUnlimited_ALL')\n",
        "g.upload_file(new_folder_id, f'{merged_dir}/asinsdf.xlsx')\n",
        "g.upload_file(new_folder_id, f'{merged_dir}/upcsdf.xlsx')\n",
        "print('done 16')"
      ]
    },
    {
      "cell_type": "code",
      "execution_count": 123,
      "metadata": {
        "id": "WCoSqkCsqU3w",
        "outputId": "b845edae-e73a-462f-90f5-7f235c5d038f",
        "colab": {
          "base_uri": "https://localhost:8080/"
        }
      },
      "outputs": [
        {
          "output_type": "stream",
          "name": "stdout",
          "text": [
            "\n",
            "    Total:   103415\n",
            "    upcsdf:  92034\n",
            "    asinsdf: 11381\n",
            "\n"
          ]
        }
      ],
      "source": [
        "print(f'''\n",
        "    Total:   {asinsdf.shape[0]+upcsdf.shape[0]}\n",
        "    upcsdf:  {upcsdf.shape[0]}\n",
        "    asinsdf: {asinsdf.shape[0]}\n",
        "''')"
      ]
    },
    {
      "cell_type": "code",
      "execution_count": 124,
      "metadata": {
        "id": "oAoKRldGqU3w"
      },
      "outputs": [],
      "source": [
        "try: shutil.rmtree(TMP_DIR)\n",
        "except: pass"
      ]
    },
    {
      "cell_type": "markdown",
      "metadata": {
        "id": "PmId6qptqU3w"
      },
      "source": [
        "# TODO"
      ]
    },
    {
      "cell_type": "code",
      "execution_count": null,
      "metadata": {
        "id": "VaEK6A6sqU3w"
      },
      "outputs": [],
      "source": [
        "# add sheet name column so it shortens the download function\n",
        "# change ignore to active\n",
        "# add other columns list column"
      ]
    },
    {
      "cell_type": "code",
      "execution_count": null,
      "metadata": {
        "id": "AFgmacFXqU3w"
      },
      "outputs": [],
      "source": []
    },
    {
      "cell_type": "markdown",
      "metadata": {
        "id": "ecLRyLWuqU3w"
      },
      "source": [
        "# Send Emails"
      ]
    },
    {
      "cell_type": "code",
      "execution_count": null,
      "metadata": {
        "id": "ZdoWt-N_qU3w"
      },
      "outputs": [],
      "source": [
        "def send_email(addr, subject, body):\n",
        "    fromaddr = \"contact@tricyons.com\"\n",
        "    pswd     = \"tricyons123\"\n",
        "\n",
        "    msg = MIMEMultipart()\n",
        "    msg['From'] = formataddr(('Tricyons LLC', fromaddr))\n",
        "    msg['To'] = addr\n",
        "    msg['Subject'] = subject\n",
        "    body = body\n",
        "\n",
        "    msg.attach(MIMEText(body, 'plain'))\n",
        "    # smtpserver = smtplib.SMTP(\"mail.tricyons.com\", 465) # tls\n",
        "\n",
        "    server = smtplib.SMTP(\"mail.tricyons.com\", 26) # non-tls\n",
        "    server.starttls()\n",
        "    server.login(fromaddr, pswd)\n",
        "\n",
        "    text = msg.as_string()\n",
        "    server.sendmail(fromaddr, addr, text)\n",
        "    server.quit()    \n",
        "    return True"
      ]
    },
    {
      "cell_type": "markdown",
      "metadata": {
        "id": "fKDWjX_xqU3x"
      },
      "source": [
        "### Ask Catalog"
      ]
    },
    {
      "cell_type": "code",
      "execution_count": null,
      "metadata": {
        "id": "GNUYT7dVqU3x"
      },
      "outputs": [],
      "source": [
        "emailsdf=data[(data.Active==True) & (data.Type=='EMAIL')].sort_values('Email', ascending=False)\n",
        "print(emailsdf.shape)\n",
        "emailsdf"
      ]
    },
    {
      "cell_type": "code",
      "execution_count": null,
      "metadata": {
        "id": "8vIGpWVcqU3x"
      },
      "outputs": [],
      "source": [
        "with open('./email_catalog.txt', 'r') as f:\n",
        "    email_body_template = f.read()\n",
        "\n",
        "print(email_body_template)"
      ]
    },
    {
      "cell_type": "code",
      "execution_count": null,
      "metadata": {
        "id": "tnPJNwcdqU3x"
      },
      "outputs": [],
      "source": [
        "email_subject='Updated Catalog'\n",
        "\n",
        "for i, row in emailsdf.iterrows():\n",
        "    print(f'{i+1}/{emailsdf.shape[0]}', end='\\r')\n",
        "\n",
        "    email_to=row.Email.strip().lower()\n",
        "\n",
        "    email_body=email_body_template.replace('SUBJECT_NAME_TAG', row.Email_Subject)\n",
        "\n",
        "    email_sent = send_email(email_to, email_subject, email_body)\n",
        "    if not email_sent: print(f'Error in sending email to: {row.Email_Subject}')\n",
        "\n",
        "    time.sleep(3)"
      ]
    },
    {
      "cell_type": "code",
      "execution_count": null,
      "metadata": {
        "id": "EqSRiKRLqU3x"
      },
      "outputs": [],
      "source": []
    },
    {
      "cell_type": "markdown",
      "metadata": {
        "id": "O-1qhNxMqU3x"
      },
      "source": [
        "### Account Open"
      ]
    },
    {
      "cell_type": "code",
      "execution_count": null,
      "metadata": {
        "id": "A7FszVg_qU3x"
      },
      "outputs": [],
      "source": [
        "\n",
        "\n",
        "with open('./email_template.txt', 'r') as f:\n",
        "    email_body_template = f.read()\n",
        "\n",
        "print(email_body_template)\n",
        "\n",
        "\n",
        "# email_to='faysalaslam887@gmail.com'\n",
        "# email_subject = \"Testing Email Body 3 Spaces\"\n",
        "# email_body=email_body_template.replace('COMPANY_NAME_TAG', 'Test Company')\n",
        "# send_email(email_to, email_subject, email_body)\n",
        "\n",
        "# g=GDrive()\n",
        "\n",
        "\n",
        "'''\n",
        "tmp_dir='./tmp/'\n",
        "\n",
        "tree=['Supplier Catalogues', 'Brands For Auto-Email']\n",
        "g.supplier_id=g.find_gdrive_folder_id(tree=tree, folder_id='root')\n",
        "g.download_files(g.supplier_id, tmp_dir)\n",
        "\n",
        "all_suppliers=pd.read_excel(f'{tmp_dir}/All Suppliers.xlsx')\n",
        "print(all_suppliers.shape)\n",
        "\n",
        "all_suppliers.head()\n",
        "\n",
        "df=all_suppliers.dropna(subset=['Email'], axis=0).reset_index(drop=True)\n",
        "print(df.shape)\n",
        "df.head()\n",
        "\n",
        "# email_subject = \"Wholesale Account Opening\"\n",
        "\n",
        "# for i, row in df.iloc[78:].iterrows():\n",
        "#     print(f'{i+1}/{df.shape[0]}', end='\\r')\n",
        "\n",
        "#     email_to=row.Email.strip().lower()\n",
        "\n",
        "#     supplier_name = row.Name.strip()\n",
        "\n",
        "#     email_body=email_body_template.replace('COMPANY_NAME_TAG', supplier_name)\n",
        "\n",
        "#     email_sent = send_email(email_to, email_subject, email_body)\n",
        "#     if not email_sent: print(f'Error in sending email to: {supplier_name}')\n",
        "\n",
        "#     time.sleep(3)\n",
        "    \n",
        "'''"
      ]
    },
    {
      "cell_type": "code",
      "execution_count": null,
      "metadata": {
        "id": "sQgSgB_fqU3x"
      },
      "outputs": [],
      "source": []
    },
    {
      "cell_type": "markdown",
      "metadata": {
        "id": "7GYCevByqU3y"
      },
      "source": [
        "# Test New Catalogs"
      ]
    },
    {
      "cell_type": "code",
      "execution_count": null,
      "metadata": {
        "id": "lyCnzbM7qU3y"
      },
      "outputs": [],
      "source": []
    },
    {
      "cell_type": "code",
      "execution_count": null,
      "metadata": {
        "id": "dbcS6K5dqU3y"
      },
      "outputs": [],
      "source": []
    }
  ],
  "metadata": {
    "kernelspec": {
      "display_name": "Python 3.9.12 ('base')",
      "language": "python",
      "name": "python3"
    },
    "language_info": {
      "codemirror_mode": {
        "name": "ipython",
        "version": 3
      },
      "file_extension": ".py",
      "mimetype": "text/x-python",
      "name": "python",
      "nbconvert_exporter": "python",
      "pygments_lexer": "ipython3",
      "version": "3.9.12"
    },
    "orig_nbformat": 4,
    "vscode": {
      "interpreter": {
        "hash": "760e8a02d58bef947fb67df29745f4128d863e8829938df1158e073523dddf20"
      }
    },
    "colab": {
      "provenance": []
    }
  },
  "nbformat": 4,
  "nbformat_minor": 0
}