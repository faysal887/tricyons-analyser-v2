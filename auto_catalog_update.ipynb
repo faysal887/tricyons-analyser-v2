{
  "cells": [
    {
      "cell_type": "markdown",
      "metadata": {
        "id": "kXivR4vfqU3k"
      },
      "source": [
        "# Imports"
      ]
    },
    {
      "cell_type": "code",
      "execution_count": 1,
      "metadata": {
        "id": "Mq7cXGpRqU3n"
      },
      "outputs": [],
      "source": [
        "%reload_ext autoreload\n",
        "%autoreload 2\n",
        "\n",
        "import requests\n",
        "\n",
        "\n",
        "\n",
        "import warnings\n",
        "warnings.filterwarnings(\"ignore\")\n",
        "# import warnings\n",
        "\n",
        "# def fxn():\n",
        "#     warnings.warn(\"deprecated\", DeprecationWarning)\n",
        "\n",
        "# with warnings.catch_warnings():\n",
        "#     warnings.simplefilter(\"ignore\")\n",
        "#     fxn()\n",
        "\n",
        "import smtplib\n",
        "from email.mime.multipart import MIMEMultipart\n",
        "from email.mime.text import MIMEText\n",
        "from email.utils import formataddr\n",
        "\n",
        "import pandas as pd\n",
        "import time, requests, csv, json\n",
        "from datetime import datetime\n",
        "pd.set_option('display.max_columns', 100)\n",
        "pd.set_option('display.max_rows', 20000)\n",
        "pd.set_option('display.max_colwidth', -1)\n",
        "\n",
        "import sys, os, shutil, pdb\n",
        "sys.path.insert(1, '/Users/muhammadfaisal/Documents/')\n",
        "\n",
        "\n",
        "from pathlib import Path\n",
        "import urllib.request\n",
        "\n",
        "import ipywidgets as widgets\n",
        "from ipywidgets import interact, interact_manual\n",
        "from IPython.display import display, clear_output\n",
        "from bs4 import BeautifulSoup\n",
        "\n",
        "\n",
        "\n",
        "\n",
        "from pydrive.auth import GoogleAuth\n",
        "from pydrive.drive import GoogleDrive\n",
        "\n",
        "try: # running remotely\n",
        "    from google.colab import drive \n",
        "except: # running locally\n",
        "    from utils import *\n",
        "    from engine import GDrive\n"
      ]
    },
    {
      "cell_type": "code",
      "execution_count": 2,
      "metadata": {
        "id": "tk13T7qngmEx"
      },
      "outputs": [],
      "source": [
        "# %pip install tabula-py"
      ]
    },
    {
      "cell_type": "markdown",
      "metadata": {
        "id": "CG9Ot9JyqU3o"
      },
      "source": [
        "# Local VS Remote"
      ]
    },
    {
      "cell_type": "code",
      "execution_count": 3,
      "metadata": {
        "id": "gZY7Al7jqU3p"
      },
      "outputs": [],
      "source": [
        "def download_scripts():\n",
        "    # downloading utils and engine scripts from github\n",
        "    r=requests.get(\"https://raw.githubusercontent.com/faysal887/tricyons-analyser-v2/master/engine.py\")\n",
        "    with open('engine.py', 'w') as f: f.write(r.content.decode(\"utf-8\"))\n",
        "\n",
        "    r=requests.get(\"https://raw.githubusercontent.com/faysal887/tricyons-analyser-v2/master/utils.py\")\n",
        "    with open('utils.py', 'w') as f: f.write(r.content.decode(\"utf-8\"))"
      ]
    },
    {
      "cell_type": "code",
      "execution_count": 4,
      "metadata": {
        "colab": {
          "base_uri": "https://localhost:8080/"
        },
        "id": "jqugD3eIqU3p",
        "outputId": "662aa2b6-be09-4060-b38b-ecd75af44e50"
      },
      "outputs": [
        {
          "name": "stdout",
          "output_type": "stream",
          "text": [
            "name 'drive' is not defined\n",
            "running locally\n",
            "Your browser has been opened to visit:\n",
            "\n",
            "    https://accounts.google.com/o/oauth2/auth?client_id=454591216913-28jl16cqrsojhifrtmopf0ts9mb4281t.apps.googleusercontent.com&redirect_uri=http%3A%2F%2Flocalhost%3A8080%2F&scope=https%3A%2F%2Fwww.googleapis.com%2Fauth%2Fdrive&access_type=offline&response_type=code\n",
            "\n",
            "Authentication successful.\n",
            "created new connection!\n"
          ]
        }
      ],
      "source": [
        "'''\n",
        "checking whether the code is running on local machine or on collab\n",
        "'''\n",
        "\n",
        "LOCAL=None # running code locally or remotely\n",
        "try:\n",
        "    drive.mount('/content/drive')\n",
        "\n",
        "    GoogleAuth.DEFAULT_SETTINGS['client_config_file'] = '/content/drive/MyDrive/Colab Notebooks/client_secrets.json'\n",
        "    gauth = GoogleAuth()\n",
        "    gauth.GetAuthUrl()\n",
        "    print('running on collab')\n",
        "    LOCAL=False\n",
        "except Exception as e:\n",
        "    print(e)\n",
        "    print('running locally')\n",
        "    LOCAL=True\n",
        "\n",
        "\n",
        "if LOCAL: # running locally\n",
        "    try:\n",
        "        if g: print('GDrive already connected!')\n",
        "    except: \n",
        "        g=GDrive()\n",
        "        print('created new connection!')\n",
        "else: # running remotely\n",
        "    drive.mount('/content/drive')\n",
        "\n",
        "    GoogleAuth.DEFAULT_SETTINGS['client_config_file'] = '/content/drive/MyDrive/Colab Notebooks/client_secrets.json'\n",
        "    gauth = GoogleAuth()\n",
        "    print(gauth.GetAuthUrl())\n",
        "    redirect_url=input('Enter redirect url')\n",
        "    code=redirect_url.split('code=')[1].split('&scope=')[0]\n",
        "    gauth.Authenticate(code)\n",
        "    download_scripts()\n",
        "    from utils import *\n",
        "    from engine import GDrive\n",
        "    g=GDrive(gauth)\n",
        "\n"
      ]
    },
    {
      "cell_type": "markdown",
      "metadata": {
        "id": "aIafPi4rqU3q"
      },
      "source": [
        "# Download Catalogs"
      ]
    },
    {
      "cell_type": "code",
      "execution_count": 5,
      "metadata": {
        "id": "FqaNeCBMqU3q"
      },
      "outputs": [],
      "source": [
        "TMP_DIR='./tmp'\n",
        "try: shutil.rmtree(TMP_DIR)\n",
        "except: pass"
      ]
    },
    {
      "cell_type": "code",
      "execution_count": 6,
      "metadata": {
        "colab": {
          "base_uri": "https://localhost:8080/"
        },
        "id": "AoDZ5DlLqU3r",
        "outputId": "53b8f50c-90af-407e-c1bc-116ae32f882f"
      },
      "outputs": [
        {
          "name": "stdout",
          "output_type": "stream",
          "text": [
            "done 1\n",
            "(41, 17)\n",
            "done 2\n"
          ]
        }
      ],
      "source": [
        "# main\n",
        "\n",
        "tmp_dir='./tmp'\n",
        "merged_dir=f'{tmp_dir}/merged'\n",
        "online_catalogs=f'{tmp_dir}/online_catalogs'\n",
        "gdrive_catalogs=f'{tmp_dir}/gdrive_catalogs'\n",
        "\n",
        "# 1. create /tmp if not\n",
        "Path(tmp_dir).mkdir(parents=True, exist_ok=True)\n",
        "Path(merged_dir).mkdir(parents=True, exist_ok=True)\n",
        "Path(online_catalogs).mkdir(parents=True, exist_ok=True)\n",
        "Path(gdrive_catalogs).mkdir(parents=True, exist_ok=True)\n",
        "print('done 1')\n",
        "\n",
        "# 2. download excel sheet for links and emails \n",
        "tree=['Supplier Catalogues', 'AUTOMATION', 'Brands For Auto-Email']\n",
        "folder_id=g.find_gdrive_folder_id(tree=tree, folder_id='root')\n",
        "g.download_files(folder_id, tmp_dir)\n",
        "\n",
        "linksdf=pd.read_excel(f'{tmp_dir}/Catalogs Link.xlsx')\n",
        "# data=linksdf.dropna(subset=['Link'], axis=0)\n",
        "data=strip_column_names(linksdf)\n",
        "print(data.shape)\n",
        "print('done 2')\n",
        "\n"
      ]
    },
    {
      "cell_type": "code",
      "execution_count": 8,
      "metadata": {
        "colab": {
          "base_uri": "https://localhost:8080/"
        },
        "id": "ssOHj3ScqU3r",
        "outputId": "9ffe4c64-4929-4fe7-a392-9476b766cfe1"
      },
      "outputs": [
        {
          "name": "stdout",
          "output_type": "stream",
          "text": [
            "(5, 17)\n",
            "(82, 4)\n",
            "(165, 4)\n",
            "\n",
            " ************************************************* \n",
            "\n",
            "Error Catalogs:  {}\n",
            "\n",
            " ************************************************* \n",
            "\n",
            "done 3\n"
          ]
        }
      ],
      "source": [
        "# 3. download excel catalogs\n",
        "df=data[(data.Active==True) & (data.Type=='LINK')]\n",
        "print(df.shape)\n",
        "catalogs=download_online_excel_catalogs(df, online_catalogs, test_catalogs=[])\n",
        "print('done 3') "
      ]
    },
    {
      "cell_type": "code",
      "execution_count": 10,
      "metadata": {
        "colab": {
          "base_uri": "https://localhost:8080/"
        },
        "id": "S9y9QXq0qU3s",
        "outputId": "0e843da7-1928-47f8-8585-50f3bd04a69b"
      },
      "outputs": [
        {
          "name": "stdout",
          "output_type": "stream",
          "text": [
            "done 4\n"
          ]
        }
      ],
      "source": [
        "# 4. delete existing supplier folders\n",
        "tree_base=['Supplier Catalogues', 'AUTOMATION', 'Catalogs_ALL']\n",
        "df.Distributor.apply(lambda x: g.delete_by_name(tree_base+[x]))\n",
        "print('done 4')"
      ]
    },
    {
      "cell_type": "code",
      "execution_count": 11,
      "metadata": {
        "colab": {
          "base_uri": "https://localhost:8080/"
        },
        "id": "VqccYv2VqU3s",
        "outputId": "89535a25-ba10-441a-b972-00b7533580fc"
      },
      "outputs": [
        {
          "name": "stdout",
          "output_type": "stream",
          "text": [
            "done 5\n",
            "done 6\n"
          ]
        }
      ],
      "source": [
        "# 5. create new supplier folders\n",
        "tree=['Supplier Catalogues', 'AUTOMATION', 'Catalogs_ALL']\n",
        "parent_folder_id=g.find_gdrive_folder_id(tree=tree, folder_id='root')\n",
        "df['folder_id'] = df.Distributor.apply(lambda x: g.create_folder(parent_folder_id, x))\n",
        "print('done 5')\n",
        "\n",
        "\n",
        "# 6. create folder for catalog in supplier folder\n",
        "df['catalog_folder_id'] = df.folder_id.apply(lambda x: g.create_folder(parent_folder_id=x, folder_name='catalog'))\n",
        "print('done 6')\n",
        "\n"
      ]
    },
    {
      "cell_type": "code",
      "execution_count": 12,
      "metadata": {
        "colab": {
          "base_uri": "https://localhost:8080/"
        },
        "id": "CqW3rroKqU3s",
        "outputId": "cffd64e9-8977-4f85-eb41-1c2041ee1cda"
      },
      "outputs": [
        {
          "name": "stdout",
          "output_type": "stream",
          "text": [
            "done 7\n"
          ]
        }
      ],
      "source": [
        "# 7. upload catalog\n",
        "# _ = df.apply(lambda x: g.upload_file(folder_id=x.catalog_folder_id, file_path=f'{online_catalogs}/{x.Distributor}.xlsx'), axis=1)\n",
        "for i, row in df.iterrows():\n",
        "    print(f'{i+1}/{len(df)}', end='\\r')\n",
        "    file_path=f'{online_catalogs}/{row.Distributor}.xlsx'\n",
        "    if os.path.exists(file_path):\n",
        "        g.upload_file(folder_id=row.catalog_folder_id, file_path=file_path)\n",
        "    \n",
        "print('done 7')\n",
        "\n",
        "\n",
        "# 8. delete /tmp\n",
        "# shutil.rmtree(tmp_dir)\n",
        "# print('done 8')"
      ]
    },
    {
      "cell_type": "code",
      "execution_count": 13,
      "metadata": {
        "colab": {
          "base_uri": "https://localhost:8080/"
        },
        "id": "M_3KbPdTqU3t",
        "outputId": "bc175673-b93d-4396-b718-adfee5abd720"
      },
      "outputs": [
        {
          "name": "stdout",
          "output_type": "stream",
          "text": [
            "(7, 17)\n"
          ]
        }
      ],
      "source": [
        "'''''''''''''''''''''''''''''''''''''''''''''''''''''''''''''''''''''''''''''''''''''''''''''''''''\n",
        "                                # PART-2: Start again with data #\n",
        "'''''''''''''''''''''''''''''''''''''''''''''''''''''''''''''''''''''''''''''''''''''''''''''''''''\n",
        "df=data[data.Active==True].copy()\n",
        "print(df.shape)"
      ]
    },
    {
      "cell_type": "code",
      "execution_count": 14,
      "metadata": {
        "colab": {
          "base_uri": "https://localhost:8080/"
        },
        "id": "dkrvon56qU3t",
        "outputId": "3093807a-bc73-40c5-c393-40bf84c38b2f"
      },
      "outputs": [
        {
          "name": "stdout",
          "output_type": "stream",
          "text": [
            "done 8\n"
          ]
        }
      ],
      "source": [
        "\n",
        "\n",
        "# 8. for all the suppliers in catalogs_all, get their catalog folder_ids \n",
        "for i, row in df.iterrows():\n",
        "    try:\n",
        "        print(f'{i+1}/{len(df)}', end='\\r')\n",
        "        tree=['Supplier Catalogues', 'AUTOMATION', 'Catalogs_ALL', row.Distributor, 'catalog']\n",
        "        catalog_folder_id=g.find_gdrive_folder_id(tree=tree, folder_id='root')\n",
        "        df.loc[i, 'catalog_folder_id']=catalog_folder_id\n",
        "    except Exception as e:\n",
        "        print('Error: ', row['Distributor'], e)\n",
        "print('done 8')\n"
      ]
    },
    {
      "cell_type": "code",
      "execution_count": 15,
      "metadata": {},
      "outputs": [
        {
          "data": {
            "text/html": [
              "<div>\n",
              "<style scoped>\n",
              "    .dataframe tbody tr th:only-of-type {\n",
              "        vertical-align: middle;\n",
              "    }\n",
              "\n",
              "    .dataframe tbody tr th {\n",
              "        vertical-align: top;\n",
              "    }\n",
              "\n",
              "    .dataframe thead th {\n",
              "        text-align: right;\n",
              "    }\n",
              "</style>\n",
              "<table border=\"1\" class=\"dataframe\">\n",
              "  <thead>\n",
              "    <tr style=\"text-align: right;\">\n",
              "      <th></th>\n",
              "      <th>Distributor</th>\n",
              "      <th>catalog_folder_id</th>\n",
              "    </tr>\n",
              "  </thead>\n",
              "  <tbody>\n",
              "    <tr>\n",
              "      <th>34</th>\n",
              "      <td>EpilsonWholesale</td>\n",
              "      <td>16wTz0gQ-9pHeOgtMQZ-Zke0n1uKcZP5B</td>\n",
              "    </tr>\n",
              "    <tr>\n",
              "      <th>35</th>\n",
              "      <td>GSCommodityTrading</td>\n",
              "      <td>1Xti7DnVyqeQLz3OdAlaN9IzPFTWOT_ri</td>\n",
              "    </tr>\n",
              "    <tr>\n",
              "      <th>36</th>\n",
              "      <td>MinMaxDeals</td>\n",
              "      <td>17R9JKpa2qvTm9FAyYWuftoLK1CKAG332</td>\n",
              "    </tr>\n",
              "    <tr>\n",
              "      <th>37</th>\n",
              "      <td>KNTradingLLC</td>\n",
              "      <td>1Xkc6uqazp96WB2DlirIACnWG_XtF5TCW</td>\n",
              "    </tr>\n",
              "    <tr>\n",
              "      <th>38</th>\n",
              "      <td>EcomWholesaleDeals</td>\n",
              "      <td>1plBkIXC5Je-J2NOUZr84YsQlCcFoBIMz</td>\n",
              "    </tr>\n",
              "    <tr>\n",
              "      <th>39</th>\n",
              "      <td>EmpireDiscount</td>\n",
              "      <td>1Rr2fLvOut5rJH2Rx0VMdauoS3HYEWqtn</td>\n",
              "    </tr>\n",
              "    <tr>\n",
              "      <th>40</th>\n",
              "      <td>BGSales</td>\n",
              "      <td>1cNhxMDyTdSov6VT1Q1rfyqsSkQH_xgN0</td>\n",
              "    </tr>\n",
              "  </tbody>\n",
              "</table>\n",
              "</div>"
            ],
            "text/plain": [
              "           Distributor                  catalog_folder_id\n",
              "34  EpilsonWholesale    16wTz0gQ-9pHeOgtMQZ-Zke0n1uKcZP5B\n",
              "35  GSCommodityTrading  1Xti7DnVyqeQLz3OdAlaN9IzPFTWOT_ri\n",
              "36  MinMaxDeals         17R9JKpa2qvTm9FAyYWuftoLK1CKAG332\n",
              "37  KNTradingLLC        1Xkc6uqazp96WB2DlirIACnWG_XtF5TCW\n",
              "38  EcomWholesaleDeals  1plBkIXC5Je-J2NOUZr84YsQlCcFoBIMz\n",
              "39  EmpireDiscount      1Rr2fLvOut5rJH2Rx0VMdauoS3HYEWqtn\n",
              "40  BGSales             1cNhxMDyTdSov6VT1Q1rfyqsSkQH_xgN0"
            ]
          },
          "execution_count": 15,
          "metadata": {},
          "output_type": "execute_result"
        }
      ],
      "source": [
        "df[['Distributor','catalog_folder_id']]"
      ]
    },
    {
      "cell_type": "code",
      "execution_count": 16,
      "metadata": {
        "colab": {
          "base_uri": "https://localhost:8080/"
        },
        "id": "OtMXLBaLqU3t",
        "outputId": "7fcd430a-1e68-4430-d2c3-2c21b2015419"
      },
      "outputs": [
        {
          "name": "stdout",
          "output_type": "stream",
          "text": [
            "done 9\n"
          ]
        }
      ],
      "source": [
        "# 9. loop on supplier folders id df and download all catalogs from gdrive\n",
        "# _ = df.catalog_folder_id.apply(lambda x: g.download_files(gdrive_folder_id=x, local_folder_path=gdrive_catalogs))\n",
        "\n",
        "for i, row in df[['Distributor','catalog_folder_id']].iterrows():\n",
        "    print(f'{i+1}/{len(df)}', end='\\r')\n",
        "\n",
        "    try:\n",
        "        dist, _id=row['Distributor'], row['catalog_folder_id']\n",
        "        g.download_files(gdrive_folder_id=_id, local_folder_path=gdrive_catalogs)\n",
        "        time.sleep(3)\n",
        "    except Exception as e:\n",
        "        print('Error: ', dist, e)\n",
        "print('done 9')"
      ]
    },
    {
      "cell_type": "code",
      "execution_count": 17,
      "metadata": {
        "colab": {
          "base_uri": "https://localhost:8080/"
        },
        "id": "Xpzkc_3MqU3u",
        "outputId": "0326ed2b-41b9-4395-aeba-157e4b54644d"
      },
      "outputs": [
        {
          "name": "stdout",
          "output_type": "stream",
          "text": [
            "done 10\n"
          ]
        }
      ],
      "source": [
        "# 10. create new catalogs dict obj\n",
        "\n",
        "catalogs={}\n",
        "for i, fn in enumerate(os.listdir(gdrive_catalogs)):\n",
        "    print(f'{i+1}/{len(os.listdir(gdrive_catalogs))}', end='\\r')\n",
        "\n",
        "    if '.xlsx' in fn or 'xls' in fn: tmpdf=pd.read_excel(f'{gdrive_catalogs}/{fn}')\n",
        "    if '.csv'   in fn: tmpdf=pd.read_csv(f'{gdrive_catalogs}/{fn}')\n",
        "\n",
        "    fn=fn.split('.')[0]\n",
        "\n",
        "    catalogs[fn]=tmpdf\n",
        "    # catalogs[fn.replace('.xlsx','').replace('.csv','').replace('.csv','')]=tmpdf\n",
        "\n",
        "print('done 10')\n"
      ]
    },
    {
      "cell_type": "code",
      "execution_count": 19,
      "metadata": {
        "colab": {
          "base_uri": "https://localhost:8080/"
        },
        "id": "RB8HeEQuqU3u",
        "outputId": "d838bdba-d0dd-4d3e-cc9a-693efe6fd2cb"
      },
      "outputs": [],
      "source": [
        "# sanity checks to check all the required columns are present\n",
        "for name, tmpdf in catalogs.items():\n",
        "    # pdb.set_trace()\n",
        "    id_columns_name\t= df[df.Distributor==name].id_columns_name.item()\n",
        "    id_columns_type = df[df.Distributor==name].id_columns_type.item()\n",
        "    price_column    = df[df.Distributor==name].price_column.item()\n",
        "\n",
        "    if id_columns_name not in tmpdf.columns: print(f'{name} {id_columns_name} column missing')\n",
        "    if price_column not in tmpdf.columns: print(f'{name} {price_column} column missing')"
      ]
    },
    {
      "cell_type": "code",
      "execution_count": 20,
      "metadata": {
        "colab": {
          "base_uri": "https://localhost:8080/"
        },
        "id": "NnFItc8WqU3u",
        "outputId": "a5cf72f4-f83c-4340-f837-bd339b8c6eec"
      },
      "outputs": [
        {
          "name": "stdout",
          "output_type": "stream",
          "text": [
            "All Suppliers are Labeled\n",
            "done 11\n"
          ]
        }
      ],
      "source": [
        "# 11. label data\n",
        "df, catalogs=label_data(df, catalogs)\n",
        "print('done 11')"
      ]
    },
    {
      "cell_type": "code",
      "execution_count": 21,
      "metadata": {
        "colab": {
          "base_uri": "https://localhost:8080/",
          "height": 222
        },
        "id": "yjAyDln9qU3u",
        "outputId": "52076892-3ee8-4e95-a21c-77cdef51837c"
      },
      "outputs": [],
      "source": [
        "# preprocess each supplier separately\n",
        "for name, tmpdf in catalogs.items():\n",
        "    if name == 'NUK':                tmpdf=preprocess_nuk(tmpdf)\n",
        "    if name == 'BGSales':            tmpdf=preprocess_bgsales(tmpdf)\n",
        "    if name == 'EcomWholesaleDeals': tmpdf=preprocess_ewd(tmpdf)\n",
        "\n",
        "    catalogs[name]=tmpdf"
      ]
    },
    {
      "cell_type": "code",
      "execution_count": 22,
      "metadata": {
        "id": "uNxUj1OqqU3u"
      },
      "outputs": [],
      "source": [
        "# label encode supplier name in df dataframe\n",
        "# keys=df.Distributor.unique().tolist()\n",
        "# values=['TRI'+str(i).zfill(5) for i in range(len(keys))]\n",
        "# labels_map=dict(zip(keys, values))\n",
        "# df['distributor_key'] = df.Distributor.map(labels_map)\n",
        "\n",
        "# now this is being done manually\n",
        "# print('done 12')\n",
        "\n",
        "\n",
        "# apply labels_map for each catalog in catalog dict of dfs\n",
        "for key, tmpdf in catalogs.items():\n",
        "    tmpdf['distributor_key']=df[df.Distributor==key].distributor_key.item()\n",
        "    catalogs[key]=tmpdf\n",
        "\n",
        "\n",
        "# 12. upload updated catalog_links df\n",
        "# df.drop(['folder_id', 'catalog_folder_id'], axis=1).to_excel(f'{tmp_dir}/Catalogs Link.xlsx', index=False)"
      ]
    },
    {
      "cell_type": "code",
      "execution_count": 23,
      "metadata": {
        "colab": {
          "base_uri": "https://localhost:8080/"
        },
        "id": "WBa5V88XqU3v",
        "outputId": "22bd6c11-1dfe-44b4-b003-68a3b91b6206"
      },
      "outputs": [
        {
          "name": "stdout",
          "output_type": "stream",
          "text": [
            "14\n",
            "done 12\n"
          ]
        }
      ],
      "source": [
        "# 13. check for missing values in each column\n",
        "missing_total=0\n",
        "for name, tmpdf in catalogs.items():\n",
        "    # print(name, tmpdf['each_price'].isnull().sum())\n",
        "    missing_total+=tmpdf['each_price'].isnull().sum()\n",
        "print(missing_total)\n",
        "print('done 12')"
      ]
    },
    {
      "cell_type": "code",
      "execution_count": 25,
      "metadata": {},
      "outputs": [
        {
          "data": {
            "text/plain": [
              "dict_keys(['MinMaxDeals', 'EmpireDiscount', 'KNTradingLLC', 'BGSales', 'EpilsonWholesale', 'GSCommodityTrading', 'EcomWholesaleDeals'])"
            ]
          },
          "execution_count": 25,
          "metadata": {},
          "output_type": "execute_result"
        }
      ],
      "source": [
        "catalogs.keys()"
      ]
    },
    {
      "cell_type": "code",
      "execution_count": 26,
      "metadata": {
        "colab": {
          "base_uri": "https://localhost:8080/"
        },
        "id": "xsdSgg4UqU3v",
        "outputId": "6a8a79d8-4fc0-4dc9-d8dc-d0ef7ce5f7c6"
      },
      "outputs": [
        {
          "name": "stdout",
          "output_type": "stream",
          "text": [
            "after concating all asinsdf:  (275, 3) 13\n",
            "after dropna:  (258, 3) 0\n",
            "after preprocess_price:  (258, 3) 0\n",
            "after reset_index:  (258, 3) 0\n",
            "after saving:  (258, 3)\n",
            "done 13\n"
          ]
        }
      ],
      "source": [
        "# 13. preprocess asins\n",
        "asins_suppliers=df[df.id_columns_type=='asin'].Distributor.tolist()\n",
        "\n",
        "tmpli=[]\n",
        "for x in asins_suppliers:\n",
        "  try:\n",
        "    tmpli.append(catalogs[x][['asin', 'each_price', 'distributor_key']])\n",
        "  except Exception as e:\n",
        "    print(f'Error in {x}: ', e)\n",
        "asinsdf = pd.concat(tmpli)\n",
        "print('after concating all asinsdf: ',asinsdf.shape, asinsdf.each_price.isnull().sum())\n",
        "\n",
        "asinsdf=asinsdf.dropna()\n",
        "print('after dropna: ',asinsdf.shape, asinsdf.each_price.isnull().sum())\n",
        "\n",
        "asinsdf=preprocess_price(asinsdf)\n",
        "print('after preprocess_price: ',asinsdf.shape, asinsdf.each_price.isnull().sum())\n",
        "\n",
        "asinsdf=asinsdf.reset_index(drop=True)\n",
        "print('after reset_index: ',asinsdf.shape, asinsdf.each_price.isnull().sum())\n",
        "\n",
        "asinsdf.to_excel(f'{merged_dir}/asinsdf.xlsx', index=False)\n",
        "print('after saving: ', asinsdf.shape)\n",
        "print('done 13')"
      ]
    },
    {
      "cell_type": "code",
      "execution_count": 27,
      "metadata": {
        "colab": {
          "base_uri": "https://localhost:8080/"
        },
        "id": "jcN5vKcSqU3v",
        "outputId": "6411bf27-3270-4973-c9e8-1fabfc7561f8"
      },
      "outputs": [
        {
          "name": "stdout",
          "output_type": "stream",
          "text": [
            "after concat:  (2158, 3) 1\n",
            "after dropna:  (2088, 3) 0\n",
            "after preprocess_upc:  (1870, 3) 0\n",
            "after preprocess_price:  (1869, 3) 0\n",
            "after reset_index:  (1869, 3) 0\n",
            "after save:  (1869, 3) 0\n",
            "done 14\n"
          ]
        }
      ],
      "source": [
        "# 14. preprocess upcs\n",
        "upc_suppliers=df[df.id_columns_type=='upc'].Distributor.tolist()\n",
        "# upcsdf = pd.concat([catalogs[x][['upc', 'each_price', 'distributor_key']] for x in upc_suppliers])\n",
        "tmpli=[]\n",
        "for x in upc_suppliers:\n",
        "  try:\n",
        "    tmpli.append(catalogs[x][['upc', 'each_price', 'distributor_key']])\n",
        "  except Exception as e:\n",
        "    print(f'Error in {x}: {e}')\n",
        "upcsdf = pd.concat(tmpli)\n",
        "print('after concat: ',upcsdf.shape, upcsdf.each_price.isnull().sum())\n",
        "\n",
        "upcsdf=upcsdf.dropna(subset=['upc', 'each_price'])\n",
        "print('after dropna: ',upcsdf.shape, upcsdf.each_price.isnull().sum())\n",
        "\n",
        "upcsdf=preprocess_upc(upcsdf)\n",
        "print('after preprocess_upc: ',upcsdf.shape, upcsdf.each_price.isnull().sum())\n",
        "\n",
        "upcsdf=preprocess_price(upcsdf)\n",
        "print('after preprocess_price: ',upcsdf.shape, upcsdf.each_price.isnull().sum())\n",
        "\n",
        "upcsdf=upcsdf.reset_index(drop=True)\n",
        "print('after reset_index: ',upcsdf.shape, upcsdf.each_price.isnull().sum())\n",
        "\n",
        "upcsdf.to_excel(f'{merged_dir}/upcsdf.xlsx', index=False)\n",
        "print('after save: ',upcsdf.shape, upcsdf.each_price.isnull().sum())\n",
        "\n",
        "print('done 14')"
      ]
    },
    {
      "cell_type": "code",
      "execution_count": 28,
      "metadata": {
        "colab": {
          "base_uri": "https://localhost:8080/"
        },
        "id": "gq0jA9-QqU3v",
        "outputId": "7e1b9962-eb9e-48cf-89f7-3b4648e0e114"
      },
      "outputs": [
        {
          "name": "stdout",
          "output_type": "stream",
          "text": [
            "done 16\n"
          ]
        }
      ],
      "source": [
        "# 15. upload merged asin and upc on gdrive\n",
        "tree=['Supplier Catalogues', 'AUTOMATION', 'ScanUnlimited_ALL']\n",
        "folder_id=g.find_gdrive_folder_id(tree, folder_id='root')\n",
        "# delete existing ScanUnlimited_ALL\n",
        "g.delete_by_id(folder_id)\n",
        "# create new ScanUnlimited_ALL\n",
        "tree=['Supplier Catalogues', 'AUTOMATION']\n",
        "parent_folder_id=g.find_gdrive_folder_id(tree, folder_id='root')\n",
        "new_folder_id=g.create_folder(parent_folder_id, 'ScanUnlimited_ALL')\n",
        "g.upload_file(new_folder_id, f'{merged_dir}/asinsdf.xlsx')\n",
        "g.upload_file(new_folder_id, f'{merged_dir}/upcsdf.xlsx')\n",
        "print('done 16')"
      ]
    },
    {
      "cell_type": "code",
      "execution_count": 29,
      "metadata": {
        "colab": {
          "base_uri": "https://localhost:8080/"
        },
        "id": "WCoSqkCsqU3w",
        "outputId": "b845edae-e73a-462f-90f5-7f235c5d038f"
      },
      "outputs": [
        {
          "name": "stdout",
          "output_type": "stream",
          "text": [
            "\n",
            "    Total:   2127\n",
            "    upcsdf:  1869\n",
            "    asinsdf: 258\n",
            "\n"
          ]
        }
      ],
      "source": [
        "print(f'''\n",
        "    Total:   {asinsdf.shape[0]+upcsdf.shape[0]}\n",
        "    upcsdf:  {upcsdf.shape[0]}\n",
        "    asinsdf: {asinsdf.shape[0]}\n",
        "''')"
      ]
    },
    {
      "cell_type": "code",
      "execution_count": 30,
      "metadata": {
        "id": "oAoKRldGqU3w"
      },
      "outputs": [],
      "source": [
        "try: shutil.rmtree(TMP_DIR)\n",
        "except: pass"
      ]
    },
    {
      "cell_type": "markdown",
      "metadata": {
        "id": "PmId6qptqU3w"
      },
      "source": [
        "# TODO"
      ]
    },
    {
      "cell_type": "code",
      "execution_count": null,
      "metadata": {
        "id": "VaEK6A6sqU3w"
      },
      "outputs": [],
      "source": [
        "# add sheet name column so it shortens the download function\n",
        "# change ignore to active\n",
        "# add other columns list column"
      ]
    },
    {
      "cell_type": "code",
      "execution_count": null,
      "metadata": {
        "id": "AFgmacFXqU3w"
      },
      "outputs": [],
      "source": []
    },
    {
      "cell_type": "markdown",
      "metadata": {
        "id": "ecLRyLWuqU3w"
      },
      "source": [
        "# Send Emails"
      ]
    },
    {
      "cell_type": "code",
      "execution_count": null,
      "metadata": {
        "id": "ZdoWt-N_qU3w"
      },
      "outputs": [],
      "source": [
        "def send_email(addr, subject, body):\n",
        "    fromaddr = \"contact@tricyons.com\"\n",
        "    pswd     = \"tricyons123\"\n",
        "\n",
        "    msg = MIMEMultipart()\n",
        "    msg['From'] = formataddr(('Tricyons LLC', fromaddr))\n",
        "    msg['To'] = addr\n",
        "    msg['Subject'] = subject\n",
        "    body = body\n",
        "\n",
        "    msg.attach(MIMEText(body, 'plain'))\n",
        "    # smtpserver = smtplib.SMTP(\"mail.tricyons.com\", 465) # tls\n",
        "\n",
        "    server = smtplib.SMTP(\"mail.tricyons.com\", 26) # non-tls\n",
        "    server.starttls()\n",
        "    server.login(fromaddr, pswd)\n",
        "\n",
        "    text = msg.as_string()\n",
        "    server.sendmail(fromaddr, addr, text)\n",
        "    server.quit()    \n",
        "    return True"
      ]
    },
    {
      "cell_type": "markdown",
      "metadata": {
        "id": "fKDWjX_xqU3x"
      },
      "source": [
        "### Ask Catalog"
      ]
    },
    {
      "cell_type": "code",
      "execution_count": null,
      "metadata": {
        "id": "GNUYT7dVqU3x"
      },
      "outputs": [],
      "source": [
        "emailsdf=data[(data.Active==True) & (data.Type=='EMAIL')].sort_values('Email', ascending=False)\n",
        "print(emailsdf.shape)\n",
        "emailsdf"
      ]
    },
    {
      "cell_type": "code",
      "execution_count": null,
      "metadata": {
        "id": "8vIGpWVcqU3x"
      },
      "outputs": [],
      "source": [
        "with open('./email_catalog.txt', 'r') as f:\n",
        "    email_body_template = f.read()\n",
        "\n",
        "print(email_body_template)"
      ]
    },
    {
      "cell_type": "code",
      "execution_count": null,
      "metadata": {
        "id": "tnPJNwcdqU3x"
      },
      "outputs": [],
      "source": [
        "email_subject='Updated Catalog'\n",
        "\n",
        "for i, row in emailsdf.iterrows():\n",
        "    print(f'{i+1}/{emailsdf.shape[0]}', end='\\r')\n",
        "\n",
        "    email_to=row.Email.strip().lower()\n",
        "\n",
        "    email_body=email_body_template.replace('SUBJECT_NAME_TAG', row.Email_Subject)\n",
        "\n",
        "    email_sent = send_email(email_to, email_subject, email_body)\n",
        "    if not email_sent: print(f'Error in sending email to: {row.Email_Subject}')\n",
        "\n",
        "    time.sleep(3)"
      ]
    },
    {
      "cell_type": "code",
      "execution_count": null,
      "metadata": {
        "id": "EqSRiKRLqU3x"
      },
      "outputs": [],
      "source": []
    },
    {
      "cell_type": "markdown",
      "metadata": {
        "id": "O-1qhNxMqU3x"
      },
      "source": [
        "### Account Open"
      ]
    },
    {
      "cell_type": "code",
      "execution_count": null,
      "metadata": {
        "id": "A7FszVg_qU3x"
      },
      "outputs": [],
      "source": [
        "\n",
        "\n",
        "with open('./email_template.txt', 'r') as f:\n",
        "    email_body_template = f.read()\n",
        "\n",
        "print(email_body_template)\n",
        "\n",
        "\n",
        "# email_to='faysalaslam887@gmail.com'\n",
        "# email_subject = \"Testing Email Body 3 Spaces\"\n",
        "# email_body=email_body_template.replace('COMPANY_NAME_TAG', 'Test Company')\n",
        "# send_email(email_to, email_subject, email_body)\n",
        "\n",
        "# g=GDrive()\n",
        "\n",
        "\n",
        "'''\n",
        "tmp_dir='./tmp/'\n",
        "\n",
        "tree=['Supplier Catalogues', 'Brands For Auto-Email']\n",
        "g.supplier_id=g.find_gdrive_folder_id(tree=tree, folder_id='root')\n",
        "g.download_files(g.supplier_id, tmp_dir)\n",
        "\n",
        "all_suppliers=pd.read_excel(f'{tmp_dir}/All Suppliers.xlsx')\n",
        "print(all_suppliers.shape)\n",
        "\n",
        "all_suppliers.head()\n",
        "\n",
        "df=all_suppliers.dropna(subset=['Email'], axis=0).reset_index(drop=True)\n",
        "print(df.shape)\n",
        "df.head()\n",
        "\n",
        "# email_subject = \"Wholesale Account Opening\"\n",
        "\n",
        "# for i, row in df.iloc[78:].iterrows():\n",
        "#     print(f'{i+1}/{df.shape[0]}', end='\\r')\n",
        "\n",
        "#     email_to=row.Email.strip().lower()\n",
        "\n",
        "#     supplier_name = row.Name.strip()\n",
        "\n",
        "#     email_body=email_body_template.replace('COMPANY_NAME_TAG', supplier_name)\n",
        "\n",
        "#     email_sent = send_email(email_to, email_subject, email_body)\n",
        "#     if not email_sent: print(f'Error in sending email to: {supplier_name}')\n",
        "\n",
        "#     time.sleep(3)\n",
        "    \n",
        "'''"
      ]
    },
    {
      "cell_type": "code",
      "execution_count": null,
      "metadata": {
        "id": "sQgSgB_fqU3x"
      },
      "outputs": [],
      "source": []
    },
    {
      "cell_type": "markdown",
      "metadata": {
        "id": "7GYCevByqU3y"
      },
      "source": [
        "# Test New Catalogs"
      ]
    },
    {
      "cell_type": "code",
      "execution_count": null,
      "metadata": {
        "id": "7yJ55Hmeu3lg"
      },
      "outputs": [],
      "source": [
        "from utils import *"
      ]
    },
    {
      "cell_type": "code",
      "execution_count": null,
      "metadata": {},
      "outputs": [],
      "source": [
        "# EpilsonWholesale\n",
        "df2=get_catalog_google_sheets_2(url, sheet_name='Sheet1')\n",
        "df2=df2.iloc[1:]\n",
        "df2=make_first_row_header(df2)\n",
        "df2=df2[~df2.ASIN.astype(str).str.contains('--')]\n",
        "df2=df2.dropna()"
      ]
    },
    {
      "cell_type": "code",
      "execution_count": null,
      "metadata": {},
      "outputs": [],
      "source": [
        "# GSCommodityTrading\n",
        "df1=get_catalog_google_sheets(url).reset_index(drop=True)\n",
        "print(df1.shape)\n",
        "df1=df1.iloc[9:]\n",
        "df1.head(20)\n"
      ]
    },
    {
      "cell_type": "code",
      "execution_count": null,
      "metadata": {},
      "outputs": [],
      "source": [
        "# MinMaxDeals\n",
        "df1=get_catalog_google_sheets(url).reset_index(drop=True)\n",
        "print(df1.shape)"
      ]
    },
    {
      "cell_type": "code",
      "execution_count": null,
      "metadata": {},
      "outputs": [],
      "source": [
        "# KNTradingLLC\n",
        "df2=get_catalog_google_sheets_2(url, sheet_name='Sheet1')\n",
        "df2=make_first_row_header(df2)\n",
        "df2=df2[[x for x in df2.columns.tolist() if x!=None]]\n"
      ]
    },
    {
      "cell_type": "code",
      "execution_count": null,
      "metadata": {},
      "outputs": [],
      "source": [
        "# EcomWholesaleDeals \n",
        "\n"
      ]
    },
    {
      "cell_type": "code",
      "execution_count": null,
      "metadata": {},
      "outputs": [],
      "source": [
        "links={\n",
        "    'EpilsonWholesale': \"https://img1.wsimg.com/blobby/go/271277f5-5f94-472c-b153-578386146f02/downloads/COSMETIC%20SPREED%20SHEET%20%20(1).xlsx?ver=1680857754932\",\n",
        "    'GSCommodityTrading': \"https://docs.google.com/spreadsheets/d/1EJ8kbB89SYv5fYeeCgds5ue7p_3nyckyN_yujUquJeo/edit#gid=0\",\n",
        "    'MinMaxDeals': \"https://docs.google.com/spreadsheets/d/151_G7FTLfJP7y9kypBEF4sYN7gICIrYT/edit\",\n",
        "    'KNTradingLLC': \"https://06315f73-014b-478e-b312-e53df7038d3a.filesusr.com/ugd/cc4fa6_9d8a073014d4499d8d117b6724916ea8.xlsx?dn=3_23%20KN%20INVENTORY.xlsx\",\n",
        "    'EcomWholesaleDeals': '1EIzkO1ES0v1VcabxOUQ7VaREIjMnxSgB'\n",
        "}\n"
      ]
    },
    {
      "cell_type": "code",
      "execution_count": null,
      "metadata": {},
      "outputs": [],
      "source": [
        "url=links['GSCommodityTrading']\n",
        "url"
      ]
    },
    {
      "cell_type": "code",
      "execution_count": null,
      "metadata": {
        "colab": {
          "base_uri": "https://localhost:8080/",
          "height": 67
        },
        "id": "lyCnzbM7qU3y",
        "outputId": "76c34518-098a-4314-8789-5e6fbe9aacf2"
      },
      "outputs": [],
      "source": [
        "df1=get_catalog_google_sheets(url).reset_index(drop=True)\n",
        "print(df1.shape)\n",
        "df1=df1.iloc[9:]\n",
        "df1.head()\n"
      ]
    },
    {
      "cell_type": "code",
      "execution_count": null,
      "metadata": {
        "colab": {
          "base_uri": "https://localhost:8080/",
          "height": 224
        },
        "id": "dbcS6K5dqU3y",
        "outputId": "cdef98c8-025c-4a9d-dd82-1599743923d6"
      },
      "outputs": [],
      "source": [
        "df2=get_catalog_google_sheets_2(url, sheet_name='Sheet1')\n",
        "df2=make_first_row_header(df2)\n",
        "\n",
        "df2=df2[[x for x in df2.columns.tolist() if x!=None]]\n",
        "# df2=df2.dropna()\n",
        "\n",
        "print(df2.shape)\n",
        "df2.head()"
      ]
    },
    {
      "cell_type": "code",
      "execution_count": null,
      "metadata": {
        "colab": {
          "base_uri": "https://localhost:8080/"
        },
        "id": "mC9eeZNRud2l",
        "outputId": "965cbb1e-adf2-4285-fbe5-416e76d2b7dc"
      },
      "outputs": [],
      "source": [
        "df3=get_catalog_google_sheets_3(url)\n",
        "df3.shape\n"
      ]
    },
    {
      "cell_type": "code",
      "execution_count": null,
      "metadata": {
        "colab": {
          "base_uri": "https://localhost:8080/"
        },
        "id": "otDAuR4Uud7j",
        "outputId": "2b130a10-8e9c-4b0a-cb4a-a368e5b67d5c"
      },
      "outputs": [],
      "source": [
        "df4=get_catalog_google_sheets_4(url)\n",
        "print(df4.shape)\n",
        "df4.head()"
      ]
    },
    {
      "cell_type": "code",
      "execution_count": null,
      "metadata": {
        "id": "5qmY0Zi5ud_j"
      },
      "outputs": [],
      "source": []
    }
  ],
  "metadata": {
    "colab": {
      "provenance": []
    },
    "kernelspec": {
      "display_name": "Python 3.9.12 ('base')",
      "language": "python",
      "name": "python3"
    },
    "language_info": {
      "codemirror_mode": {
        "name": "ipython",
        "version": 3
      },
      "file_extension": ".py",
      "mimetype": "text/x-python",
      "name": "python",
      "nbconvert_exporter": "python",
      "pygments_lexer": "ipython3",
      "version": "3.9.12"
    },
    "orig_nbformat": 4,
    "vscode": {
      "interpreter": {
        "hash": "760e8a02d58bef947fb67df29745f4128d863e8829938df1158e073523dddf20"
      }
    }
  },
  "nbformat": 4,
  "nbformat_minor": 0
}
